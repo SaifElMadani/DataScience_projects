{
  "nbformat": 4,
  "nbformat_minor": 0,
  "metadata": {
    "colab": {
      "name": "Classifying fraudulent firms.ipynb",
      "provenance": [],
      "collapsed_sections": [],
      "authorship_tag": "ABX9TyMi51VMwufX/FKVgdbnnIEY"
    },
    "kernelspec": {
      "name": "python3",
      "display_name": "Python 3"
    }
  },
  "cells": [
    {
      "cell_type": "markdown",
      "metadata": {
        "id": "dYu0SpNiKEiO"
      },
      "source": [
        "Dans ce projet j'étudie différents models de machine learning pour prédire l'état frauduleux ou non de certaines entreprises.\r\n",
        "\r\n",
        "\r\n"
      ]
    },
    {
      "cell_type": "code",
      "metadata": {
        "id": "1_yziFslwPiH"
      },
      "source": [
        "import pandas as pd\r\n",
        "import numpy as np\r\n",
        "import warnings  \r\n",
        "warnings.filterwarnings('ignore')\r\n",
        "import seaborn as sns\r\n",
        "import matplotlib.pyplot as plt\r\n",
        "%matplotlib inline\r\n",
        "import itertools\r\n",
        "from sklearn import model_selection\r\n",
        "from sklearn.linear_model import LogisticRegression\r\n",
        "from sklearn.metrics import  accuracy_score, f1_score, precision_score,confusion_matrix, recall_score, roc_auc_score,classification_report,roc_curve\r\n",
        "from xgboost import XGBClassifier\r\n",
        "from sklearn.ensemble import RandomForestClassifier,AdaBoostClassifier,GradientBoostingClassifier\r\n",
        "from sklearn.svm import SVC \r\n",
        "from sklearn.model_selection import train_test_split,cross_val_score\r\n",
        "from sklearn.preprocessing import StandardScaler\r\n",
        "from sklearn.neighbors import KNeighborsClassifier \r\n",
        "from sklearn.neural_network import MLPClassifier\r\n",
        "from sklearn.tree import DecisionTreeClassifier\r\n",
        "from sklearn.naive_bayes import GaussianNB\r\n",
        "from sklearn import metrics\r\n",
        "\r\n",
        "plt.style.use('fivethirtyeight')"
      ],
      "execution_count": null,
      "outputs": []
    },
    {
      "cell_type": "code",
      "metadata": {
        "id": "zRYdvhNqW3hK"
      },
      "source": [
        "df=pd.read_csv(\"audit_data.csv\")"
      ],
      "execution_count": null,
      "outputs": []
    },
    {
      "cell_type": "code",
      "metadata": {
        "colab": {
          "base_uri": "https://localhost:8080/",
          "height": 224
        },
        "id": "yxo30EEI31Y5",
        "outputId": "d7fa577f-52bd-46e0-a98f-e3eaf76edf58"
      },
      "source": [
        "df.head()"
      ],
      "execution_count": null,
      "outputs": [
        {
          "output_type": "execute_result",
          "data": {
            "text/html": [
              "<div>\n",
              "<style scoped>\n",
              "    .dataframe tbody tr th:only-of-type {\n",
              "        vertical-align: middle;\n",
              "    }\n",
              "\n",
              "    .dataframe tbody tr th {\n",
              "        vertical-align: top;\n",
              "    }\n",
              "\n",
              "    .dataframe thead th {\n",
              "        text-align: right;\n",
              "    }\n",
              "</style>\n",
              "<table border=\"1\" class=\"dataframe\">\n",
              "  <thead>\n",
              "    <tr style=\"text-align: right;\">\n",
              "      <th></th>\n",
              "      <th>Sector_score</th>\n",
              "      <th>LOCATION_ID</th>\n",
              "      <th>PARA_A</th>\n",
              "      <th>Score_A</th>\n",
              "      <th>Risk_A</th>\n",
              "      <th>PARA_B</th>\n",
              "      <th>Score_B</th>\n",
              "      <th>Risk_B</th>\n",
              "      <th>TOTAL</th>\n",
              "      <th>numbers</th>\n",
              "      <th>Score_B.1</th>\n",
              "      <th>Risk_C</th>\n",
              "      <th>Money_Value</th>\n",
              "      <th>Score_MV</th>\n",
              "      <th>Risk_D</th>\n",
              "      <th>District_Loss</th>\n",
              "      <th>PROB</th>\n",
              "      <th>RiSk_E</th>\n",
              "      <th>History</th>\n",
              "      <th>Prob</th>\n",
              "      <th>Risk_F</th>\n",
              "      <th>Score</th>\n",
              "      <th>Inherent_Risk</th>\n",
              "      <th>CONTROL_RISK</th>\n",
              "      <th>Detection_Risk</th>\n",
              "      <th>Audit_Risk</th>\n",
              "      <th>Risk</th>\n",
              "    </tr>\n",
              "  </thead>\n",
              "  <tbody>\n",
              "    <tr>\n",
              "      <th>0</th>\n",
              "      <td>3.89</td>\n",
              "      <td>23</td>\n",
              "      <td>4.18</td>\n",
              "      <td>0.6</td>\n",
              "      <td>2.508</td>\n",
              "      <td>2.50</td>\n",
              "      <td>0.2</td>\n",
              "      <td>0.500</td>\n",
              "      <td>6.68</td>\n",
              "      <td>5.0</td>\n",
              "      <td>0.2</td>\n",
              "      <td>1.0</td>\n",
              "      <td>3.38</td>\n",
              "      <td>0.2</td>\n",
              "      <td>0.676</td>\n",
              "      <td>2</td>\n",
              "      <td>0.2</td>\n",
              "      <td>0.4</td>\n",
              "      <td>0</td>\n",
              "      <td>0.2</td>\n",
              "      <td>0.0</td>\n",
              "      <td>2.4</td>\n",
              "      <td>8.574</td>\n",
              "      <td>0.4</td>\n",
              "      <td>0.5</td>\n",
              "      <td>1.7148</td>\n",
              "      <td>1</td>\n",
              "    </tr>\n",
              "    <tr>\n",
              "      <th>1</th>\n",
              "      <td>3.89</td>\n",
              "      <td>6</td>\n",
              "      <td>0.00</td>\n",
              "      <td>0.2</td>\n",
              "      <td>0.000</td>\n",
              "      <td>4.83</td>\n",
              "      <td>0.2</td>\n",
              "      <td>0.966</td>\n",
              "      <td>4.83</td>\n",
              "      <td>5.0</td>\n",
              "      <td>0.2</td>\n",
              "      <td>1.0</td>\n",
              "      <td>0.94</td>\n",
              "      <td>0.2</td>\n",
              "      <td>0.188</td>\n",
              "      <td>2</td>\n",
              "      <td>0.2</td>\n",
              "      <td>0.4</td>\n",
              "      <td>0</td>\n",
              "      <td>0.2</td>\n",
              "      <td>0.0</td>\n",
              "      <td>2.0</td>\n",
              "      <td>2.554</td>\n",
              "      <td>0.4</td>\n",
              "      <td>0.5</td>\n",
              "      <td>0.5108</td>\n",
              "      <td>0</td>\n",
              "    </tr>\n",
              "    <tr>\n",
              "      <th>2</th>\n",
              "      <td>3.89</td>\n",
              "      <td>6</td>\n",
              "      <td>0.51</td>\n",
              "      <td>0.2</td>\n",
              "      <td>0.102</td>\n",
              "      <td>0.23</td>\n",
              "      <td>0.2</td>\n",
              "      <td>0.046</td>\n",
              "      <td>0.74</td>\n",
              "      <td>5.0</td>\n",
              "      <td>0.2</td>\n",
              "      <td>1.0</td>\n",
              "      <td>0.00</td>\n",
              "      <td>0.2</td>\n",
              "      <td>0.000</td>\n",
              "      <td>2</td>\n",
              "      <td>0.2</td>\n",
              "      <td>0.4</td>\n",
              "      <td>0</td>\n",
              "      <td>0.2</td>\n",
              "      <td>0.0</td>\n",
              "      <td>2.0</td>\n",
              "      <td>1.548</td>\n",
              "      <td>0.4</td>\n",
              "      <td>0.5</td>\n",
              "      <td>0.3096</td>\n",
              "      <td>0</td>\n",
              "    </tr>\n",
              "    <tr>\n",
              "      <th>3</th>\n",
              "      <td>3.89</td>\n",
              "      <td>6</td>\n",
              "      <td>0.00</td>\n",
              "      <td>0.2</td>\n",
              "      <td>0.000</td>\n",
              "      <td>10.80</td>\n",
              "      <td>0.6</td>\n",
              "      <td>6.480</td>\n",
              "      <td>10.80</td>\n",
              "      <td>6.0</td>\n",
              "      <td>0.6</td>\n",
              "      <td>3.6</td>\n",
              "      <td>11.75</td>\n",
              "      <td>0.6</td>\n",
              "      <td>7.050</td>\n",
              "      <td>2</td>\n",
              "      <td>0.2</td>\n",
              "      <td>0.4</td>\n",
              "      <td>0</td>\n",
              "      <td>0.2</td>\n",
              "      <td>0.0</td>\n",
              "      <td>4.4</td>\n",
              "      <td>17.530</td>\n",
              "      <td>0.4</td>\n",
              "      <td>0.5</td>\n",
              "      <td>3.5060</td>\n",
              "      <td>1</td>\n",
              "    </tr>\n",
              "    <tr>\n",
              "      <th>4</th>\n",
              "      <td>3.89</td>\n",
              "      <td>6</td>\n",
              "      <td>0.00</td>\n",
              "      <td>0.2</td>\n",
              "      <td>0.000</td>\n",
              "      <td>0.08</td>\n",
              "      <td>0.2</td>\n",
              "      <td>0.016</td>\n",
              "      <td>0.08</td>\n",
              "      <td>5.0</td>\n",
              "      <td>0.2</td>\n",
              "      <td>1.0</td>\n",
              "      <td>0.00</td>\n",
              "      <td>0.2</td>\n",
              "      <td>0.000</td>\n",
              "      <td>2</td>\n",
              "      <td>0.2</td>\n",
              "      <td>0.4</td>\n",
              "      <td>0</td>\n",
              "      <td>0.2</td>\n",
              "      <td>0.0</td>\n",
              "      <td>2.0</td>\n",
              "      <td>1.416</td>\n",
              "      <td>0.4</td>\n",
              "      <td>0.5</td>\n",
              "      <td>0.2832</td>\n",
              "      <td>0</td>\n",
              "    </tr>\n",
              "  </tbody>\n",
              "</table>\n",
              "</div>"
            ],
            "text/plain": [
              "   Sector_score LOCATION_ID  PARA_A  ...  Detection_Risk  Audit_Risk  Risk\n",
              "0          3.89          23    4.18  ...             0.5      1.7148     1\n",
              "1          3.89           6    0.00  ...             0.5      0.5108     0\n",
              "2          3.89           6    0.51  ...             0.5      0.3096     0\n",
              "3          3.89           6    0.00  ...             0.5      3.5060     1\n",
              "4          3.89           6    0.00  ...             0.5      0.2832     0\n",
              "\n",
              "[5 rows x 27 columns]"
            ]
          },
          "metadata": {
            "tags": []
          },
          "execution_count": 4
        }
      ]
    },
    {
      "cell_type": "code",
      "metadata": {
        "colab": {
          "base_uri": "https://localhost:8080/"
        },
        "id": "4X8yG9Hd4FBH",
        "outputId": "66839aa0-fee2-469f-aabf-8b89de1e9085"
      },
      "source": [
        "df.info()"
      ],
      "execution_count": null,
      "outputs": [
        {
          "output_type": "stream",
          "text": [
            "<class 'pandas.core.frame.DataFrame'>\n",
            "RangeIndex: 776 entries, 0 to 775\n",
            "Data columns (total 27 columns):\n",
            " #   Column          Non-Null Count  Dtype  \n",
            "---  ------          --------------  -----  \n",
            " 0   Sector_score    776 non-null    float64\n",
            " 1   LOCATION_ID     776 non-null    object \n",
            " 2   PARA_A          776 non-null    float64\n",
            " 3   Score_A         776 non-null    float64\n",
            " 4   Risk_A          776 non-null    float64\n",
            " 5   PARA_B          776 non-null    float64\n",
            " 6   Score_B         776 non-null    float64\n",
            " 7   Risk_B          776 non-null    float64\n",
            " 8   TOTAL           776 non-null    float64\n",
            " 9   numbers         776 non-null    float64\n",
            " 10  Score_B.1       776 non-null    float64\n",
            " 11  Risk_C          776 non-null    float64\n",
            " 12  Money_Value     775 non-null    float64\n",
            " 13  Score_MV        776 non-null    float64\n",
            " 14  Risk_D          776 non-null    float64\n",
            " 15  District_Loss   776 non-null    int64  \n",
            " 16  PROB            776 non-null    float64\n",
            " 17  RiSk_E          776 non-null    float64\n",
            " 18  History         776 non-null    int64  \n",
            " 19  Prob            776 non-null    float64\n",
            " 20  Risk_F          776 non-null    float64\n",
            " 21  Score           776 non-null    float64\n",
            " 22  Inherent_Risk   776 non-null    float64\n",
            " 23  CONTROL_RISK    776 non-null    float64\n",
            " 24  Detection_Risk  776 non-null    float64\n",
            " 25  Audit_Risk      776 non-null    float64\n",
            " 26  Risk            776 non-null    int64  \n",
            "dtypes: float64(23), int64(3), object(1)\n",
            "memory usage: 163.8+ KB\n"
          ],
          "name": "stdout"
        }
      ]
    },
    {
      "cell_type": "code",
      "metadata": {
        "colab": {
          "base_uri": "https://localhost:8080/",
          "height": 317
        },
        "id": "HJBN0kS84HTn",
        "outputId": "ee1d8e04-8756-4640-e7ac-c8474dc9e349"
      },
      "source": [
        "df.describe()"
      ],
      "execution_count": null,
      "outputs": [
        {
          "output_type": "execute_result",
          "data": {
            "text/html": [
              "<div>\n",
              "<style scoped>\n",
              "    .dataframe tbody tr th:only-of-type {\n",
              "        vertical-align: middle;\n",
              "    }\n",
              "\n",
              "    .dataframe tbody tr th {\n",
              "        vertical-align: top;\n",
              "    }\n",
              "\n",
              "    .dataframe thead th {\n",
              "        text-align: right;\n",
              "    }\n",
              "</style>\n",
              "<table border=\"1\" class=\"dataframe\">\n",
              "  <thead>\n",
              "    <tr style=\"text-align: right;\">\n",
              "      <th></th>\n",
              "      <th>Sector_score</th>\n",
              "      <th>PARA_A</th>\n",
              "      <th>Score_A</th>\n",
              "      <th>Risk_A</th>\n",
              "      <th>PARA_B</th>\n",
              "      <th>Score_B</th>\n",
              "      <th>Risk_B</th>\n",
              "      <th>TOTAL</th>\n",
              "      <th>numbers</th>\n",
              "      <th>Score_B.1</th>\n",
              "      <th>Risk_C</th>\n",
              "      <th>Money_Value</th>\n",
              "      <th>Score_MV</th>\n",
              "      <th>Risk_D</th>\n",
              "      <th>District_Loss</th>\n",
              "      <th>PROB</th>\n",
              "      <th>RiSk_E</th>\n",
              "      <th>History</th>\n",
              "      <th>Prob</th>\n",
              "      <th>Risk_F</th>\n",
              "      <th>Score</th>\n",
              "      <th>Inherent_Risk</th>\n",
              "      <th>CONTROL_RISK</th>\n",
              "      <th>Detection_Risk</th>\n",
              "      <th>Audit_Risk</th>\n",
              "      <th>Risk</th>\n",
              "    </tr>\n",
              "  </thead>\n",
              "  <tbody>\n",
              "    <tr>\n",
              "      <th>count</th>\n",
              "      <td>776.000000</td>\n",
              "      <td>776.000000</td>\n",
              "      <td>776.000000</td>\n",
              "      <td>776.000000</td>\n",
              "      <td>776.000000</td>\n",
              "      <td>776.000000</td>\n",
              "      <td>776.000000</td>\n",
              "      <td>776.000000</td>\n",
              "      <td>776.000000</td>\n",
              "      <td>776.000000</td>\n",
              "      <td>776.000000</td>\n",
              "      <td>775.000000</td>\n",
              "      <td>776.000000</td>\n",
              "      <td>776.000000</td>\n",
              "      <td>776.000000</td>\n",
              "      <td>776.000000</td>\n",
              "      <td>776.000000</td>\n",
              "      <td>776.000000</td>\n",
              "      <td>776.000000</td>\n",
              "      <td>776.000000</td>\n",
              "      <td>776.000000</td>\n",
              "      <td>776.000000</td>\n",
              "      <td>776.000000</td>\n",
              "      <td>776.0</td>\n",
              "      <td>776.000000</td>\n",
              "      <td>776.000000</td>\n",
              "    </tr>\n",
              "    <tr>\n",
              "      <th>mean</th>\n",
              "      <td>20.184536</td>\n",
              "      <td>2.450194</td>\n",
              "      <td>0.351289</td>\n",
              "      <td>1.351029</td>\n",
              "      <td>10.799988</td>\n",
              "      <td>0.313144</td>\n",
              "      <td>6.334008</td>\n",
              "      <td>13.218481</td>\n",
              "      <td>5.067655</td>\n",
              "      <td>0.223711</td>\n",
              "      <td>1.152964</td>\n",
              "      <td>14.137631</td>\n",
              "      <td>0.290979</td>\n",
              "      <td>8.265434</td>\n",
              "      <td>2.505155</td>\n",
              "      <td>0.206186</td>\n",
              "      <td>0.519072</td>\n",
              "      <td>0.104381</td>\n",
              "      <td>0.216753</td>\n",
              "      <td>0.053608</td>\n",
              "      <td>2.702577</td>\n",
              "      <td>17.680612</td>\n",
              "      <td>0.572680</td>\n",
              "      <td>0.5</td>\n",
              "      <td>7.168158</td>\n",
              "      <td>0.393041</td>\n",
              "    </tr>\n",
              "    <tr>\n",
              "      <th>std</th>\n",
              "      <td>24.319017</td>\n",
              "      <td>5.678870</td>\n",
              "      <td>0.174055</td>\n",
              "      <td>3.440447</td>\n",
              "      <td>50.083624</td>\n",
              "      <td>0.169804</td>\n",
              "      <td>30.072845</td>\n",
              "      <td>51.312829</td>\n",
              "      <td>0.264449</td>\n",
              "      <td>0.080352</td>\n",
              "      <td>0.537417</td>\n",
              "      <td>66.606519</td>\n",
              "      <td>0.159745</td>\n",
              "      <td>39.970849</td>\n",
              "      <td>1.228678</td>\n",
              "      <td>0.037508</td>\n",
              "      <td>0.290312</td>\n",
              "      <td>0.531031</td>\n",
              "      <td>0.067987</td>\n",
              "      <td>0.305835</td>\n",
              "      <td>0.858923</td>\n",
              "      <td>54.740244</td>\n",
              "      <td>0.444581</td>\n",
              "      <td>0.0</td>\n",
              "      <td>38.667494</td>\n",
              "      <td>0.488741</td>\n",
              "    </tr>\n",
              "    <tr>\n",
              "      <th>min</th>\n",
              "      <td>1.850000</td>\n",
              "      <td>0.000000</td>\n",
              "      <td>0.200000</td>\n",
              "      <td>0.000000</td>\n",
              "      <td>0.000000</td>\n",
              "      <td>0.200000</td>\n",
              "      <td>0.000000</td>\n",
              "      <td>0.000000</td>\n",
              "      <td>5.000000</td>\n",
              "      <td>0.200000</td>\n",
              "      <td>1.000000</td>\n",
              "      <td>0.000000</td>\n",
              "      <td>0.200000</td>\n",
              "      <td>0.000000</td>\n",
              "      <td>2.000000</td>\n",
              "      <td>0.200000</td>\n",
              "      <td>0.400000</td>\n",
              "      <td>0.000000</td>\n",
              "      <td>0.200000</td>\n",
              "      <td>0.000000</td>\n",
              "      <td>2.000000</td>\n",
              "      <td>1.400000</td>\n",
              "      <td>0.400000</td>\n",
              "      <td>0.5</td>\n",
              "      <td>0.280000</td>\n",
              "      <td>0.000000</td>\n",
              "    </tr>\n",
              "    <tr>\n",
              "      <th>25%</th>\n",
              "      <td>2.370000</td>\n",
              "      <td>0.210000</td>\n",
              "      <td>0.200000</td>\n",
              "      <td>0.042000</td>\n",
              "      <td>0.000000</td>\n",
              "      <td>0.200000</td>\n",
              "      <td>0.000000</td>\n",
              "      <td>0.537500</td>\n",
              "      <td>5.000000</td>\n",
              "      <td>0.200000</td>\n",
              "      <td>1.000000</td>\n",
              "      <td>0.000000</td>\n",
              "      <td>0.200000</td>\n",
              "      <td>0.000000</td>\n",
              "      <td>2.000000</td>\n",
              "      <td>0.200000</td>\n",
              "      <td>0.400000</td>\n",
              "      <td>0.000000</td>\n",
              "      <td>0.200000</td>\n",
              "      <td>0.000000</td>\n",
              "      <td>2.000000</td>\n",
              "      <td>1.583500</td>\n",
              "      <td>0.400000</td>\n",
              "      <td>0.5</td>\n",
              "      <td>0.316700</td>\n",
              "      <td>0.000000</td>\n",
              "    </tr>\n",
              "    <tr>\n",
              "      <th>50%</th>\n",
              "      <td>3.890000</td>\n",
              "      <td>0.875000</td>\n",
              "      <td>0.200000</td>\n",
              "      <td>0.175000</td>\n",
              "      <td>0.405000</td>\n",
              "      <td>0.200000</td>\n",
              "      <td>0.081000</td>\n",
              "      <td>1.370000</td>\n",
              "      <td>5.000000</td>\n",
              "      <td>0.200000</td>\n",
              "      <td>1.000000</td>\n",
              "      <td>0.090000</td>\n",
              "      <td>0.200000</td>\n",
              "      <td>0.018000</td>\n",
              "      <td>2.000000</td>\n",
              "      <td>0.200000</td>\n",
              "      <td>0.400000</td>\n",
              "      <td>0.000000</td>\n",
              "      <td>0.200000</td>\n",
              "      <td>0.000000</td>\n",
              "      <td>2.400000</td>\n",
              "      <td>2.214000</td>\n",
              "      <td>0.400000</td>\n",
              "      <td>0.5</td>\n",
              "      <td>0.555600</td>\n",
              "      <td>0.000000</td>\n",
              "    </tr>\n",
              "    <tr>\n",
              "      <th>75%</th>\n",
              "      <td>55.570000</td>\n",
              "      <td>2.480000</td>\n",
              "      <td>0.600000</td>\n",
              "      <td>1.488000</td>\n",
              "      <td>4.160000</td>\n",
              "      <td>0.400000</td>\n",
              "      <td>1.840500</td>\n",
              "      <td>7.707500</td>\n",
              "      <td>5.000000</td>\n",
              "      <td>0.200000</td>\n",
              "      <td>1.000000</td>\n",
              "      <td>5.595000</td>\n",
              "      <td>0.400000</td>\n",
              "      <td>2.235000</td>\n",
              "      <td>2.000000</td>\n",
              "      <td>0.200000</td>\n",
              "      <td>0.400000</td>\n",
              "      <td>0.000000</td>\n",
              "      <td>0.200000</td>\n",
              "      <td>0.000000</td>\n",
              "      <td>3.250000</td>\n",
              "      <td>10.663500</td>\n",
              "      <td>0.400000</td>\n",
              "      <td>0.5</td>\n",
              "      <td>3.249900</td>\n",
              "      <td>1.000000</td>\n",
              "    </tr>\n",
              "    <tr>\n",
              "      <th>max</th>\n",
              "      <td>59.850000</td>\n",
              "      <td>85.000000</td>\n",
              "      <td>0.600000</td>\n",
              "      <td>51.000000</td>\n",
              "      <td>1264.630000</td>\n",
              "      <td>0.600000</td>\n",
              "      <td>758.778000</td>\n",
              "      <td>1268.910000</td>\n",
              "      <td>9.000000</td>\n",
              "      <td>0.600000</td>\n",
              "      <td>5.400000</td>\n",
              "      <td>935.030000</td>\n",
              "      <td>0.600000</td>\n",
              "      <td>561.018000</td>\n",
              "      <td>6.000000</td>\n",
              "      <td>0.600000</td>\n",
              "      <td>2.400000</td>\n",
              "      <td>9.000000</td>\n",
              "      <td>0.600000</td>\n",
              "      <td>5.400000</td>\n",
              "      <td>5.200000</td>\n",
              "      <td>801.262000</td>\n",
              "      <td>5.800000</td>\n",
              "      <td>0.5</td>\n",
              "      <td>961.514400</td>\n",
              "      <td>1.000000</td>\n",
              "    </tr>\n",
              "  </tbody>\n",
              "</table>\n",
              "</div>"
            ],
            "text/plain": [
              "       Sector_score      PARA_A  ...  Audit_Risk        Risk\n",
              "count    776.000000  776.000000  ...  776.000000  776.000000\n",
              "mean      20.184536    2.450194  ...    7.168158    0.393041\n",
              "std       24.319017    5.678870  ...   38.667494    0.488741\n",
              "min        1.850000    0.000000  ...    0.280000    0.000000\n",
              "25%        2.370000    0.210000  ...    0.316700    0.000000\n",
              "50%        3.890000    0.875000  ...    0.555600    0.000000\n",
              "75%       55.570000    2.480000  ...    3.249900    1.000000\n",
              "max       59.850000   85.000000  ...  961.514400    1.000000\n",
              "\n",
              "[8 rows x 26 columns]"
            ]
          },
          "metadata": {
            "tags": []
          },
          "execution_count": 6
        }
      ]
    },
    {
      "cell_type": "code",
      "metadata": {
        "colab": {
          "base_uri": "https://localhost:8080/"
        },
        "id": "hRRlLm0L4Ly_",
        "outputId": "34c76997-72e3-48ea-e940-0a41d302d541"
      },
      "source": [
        "df.isna().sum()"
      ],
      "execution_count": null,
      "outputs": [
        {
          "output_type": "execute_result",
          "data": {
            "text/plain": [
              "Sector_score      0\n",
              "LOCATION_ID       0\n",
              "PARA_A            0\n",
              "Score_A           0\n",
              "Risk_A            0\n",
              "PARA_B            0\n",
              "Score_B           0\n",
              "Risk_B            0\n",
              "TOTAL             0\n",
              "numbers           0\n",
              "Score_B.1         0\n",
              "Risk_C            0\n",
              "Money_Value       1\n",
              "Score_MV          0\n",
              "Risk_D            0\n",
              "District_Loss     0\n",
              "PROB              0\n",
              "RiSk_E            0\n",
              "History           0\n",
              "Prob              0\n",
              "Risk_F            0\n",
              "Score             0\n",
              "Inherent_Risk     0\n",
              "CONTROL_RISK      0\n",
              "Detection_Risk    0\n",
              "Audit_Risk        0\n",
              "Risk              0\n",
              "dtype: int64"
            ]
          },
          "metadata": {
            "tags": []
          },
          "execution_count": 7
        }
      ]
    },
    {
      "cell_type": "code",
      "metadata": {
        "id": "QDlxxjPs4MYm"
      },
      "source": [
        "df['Money_Value'].fillna((df['Money_Value'].mean()), inplace=True)"
      ],
      "execution_count": null,
      "outputs": []
    },
    {
      "cell_type": "code",
      "metadata": {
        "id": "NVcyQZRe5_ly"
      },
      "source": [
        "cols_del=['LOCATION_ID','TOTAL']\r\n",
        "\r\n",
        "df.drop(cols_del, axis=1, inplace=True)"
      ],
      "execution_count": null,
      "outputs": []
    },
    {
      "cell_type": "code",
      "metadata": {
        "colab": {
          "base_uri": "https://localhost:8080/"
        },
        "id": "ipGydFn04OoB",
        "outputId": "432afa37-d1ee-4a2d-91eb-41827aa9ab9f"
      },
      "source": [
        "df.Risk.value_counts()"
      ],
      "execution_count": null,
      "outputs": [
        {
          "output_type": "execute_result",
          "data": {
            "text/plain": [
              "0    471\n",
              "1    305\n",
              "Name: Risk, dtype: int64"
            ]
          },
          "metadata": {
            "tags": []
          },
          "execution_count": 14
        }
      ]
    },
    {
      "cell_type": "code",
      "metadata": {
        "colab": {
          "base_uri": "https://localhost:8080/",
          "height": 321
        },
        "id": "aXJLl2x24Q1T",
        "outputId": "0abef565-21cc-483c-a695-c1f9fc47e435"
      },
      "source": [
        "sns.countplot(df['Risk'], label = \"Count\") "
      ],
      "execution_count": null,
      "outputs": [
        {
          "output_type": "execute_result",
          "data": {
            "text/plain": [
              "<matplotlib.axes._subplots.AxesSubplot at 0x7fa366ec7390>"
            ]
          },
          "metadata": {
            "tags": []
          },
          "execution_count": 13
        },
        {
          "output_type": "display_data",
          "data": {
            "image/png": "[encoded data removed]",
            "text/plain": [
              "<Figure size 432x288 with 1 Axes>"
            ]
          },
          "metadata": {
            "tags": []
          }
        }
      ]
    },
    {
      "cell_type": "code",
      "metadata": {
        "id": "nSxW8x8_4bIW"
      },
      "source": [
        "x=df.drop(['Risk'],axis=1)"
      ],
      "execution_count": null,
      "outputs": []
    },
    {
      "cell_type": "code",
      "metadata": {
        "colab": {
          "base_uri": "https://localhost:8080/",
          "height": 809
        },
        "id": "6nxTHHZK4jRO",
        "outputId": "2389254b-ae1a-4aee-cb7d-5cf7334a18a2"
      },
      "source": [
        "x.corrwith(df.Risk).plot.bar(\r\n",
        "        figsize = (20, 10), title = \"Correlation with fraudulent firms\", fontsize = 20,\r\n",
        "        rot = 90 , color=['dodgerblue', 'orangered', 'peru', 'olivedrab', 'slategrey','purple','tab:blue'] , grid = True)"
      ],
      "execution_count": null,
      "outputs": [
        {
          "output_type": "execute_result",
          "data": {
            "text/plain": [
              "<matplotlib.axes._subplots.AxesSubplot at 0x7fa365112438>"
            ]
          },
          "metadata": {
            "tags": []
          },
          "execution_count": 26
        },
        {
          "output_type": "display_data",
          "data": {
            "image/png": "[encoded data removed]",
            "text/plain": [
              "<Figure size 1440x720 with 1 Axes>"
            ]
          },
          "metadata": {
            "tags": []
          }
        }
      ]
    },
    {
      "cell_type": "code",
      "metadata": {
        "colab": {
          "base_uri": "https://localhost:8080/",
          "height": 564
        },
        "id": "VieSqvu_4kXg",
        "outputId": "e47ae24d-58ca-4159-ccfa-3569590eaa4d"
      },
      "source": [
        "x.corr(method='pearson').style.format(\"{:.2}\").background_gradient(cmap=plt.get_cmap('coolwarm'), axis=1)"
      ],
      "execution_count": null,
      "outputs": [
        {
          "output_type": "execute_result",
          "data": {
            "text/html": [
              "<style  type=\"text/css\" >\n",
              "#T_612cf3a6_4771_11eb_aa88_0242ac1c0002row0_col0,#T_612cf3a6_4771_11eb_aa88_0242ac1c0002row1_col1,#T_612cf3a6_4771_11eb_aa88_0242ac1c0002row1_col3,#T_612cf3a6_4771_11eb_aa88_0242ac1c0002row2_col2,#T_612cf3a6_4771_11eb_aa88_0242ac1c0002row3_col1,#T_612cf3a6_4771_11eb_aa88_0242ac1c0002row3_col3,#T_612cf3a6_4771_11eb_aa88_0242ac1c0002row4_col4,#T_612cf3a6_4771_11eb_aa88_0242ac1c0002row4_col6,#T_612cf3a6_4771_11eb_aa88_0242ac1c0002row5_col5,#T_612cf3a6_4771_11eb_aa88_0242ac1c0002row6_col4,#T_612cf3a6_4771_11eb_aa88_0242ac1c0002row6_col6,#T_612cf3a6_4771_11eb_aa88_0242ac1c0002row7_col7,#T_612cf3a6_4771_11eb_aa88_0242ac1c0002row8_col8,#T_612cf3a6_4771_11eb_aa88_0242ac1c0002row9_col9,#T_612cf3a6_4771_11eb_aa88_0242ac1c0002row10_col10,#T_612cf3a6_4771_11eb_aa88_0242ac1c0002row10_col12,#T_612cf3a6_4771_11eb_aa88_0242ac1c0002row11_col11,#T_612cf3a6_4771_11eb_aa88_0242ac1c0002row12_col10,#T_612cf3a6_4771_11eb_aa88_0242ac1c0002row12_col12,#T_612cf3a6_4771_11eb_aa88_0242ac1c0002row13_col13,#T_612cf3a6_4771_11eb_aa88_0242ac1c0002row14_col14,#T_612cf3a6_4771_11eb_aa88_0242ac1c0002row15_col15,#T_612cf3a6_4771_11eb_aa88_0242ac1c0002row16_col16,#T_612cf3a6_4771_11eb_aa88_0242ac1c0002row17_col17,#T_612cf3a6_4771_11eb_aa88_0242ac1c0002row18_col18,#T_612cf3a6_4771_11eb_aa88_0242ac1c0002row19_col19,#T_612cf3a6_4771_11eb_aa88_0242ac1c0002row20_col20,#T_612cf3a6_4771_11eb_aa88_0242ac1c0002row21_col21,#T_612cf3a6_4771_11eb_aa88_0242ac1c0002row23_col23{\n",
              "            background-color:  #b40426;\n",
              "            color:  #f1f1f1;\n",
              "        }#T_612cf3a6_4771_11eb_aa88_0242ac1c0002row0_col1,#T_612cf3a6_4771_11eb_aa88_0242ac1c0002row0_col3,#T_612cf3a6_4771_11eb_aa88_0242ac1c0002row0_col5,#T_612cf3a6_4771_11eb_aa88_0242ac1c0002row13_col14,#T_612cf3a6_4771_11eb_aa88_0242ac1c0002row14_col23{\n",
              "            background-color:  #688aef;\n",
              "            color:  #000000;\n",
              "        }#T_612cf3a6_4771_11eb_aa88_0242ac1c0002row0_col2,#T_612cf3a6_4771_11eb_aa88_0242ac1c0002row1_col0,#T_612cf3a6_4771_11eb_aa88_0242ac1c0002row2_col0,#T_612cf3a6_4771_11eb_aa88_0242ac1c0002row3_col0,#T_612cf3a6_4771_11eb_aa88_0242ac1c0002row4_col0,#T_612cf3a6_4771_11eb_aa88_0242ac1c0002row5_col0,#T_612cf3a6_4771_11eb_aa88_0242ac1c0002row6_col0,#T_612cf3a6_4771_11eb_aa88_0242ac1c0002row7_col0,#T_612cf3a6_4771_11eb_aa88_0242ac1c0002row8_col0,#T_612cf3a6_4771_11eb_aa88_0242ac1c0002row9_col0,#T_612cf3a6_4771_11eb_aa88_0242ac1c0002row10_col0,#T_612cf3a6_4771_11eb_aa88_0242ac1c0002row11_col0,#T_612cf3a6_4771_11eb_aa88_0242ac1c0002row12_col0,#T_612cf3a6_4771_11eb_aa88_0242ac1c0002row13_col0,#T_612cf3a6_4771_11eb_aa88_0242ac1c0002row14_col0,#T_612cf3a6_4771_11eb_aa88_0242ac1c0002row15_col0,#T_612cf3a6_4771_11eb_aa88_0242ac1c0002row16_col0,#T_612cf3a6_4771_11eb_aa88_0242ac1c0002row17_col0,#T_612cf3a6_4771_11eb_aa88_0242ac1c0002row18_col0,#T_612cf3a6_4771_11eb_aa88_0242ac1c0002row19_col0,#T_612cf3a6_4771_11eb_aa88_0242ac1c0002row20_col0,#T_612cf3a6_4771_11eb_aa88_0242ac1c0002row21_col0,#T_612cf3a6_4771_11eb_aa88_0242ac1c0002row23_col0{\n",
              "            background-color:  #3b4cc0;\n",
              "            color:  #f1f1f1;\n",
              "        }#T_612cf3a6_4771_11eb_aa88_0242ac1c0002row0_col4,#T_612cf3a6_4771_11eb_aa88_0242ac1c0002row0_col6,#T_612cf3a6_4771_11eb_aa88_0242ac1c0002row10_col17,#T_612cf3a6_4771_11eb_aa88_0242ac1c0002row12_col17,#T_612cf3a6_4771_11eb_aa88_0242ac1c0002row15_col2,#T_612cf3a6_4771_11eb_aa88_0242ac1c0002row15_col11{\n",
              "            background-color:  #7da0f9;\n",
              "            color:  #000000;\n",
              "        }#T_612cf3a6_4771_11eb_aa88_0242ac1c0002row0_col7,#T_612cf3a6_4771_11eb_aa88_0242ac1c0002row5_col15,#T_612cf3a6_4771_11eb_aa88_0242ac1c0002row17_col13,#T_612cf3a6_4771_11eb_aa88_0242ac1c0002row18_col15,#T_612cf3a6_4771_11eb_aa88_0242ac1c0002row20_col14,#T_612cf3a6_4771_11eb_aa88_0242ac1c0002row21_col10,#T_612cf3a6_4771_11eb_aa88_0242ac1c0002row21_col12{\n",
              "            background-color:  #799cf8;\n",
              "            color:  #000000;\n",
              "        }#T_612cf3a6_4771_11eb_aa88_0242ac1c0002row0_col8,#T_612cf3a6_4771_11eb_aa88_0242ac1c0002row0_col20,#T_612cf3a6_4771_11eb_aa88_0242ac1c0002row5_col13,#T_612cf3a6_4771_11eb_aa88_0242ac1c0002row8_col14,#T_612cf3a6_4771_11eb_aa88_0242ac1c0002row10_col16,#T_612cf3a6_4771_11eb_aa88_0242ac1c0002row13_col2,#T_612cf3a6_4771_11eb_aa88_0242ac1c0002row14_col18{\n",
              "            background-color:  #7396f5;\n",
              "            color:  #000000;\n",
              "        }#T_612cf3a6_4771_11eb_aa88_0242ac1c0002row0_col9,#T_612cf3a6_4771_11eb_aa88_0242ac1c0002row14_col16{\n",
              "            background-color:  #7597f6;\n",
              "            color:  #000000;\n",
              "        }#T_612cf3a6_4771_11eb_aa88_0242ac1c0002row0_col10,#T_612cf3a6_4771_11eb_aa88_0242ac1c0002row0_col12,#T_612cf3a6_4771_11eb_aa88_0242ac1c0002row0_col16,#T_612cf3a6_4771_11eb_aa88_0242ac1c0002row3_col14,#T_612cf3a6_4771_11eb_aa88_0242ac1c0002row10_col4,#T_612cf3a6_4771_11eb_aa88_0242ac1c0002row10_col6,#T_612cf3a6_4771_11eb_aa88_0242ac1c0002row12_col4,#T_612cf3a6_4771_11eb_aa88_0242ac1c0002row12_col6,#T_612cf3a6_4771_11eb_aa88_0242ac1c0002row17_col12,#T_612cf3a6_4771_11eb_aa88_0242ac1c0002row20_col13,#T_612cf3a6_4771_11eb_aa88_0242ac1c0002row20_col15{\n",
              "            background-color:  #81a4fb;\n",
              "            color:  #000000;\n",
              "        }#T_612cf3a6_4771_11eb_aa88_0242ac1c0002row0_col11{\n",
              "            background-color:  #516ddb;\n",
              "            color:  #000000;\n",
              "        }#T_612cf3a6_4771_11eb_aa88_0242ac1c0002row0_col13,#T_612cf3a6_4771_11eb_aa88_0242ac1c0002row15_col1,#T_612cf3a6_4771_11eb_aa88_0242ac1c0002row15_col3,#T_612cf3a6_4771_11eb_aa88_0242ac1c0002row17_col10{\n",
              "            background-color:  #82a6fb;\n",
              "            color:  #000000;\n",
              "        }#T_612cf3a6_4771_11eb_aa88_0242ac1c0002row0_col14,#T_612cf3a6_4771_11eb_aa88_0242ac1c0002row15_col7{\n",
              "            background-color:  #88abfd;\n",
              "            color:  #000000;\n",
              "        }#T_612cf3a6_4771_11eb_aa88_0242ac1c0002row0_col15,#T_612cf3a6_4771_11eb_aa88_0242ac1c0002row13_col7,#T_612cf3a6_4771_11eb_aa88_0242ac1c0002row14_col17,#T_612cf3a6_4771_11eb_aa88_0242ac1c0002row16_col1{\n",
              "            background-color:  #7ea1fa;\n",
              "            color:  #000000;\n",
              "        }#T_612cf3a6_4771_11eb_aa88_0242ac1c0002row0_col17,#T_612cf3a6_4771_11eb_aa88_0242ac1c0002row14_col11,#T_612cf3a6_4771_11eb_aa88_0242ac1c0002row16_col14,#T_612cf3a6_4771_11eb_aa88_0242ac1c0002row16_col15{\n",
              "            background-color:  #7b9ff9;\n",
              "            color:  #000000;\n",
              "        }#T_612cf3a6_4771_11eb_aa88_0242ac1c0002row0_col18,#T_612cf3a6_4771_11eb_aa88_0242ac1c0002row6_col10,#T_612cf3a6_4771_11eb_aa88_0242ac1c0002row6_col12,#T_612cf3a6_4771_11eb_aa88_0242ac1c0002row15_col17{\n",
              "            background-color:  #84a7fc;\n",
              "            color:  #000000;\n",
              "        }#T_612cf3a6_4771_11eb_aa88_0242ac1c0002row0_col19{\n",
              "            background-color:  #4c66d6;\n",
              "            color:  #000000;\n",
              "        }#T_612cf3a6_4771_11eb_aa88_0242ac1c0002row0_col21,#T_612cf3a6_4771_11eb_aa88_0242ac1c0002row4_col13,#T_612cf3a6_4771_11eb_aa88_0242ac1c0002row6_col13,#T_612cf3a6_4771_11eb_aa88_0242ac1c0002row18_col1,#T_612cf3a6_4771_11eb_aa88_0242ac1c0002row18_col3,#T_612cf3a6_4771_11eb_aa88_0242ac1c0002row18_col14{\n",
              "            background-color:  #779af7;\n",
              "            color:  #000000;\n",
              "        }#T_612cf3a6_4771_11eb_aa88_0242ac1c0002row0_col22,#T_612cf3a6_4771_11eb_aa88_0242ac1c0002row1_col22,#T_612cf3a6_4771_11eb_aa88_0242ac1c0002row2_col22,#T_612cf3a6_4771_11eb_aa88_0242ac1c0002row3_col22,#T_612cf3a6_4771_11eb_aa88_0242ac1c0002row4_col22,#T_612cf3a6_4771_11eb_aa88_0242ac1c0002row5_col22,#T_612cf3a6_4771_11eb_aa88_0242ac1c0002row6_col22,#T_612cf3a6_4771_11eb_aa88_0242ac1c0002row7_col22,#T_612cf3a6_4771_11eb_aa88_0242ac1c0002row8_col22,#T_612cf3a6_4771_11eb_aa88_0242ac1c0002row9_col22,#T_612cf3a6_4771_11eb_aa88_0242ac1c0002row10_col22,#T_612cf3a6_4771_11eb_aa88_0242ac1c0002row11_col22,#T_612cf3a6_4771_11eb_aa88_0242ac1c0002row12_col22,#T_612cf3a6_4771_11eb_aa88_0242ac1c0002row13_col22,#T_612cf3a6_4771_11eb_aa88_0242ac1c0002row14_col22,#T_612cf3a6_4771_11eb_aa88_0242ac1c0002row15_col22,#T_612cf3a6_4771_11eb_aa88_0242ac1c0002row16_col22,#T_612cf3a6_4771_11eb_aa88_0242ac1c0002row17_col22,#T_612cf3a6_4771_11eb_aa88_0242ac1c0002row18_col22,#T_612cf3a6_4771_11eb_aa88_0242ac1c0002row19_col22,#T_612cf3a6_4771_11eb_aa88_0242ac1c0002row20_col22,#T_612cf3a6_4771_11eb_aa88_0242ac1c0002row21_col22,#T_612cf3a6_4771_11eb_aa88_0242ac1c0002row22_col0,#T_612cf3a6_4771_11eb_aa88_0242ac1c0002row22_col1,#T_612cf3a6_4771_11eb_aa88_0242ac1c0002row22_col2,#T_612cf3a6_4771_11eb_aa88_0242ac1c0002row22_col3,#T_612cf3a6_4771_11eb_aa88_0242ac1c0002row22_col4,#T_612cf3a6_4771_11eb_aa88_0242ac1c0002row22_col5,#T_612cf3a6_4771_11eb_aa88_0242ac1c0002row22_col6,#T_612cf3a6_4771_11eb_aa88_0242ac1c0002row22_col7,#T_612cf3a6_4771_11eb_aa88_0242ac1c0002row22_col8,#T_612cf3a6_4771_11eb_aa88_0242ac1c0002row22_col9,#T_612cf3a6_4771_11eb_aa88_0242ac1c0002row22_col10,#T_612cf3a6_4771_11eb_aa88_0242ac1c0002row22_col11,#T_612cf3a6_4771_11eb_aa88_0242ac1c0002row22_col12,#T_612cf3a6_4771_11eb_aa88_0242ac1c0002row22_col13,#T_612cf3a6_4771_11eb_aa88_0242ac1c0002row22_col14,#T_612cf3a6_4771_11eb_aa88_0242ac1c0002row22_col15,#T_612cf3a6_4771_11eb_aa88_0242ac1c0002row22_col16,#T_612cf3a6_4771_11eb_aa88_0242ac1c0002row22_col17,#T_612cf3a6_4771_11eb_aa88_0242ac1c0002row22_col18,#T_612cf3a6_4771_11eb_aa88_0242ac1c0002row22_col19,#T_612cf3a6_4771_11eb_aa88_0242ac1c0002row22_col20,#T_612cf3a6_4771_11eb_aa88_0242ac1c0002row22_col21,#T_612cf3a6_4771_11eb_aa88_0242ac1c0002row22_col22,#T_612cf3a6_4771_11eb_aa88_0242ac1c0002row22_col23,#T_612cf3a6_4771_11eb_aa88_0242ac1c0002row23_col22{\n",
              "            background-color:  #000000;\n",
              "            color:  #f1f1f1;\n",
              "        }#T_612cf3a6_4771_11eb_aa88_0242ac1c0002row0_col23,#T_612cf3a6_4771_11eb_aa88_0242ac1c0002row13_col8,#T_612cf3a6_4771_11eb_aa88_0242ac1c0002row14_col19{\n",
              "            background-color:  #86a9fc;\n",
              "            color:  #000000;\n",
              "        }#T_612cf3a6_4771_11eb_aa88_0242ac1c0002row1_col2{\n",
              "            background-color:  #f0cdbb;\n",
              "            color:  #000000;\n",
              "        }#T_612cf3a6_4771_11eb_aa88_0242ac1c0002row1_col4,#T_612cf3a6_4771_11eb_aa88_0242ac1c0002row1_col6{\n",
              "            background-color:  #a2c1ff;\n",
              "            color:  #000000;\n",
              "        }#T_612cf3a6_4771_11eb_aa88_0242ac1c0002row1_col5,#T_612cf3a6_4771_11eb_aa88_0242ac1c0002row2_col4,#T_612cf3a6_4771_11eb_aa88_0242ac1c0002row5_col1,#T_612cf3a6_4771_11eb_aa88_0242ac1c0002row15_col14{\n",
              "            background-color:  #d6dce4;\n",
              "            color:  #000000;\n",
              "        }#T_612cf3a6_4771_11eb_aa88_0242ac1c0002row1_col7,#T_612cf3a6_4771_11eb_aa88_0242ac1c0002row6_col18,#T_612cf3a6_4771_11eb_aa88_0242ac1c0002row10_col5,#T_612cf3a6_4771_11eb_aa88_0242ac1c0002row12_col2,#T_612cf3a6_4771_11eb_aa88_0242ac1c0002row12_col5,#T_612cf3a6_4771_11eb_aa88_0242ac1c0002row13_col19,#T_612cf3a6_4771_11eb_aa88_0242ac1c0002row16_col4,#T_612cf3a6_4771_11eb_aa88_0242ac1c0002row23_col1,#T_612cf3a6_4771_11eb_aa88_0242ac1c0002row23_col3,#T_612cf3a6_4771_11eb_aa88_0242ac1c0002row23_col7{\n",
              "            background-color:  #9abbff;\n",
              "            color:  #000000;\n",
              "        }#T_612cf3a6_4771_11eb_aa88_0242ac1c0002row1_col8,#T_612cf3a6_4771_11eb_aa88_0242ac1c0002row1_col9,#T_612cf3a6_4771_11eb_aa88_0242ac1c0002row3_col9,#T_612cf3a6_4771_11eb_aa88_0242ac1c0002row4_col16,#T_612cf3a6_4771_11eb_aa88_0242ac1c0002row6_col16,#T_612cf3a6_4771_11eb_aa88_0242ac1c0002row7_col10,#T_612cf3a6_4771_11eb_aa88_0242ac1c0002row7_col12,#T_612cf3a6_4771_11eb_aa88_0242ac1c0002row15_col23,#T_612cf3a6_4771_11eb_aa88_0242ac1c0002row18_col8,#T_612cf3a6_4771_11eb_aa88_0242ac1c0002row20_col18,#T_612cf3a6_4771_11eb_aa88_0242ac1c0002row20_col21,#T_612cf3a6_4771_11eb_aa88_0242ac1c0002row21_col4,#T_612cf3a6_4771_11eb_aa88_0242ac1c0002row21_col6{\n",
              "            background-color:  #9dbdff;\n",
              "            color:  #000000;\n",
              "        }#T_612cf3a6_4771_11eb_aa88_0242ac1c0002row1_col10,#T_612cf3a6_4771_11eb_aa88_0242ac1c0002row3_col10,#T_612cf3a6_4771_11eb_aa88_0242ac1c0002row3_col12,#T_612cf3a6_4771_11eb_aa88_0242ac1c0002row19_col4,#T_612cf3a6_4771_11eb_aa88_0242ac1c0002row19_col6{\n",
              "            background-color:  #e9d5cb;\n",
              "            color:  #000000;\n",
              "        }#T_612cf3a6_4771_11eb_aa88_0242ac1c0002row1_col11,#T_612cf3a6_4771_11eb_aa88_0242ac1c0002row8_col5,#T_612cf3a6_4771_11eb_aa88_0242ac1c0002row20_col8,#T_612cf3a6_4771_11eb_aa88_0242ac1c0002row23_col21{\n",
              "            background-color:  #c4d5f3;\n",
              "            color:  #000000;\n",
              "        }#T_612cf3a6_4771_11eb_aa88_0242ac1c0002row1_col12,#T_612cf3a6_4771_11eb_aa88_0242ac1c0002row20_col19{\n",
              "            background-color:  #e8d6cc;\n",
              "            color:  #000000;\n",
              "        }#T_612cf3a6_4771_11eb_aa88_0242ac1c0002row1_col13,#T_612cf3a6_4771_11eb_aa88_0242ac1c0002row3_col13,#T_612cf3a6_4771_11eb_aa88_0242ac1c0002row4_col21,#T_612cf3a6_4771_11eb_aa88_0242ac1c0002row5_col21,#T_612cf3a6_4771_11eb_aa88_0242ac1c0002row16_col5,#T_612cf3a6_4771_11eb_aa88_0242ac1c0002row16_col6,#T_612cf3a6_4771_11eb_aa88_0242ac1c0002row16_col7,#T_612cf3a6_4771_11eb_aa88_0242ac1c0002row21_col2,#T_612cf3a6_4771_11eb_aa88_0242ac1c0002row21_col20{\n",
              "            background-color:  #98b9ff;\n",
              "            color:  #000000;\n",
              "        }#T_612cf3a6_4771_11eb_aa88_0242ac1c0002row1_col14,#T_612cf3a6_4771_11eb_aa88_0242ac1c0002row13_col1,#T_612cf3a6_4771_11eb_aa88_0242ac1c0002row13_col3,#T_612cf3a6_4771_11eb_aa88_0242ac1c0002row15_col16,#T_612cf3a6_4771_11eb_aa88_0242ac1c0002row15_col18,#T_612cf3a6_4771_11eb_aa88_0242ac1c0002row16_col3{\n",
              "            background-color:  #80a3fa;\n",
              "            color:  #000000;\n",
              "        }#T_612cf3a6_4771_11eb_aa88_0242ac1c0002row1_col15,#T_612cf3a6_4771_11eb_aa88_0242ac1c0002row1_col16,#T_612cf3a6_4771_11eb_aa88_0242ac1c0002row3_col15,#T_612cf3a6_4771_11eb_aa88_0242ac1c0002row8_col13,#T_612cf3a6_4771_11eb_aa88_0242ac1c0002row9_col15,#T_612cf3a6_4771_11eb_aa88_0242ac1c0002row17_col3,#T_612cf3a6_4771_11eb_aa88_0242ac1c0002row18_col7,#T_612cf3a6_4771_11eb_aa88_0242ac1c0002row23_col5{\n",
              "            background-color:  #96b7ff;\n",
              "            color:  #000000;\n",
              "        }#T_612cf3a6_4771_11eb_aa88_0242ac1c0002row1_col17,#T_612cf3a6_4771_11eb_aa88_0242ac1c0002row5_col18,#T_612cf3a6_4771_11eb_aa88_0242ac1c0002row6_col8{\n",
              "            background-color:  #a5c3fe;\n",
              "            color:  #000000;\n",
              "        }#T_612cf3a6_4771_11eb_aa88_0242ac1c0002row1_col18,#T_612cf3a6_4771_11eb_aa88_0242ac1c0002row4_col3,#T_612cf3a6_4771_11eb_aa88_0242ac1c0002row9_col1,#T_612cf3a6_4771_11eb_aa88_0242ac1c0002row9_col3,#T_612cf3a6_4771_11eb_aa88_0242ac1c0002row16_col2,#T_612cf3a6_4771_11eb_aa88_0242ac1c0002row21_col1,#T_612cf3a6_4771_11eb_aa88_0242ac1c0002row21_col3{\n",
              "            background-color:  #92b4fe;\n",
              "            color:  #000000;\n",
              "        }#T_612cf3a6_4771_11eb_aa88_0242ac1c0002row1_col19{\n",
              "            background-color:  #e4d9d2;\n",
              "            color:  #000000;\n",
              "        }#T_612cf3a6_4771_11eb_aa88_0242ac1c0002row1_col20,#T_612cf3a6_4771_11eb_aa88_0242ac1c0002row19_col1{\n",
              "            background-color:  #edd1c2;\n",
              "            color:  #000000;\n",
              "        }#T_612cf3a6_4771_11eb_aa88_0242ac1c0002row1_col21,#T_612cf3a6_4771_11eb_aa88_0242ac1c0002row3_col21,#T_612cf3a6_4771_11eb_aa88_0242ac1c0002row4_col7,#T_612cf3a6_4771_11eb_aa88_0242ac1c0002row6_col7,#T_612cf3a6_4771_11eb_aa88_0242ac1c0002row10_col8,#T_612cf3a6_4771_11eb_aa88_0242ac1c0002row11_col13,#T_612cf3a6_4771_11eb_aa88_0242ac1c0002row12_col8,#T_612cf3a6_4771_11eb_aa88_0242ac1c0002row16_col9{\n",
              "            background-color:  #9fbfff;\n",
              "            color:  #000000;\n",
              "        }#T_612cf3a6_4771_11eb_aa88_0242ac1c0002row1_col23,#T_612cf3a6_4771_11eb_aa88_0242ac1c0002row8_col17,#T_612cf3a6_4771_11eb_aa88_0242ac1c0002row9_col21,#T_612cf3a6_4771_11eb_aa88_0242ac1c0002row9_col23,#T_612cf3a6_4771_11eb_aa88_0242ac1c0002row21_col8{\n",
              "            background-color:  #b2ccfb;\n",
              "            color:  #000000;\n",
              "        }#T_612cf3a6_4771_11eb_aa88_0242ac1c0002row2_col1,#T_612cf3a6_4771_11eb_aa88_0242ac1c0002row5_col11{\n",
              "            background-color:  #f6bea4;\n",
              "            color:  #000000;\n",
              "        }#T_612cf3a6_4771_11eb_aa88_0242ac1c0002row2_col3{\n",
              "            background-color:  #f7bca1;\n",
              "            color:  #000000;\n",
              "        }#T_612cf3a6_4771_11eb_aa88_0242ac1c0002row2_col5{\n",
              "            background-color:  #f7ac8e;\n",
              "            color:  #000000;\n",
              "        }#T_612cf3a6_4771_11eb_aa88_0242ac1c0002row2_col6,#T_612cf3a6_4771_11eb_aa88_0242ac1c0002row19_col10,#T_612cf3a6_4771_11eb_aa88_0242ac1c0002row19_col18{\n",
              "            background-color:  #d5dbe5;\n",
              "            color:  #000000;\n",
              "        }#T_612cf3a6_4771_11eb_aa88_0242ac1c0002row2_col7,#T_612cf3a6_4771_11eb_aa88_0242ac1c0002row4_col19,#T_612cf3a6_4771_11eb_aa88_0242ac1c0002row5_col6,#T_612cf3a6_4771_11eb_aa88_0242ac1c0002row6_col19,#T_612cf3a6_4771_11eb_aa88_0242ac1c0002row19_col12{\n",
              "            background-color:  #d4dbe6;\n",
              "            color:  #000000;\n",
              "        }#T_612cf3a6_4771_11eb_aa88_0242ac1c0002row2_col8{\n",
              "            background-color:  #dadce0;\n",
              "            color:  #000000;\n",
              "        }#T_612cf3a6_4771_11eb_aa88_0242ac1c0002row2_col9,#T_612cf3a6_4771_11eb_aa88_0242ac1c0002row2_col17{\n",
              "            background-color:  #d9dce1;\n",
              "            color:  #000000;\n",
              "        }#T_612cf3a6_4771_11eb_aa88_0242ac1c0002row2_col10,#T_612cf3a6_4771_11eb_aa88_0242ac1c0002row21_col19,#T_612cf3a6_4771_11eb_aa88_0242ac1c0002row21_col23{\n",
              "            background-color:  #cdd9ec;\n",
              "            color:  #000000;\n",
              "        }#T_612cf3a6_4771_11eb_aa88_0242ac1c0002row2_col11{\n",
              "            background-color:  #f5c1a9;\n",
              "            color:  #000000;\n",
              "        }#T_612cf3a6_4771_11eb_aa88_0242ac1c0002row2_col12,#T_612cf3a6_4771_11eb_aa88_0242ac1c0002row2_col23{\n",
              "            background-color:  #ccd9ed;\n",
              "            color:  #000000;\n",
              "        }#T_612cf3a6_4771_11eb_aa88_0242ac1c0002row2_col13,#T_612cf3a6_4771_11eb_aa88_0242ac1c0002row3_col23,#T_612cf3a6_4771_11eb_aa88_0242ac1c0002row17_col20,#T_612cf3a6_4771_11eb_aa88_0242ac1c0002row18_col19{\n",
              "            background-color:  #b3cdfb;\n",
              "            color:  #000000;\n",
              "        }#T_612cf3a6_4771_11eb_aa88_0242ac1c0002row2_col14,#T_612cf3a6_4771_11eb_aa88_0242ac1c0002row8_col21,#T_612cf3a6_4771_11eb_aa88_0242ac1c0002row10_col19,#T_612cf3a6_4771_11eb_aa88_0242ac1c0002row12_col19{\n",
              "            background-color:  #b5cdfa;\n",
              "            color:  #000000;\n",
              "        }#T_612cf3a6_4771_11eb_aa88_0242ac1c0002row2_col15,#T_612cf3a6_4771_11eb_aa88_0242ac1c0002row7_col20,#T_612cf3a6_4771_11eb_aa88_0242ac1c0002row8_col23,#T_612cf3a6_4771_11eb_aa88_0242ac1c0002row9_col2{\n",
              "            background-color:  #b6cefa;\n",
              "            color:  #000000;\n",
              "        }#T_612cf3a6_4771_11eb_aa88_0242ac1c0002row2_col16,#T_612cf3a6_4771_11eb_aa88_0242ac1c0002row4_col5,#T_612cf3a6_4771_11eb_aa88_0242ac1c0002row6_col5{\n",
              "            background-color:  #c7d7f0;\n",
              "            color:  #000000;\n",
              "        }#T_612cf3a6_4771_11eb_aa88_0242ac1c0002row2_col18,#T_612cf3a6_4771_11eb_aa88_0242ac1c0002row9_col5,#T_612cf3a6_4771_11eb_aa88_0242ac1c0002row10_col23,#T_612cf3a6_4771_11eb_aa88_0242ac1c0002row12_col23,#T_612cf3a6_4771_11eb_aa88_0242ac1c0002row20_col9{\n",
              "            background-color:  #c1d4f4;\n",
              "            color:  #000000;\n",
              "        }#T_612cf3a6_4771_11eb_aa88_0242ac1c0002row2_col19{\n",
              "            background-color:  #ed8366;\n",
              "            color:  #000000;\n",
              "        }#T_612cf3a6_4771_11eb_aa88_0242ac1c0002row2_col20{\n",
              "            background-color:  #e3d9d3;\n",
              "            color:  #000000;\n",
              "        }#T_612cf3a6_4771_11eb_aa88_0242ac1c0002row2_col21,#T_612cf3a6_4771_11eb_aa88_0242ac1c0002row3_col11,#T_612cf3a6_4771_11eb_aa88_0242ac1c0002row20_col2{\n",
              "            background-color:  #c6d6f1;\n",
              "            color:  #000000;\n",
              "        }#T_612cf3a6_4771_11eb_aa88_0242ac1c0002row3_col2{\n",
              "            background-color:  #f1ccb8;\n",
              "            color:  #000000;\n",
              "        }#T_612cf3a6_4771_11eb_aa88_0242ac1c0002row3_col4,#T_612cf3a6_4771_11eb_aa88_0242ac1c0002row3_col6,#T_612cf3a6_4771_11eb_aa88_0242ac1c0002row4_col9,#T_612cf3a6_4771_11eb_aa88_0242ac1c0002row6_col9,#T_612cf3a6_4771_11eb_aa88_0242ac1c0002row7_col4,#T_612cf3a6_4771_11eb_aa88_0242ac1c0002row7_col6,#T_612cf3a6_4771_11eb_aa88_0242ac1c0002row7_col17,#T_612cf3a6_4771_11eb_aa88_0242ac1c0002row23_col9{\n",
              "            background-color:  #a3c2fe;\n",
              "            color:  #000000;\n",
              "        }#T_612cf3a6_4771_11eb_aa88_0242ac1c0002row3_col5,#T_612cf3a6_4771_11eb_aa88_0242ac1c0002row5_col3,#T_612cf3a6_4771_11eb_aa88_0242ac1c0002row5_col20,#T_612cf3a6_4771_11eb_aa88_0242ac1c0002row11_col4,#T_612cf3a6_4771_11eb_aa88_0242ac1c0002row11_col6,#T_612cf3a6_4771_11eb_aa88_0242ac1c0002row23_col17{\n",
              "            background-color:  #d7dce3;\n",
              "            color:  #000000;\n",
              "        }#T_612cf3a6_4771_11eb_aa88_0242ac1c0002row3_col7,#T_612cf3a6_4771_11eb_aa88_0242ac1c0002row4_col18,#T_612cf3a6_4771_11eb_aa88_0242ac1c0002row10_col2,#T_612cf3a6_4771_11eb_aa88_0242ac1c0002row18_col9,#T_612cf3a6_4771_11eb_aa88_0242ac1c0002row18_col11{\n",
              "            background-color:  #9bbcff;\n",
              "            color:  #000000;\n",
              "        }#T_612cf3a6_4771_11eb_aa88_0242ac1c0002row3_col8,#T_612cf3a6_4771_11eb_aa88_0242ac1c0002row10_col9,#T_612cf3a6_4771_11eb_aa88_0242ac1c0002row12_col9{\n",
              "            background-color:  #9ebeff;\n",
              "            color:  #000000;\n",
              "        }#T_612cf3a6_4771_11eb_aa88_0242ac1c0002row3_col16,#T_612cf3a6_4771_11eb_aa88_0242ac1c0002row6_col21,#T_612cf3a6_4771_11eb_aa88_0242ac1c0002row8_col15,#T_612cf3a6_4771_11eb_aa88_0242ac1c0002row13_col23{\n",
              "            background-color:  #97b8ff;\n",
              "            color:  #000000;\n",
              "        }#T_612cf3a6_4771_11eb_aa88_0242ac1c0002row3_col17,#T_612cf3a6_4771_11eb_aa88_0242ac1c0002row4_col8,#T_612cf3a6_4771_11eb_aa88_0242ac1c0002row7_col23,#T_612cf3a6_4771_11eb_aa88_0242ac1c0002row11_col15,#T_612cf3a6_4771_11eb_aa88_0242ac1c0002row15_col19,#T_612cf3a6_4771_11eb_aa88_0242ac1c0002row21_col11,#T_612cf3a6_4771_11eb_aa88_0242ac1c0002row23_col8{\n",
              "            background-color:  #a6c4fe;\n",
              "            color:  #000000;\n",
              "        }#T_612cf3a6_4771_11eb_aa88_0242ac1c0002row3_col18,#T_612cf3a6_4771_11eb_aa88_0242ac1c0002row8_col1,#T_612cf3a6_4771_11eb_aa88_0242ac1c0002row8_col3,#T_612cf3a6_4771_11eb_aa88_0242ac1c0002row9_col13,#T_612cf3a6_4771_11eb_aa88_0242ac1c0002row16_col20,#T_612cf3a6_4771_11eb_aa88_0242ac1c0002row23_col2,#T_612cf3a6_4771_11eb_aa88_0242ac1c0002row23_col13{\n",
              "            background-color:  #93b5fe;\n",
              "            color:  #000000;\n",
              "        }#T_612cf3a6_4771_11eb_aa88_0242ac1c0002row3_col19{\n",
              "            background-color:  #e5d8d1;\n",
              "            color:  #000000;\n",
              "        }#T_612cf3a6_4771_11eb_aa88_0242ac1c0002row3_col20,#T_612cf3a6_4771_11eb_aa88_0242ac1c0002row19_col3{\n",
              "            background-color:  #eed0c0;\n",
              "            color:  #000000;\n",
              "        }#T_612cf3a6_4771_11eb_aa88_0242ac1c0002row4_col1,#T_612cf3a6_4771_11eb_aa88_0242ac1c0002row6_col1,#T_612cf3a6_4771_11eb_aa88_0242ac1c0002row6_col3{\n",
              "            background-color:  #90b2fe;\n",
              "            color:  #000000;\n",
              "        }#T_612cf3a6_4771_11eb_aa88_0242ac1c0002row4_col2,#T_612cf3a6_4771_11eb_aa88_0242ac1c0002row8_col16,#T_612cf3a6_4771_11eb_aa88_0242ac1c0002row8_col18,#T_612cf3a6_4771_11eb_aa88_0242ac1c0002row17_col8{\n",
              "            background-color:  #abc8fd;\n",
              "            color:  #000000;\n",
              "        }#T_612cf3a6_4771_11eb_aa88_0242ac1c0002row4_col10,#T_612cf3a6_4771_11eb_aa88_0242ac1c0002row4_col12,#T_612cf3a6_4771_11eb_aa88_0242ac1c0002row13_col9,#T_612cf3a6_4771_11eb_aa88_0242ac1c0002row17_col15,#T_612cf3a6_4771_11eb_aa88_0242ac1c0002row18_col2{\n",
              "            background-color:  #85a8fc;\n",
              "            color:  #000000;\n",
              "        }#T_612cf3a6_4771_11eb_aa88_0242ac1c0002row4_col11,#T_612cf3a6_4771_11eb_aa88_0242ac1c0002row4_col17,#T_612cf3a6_4771_11eb_aa88_0242ac1c0002row6_col17,#T_612cf3a6_4771_11eb_aa88_0242ac1c0002row16_col19{\n",
              "            background-color:  #bfd3f6;\n",
              "            color:  #000000;\n",
              "        }#T_612cf3a6_4771_11eb_aa88_0242ac1c0002row4_col14,#T_612cf3a6_4771_11eb_aa88_0242ac1c0002row6_col14{\n",
              "            background-color:  #6b8df0;\n",
              "            color:  #000000;\n",
              "        }#T_612cf3a6_4771_11eb_aa88_0242ac1c0002row4_col15,#T_612cf3a6_4771_11eb_aa88_0242ac1c0002row6_col15,#T_612cf3a6_4771_11eb_aa88_0242ac1c0002row15_col4,#T_612cf3a6_4771_11eb_aa88_0242ac1c0002row15_col6,#T_612cf3a6_4771_11eb_aa88_0242ac1c0002row15_col20{\n",
              "            background-color:  #7699f6;\n",
              "            color:  #000000;\n",
              "        }#T_612cf3a6_4771_11eb_aa88_0242ac1c0002row4_col20,#T_612cf3a6_4771_11eb_aa88_0242ac1c0002row6_col20,#T_612cf3a6_4771_11eb_aa88_0242ac1c0002row21_col13{\n",
              "            background-color:  #f7af91;\n",
              "            color:  #000000;\n",
              "        }#T_612cf3a6_4771_11eb_aa88_0242ac1c0002row4_col23,#T_612cf3a6_4771_11eb_aa88_0242ac1c0002row6_col23{\n",
              "            background-color:  #d65244;\n",
              "            color:  #000000;\n",
              "        }#T_612cf3a6_4771_11eb_aa88_0242ac1c0002row5_col2{\n",
              "            background-color:  #f6bda2;\n",
              "            color:  #000000;\n",
              "        }#T_612cf3a6_4771_11eb_aa88_0242ac1c0002row5_col4,#T_612cf3a6_4771_11eb_aa88_0242ac1c0002row11_col3,#T_612cf3a6_4771_11eb_aa88_0242ac1c0002row11_col23{\n",
              "            background-color:  #d3dbe7;\n",
              "            color:  #000000;\n",
              "        }#T_612cf3a6_4771_11eb_aa88_0242ac1c0002row5_col7,#T_612cf3a6_4771_11eb_aa88_0242ac1c0002row8_col20,#T_612cf3a6_4771_11eb_aa88_0242ac1c0002row11_col18,#T_612cf3a6_4771_11eb_aa88_0242ac1c0002row11_col21,#T_612cf3a6_4771_11eb_aa88_0242ac1c0002row19_col13{\n",
              "            background-color:  #c3d5f4;\n",
              "            color:  #000000;\n",
              "        }#T_612cf3a6_4771_11eb_aa88_0242ac1c0002row5_col8{\n",
              "            background-color:  #cbd8ee;\n",
              "            color:  #000000;\n",
              "        }#T_612cf3a6_4771_11eb_aa88_0242ac1c0002row5_col9,#T_612cf3a6_4771_11eb_aa88_0242ac1c0002row11_col16,#T_612cf3a6_4771_11eb_aa88_0242ac1c0002row19_col15,#T_612cf3a6_4771_11eb_aa88_0242ac1c0002row21_col14{\n",
              "            background-color:  #c9d7f0;\n",
              "            color:  #000000;\n",
              "        }#T_612cf3a6_4771_11eb_aa88_0242ac1c0002row5_col10,#T_612cf3a6_4771_11eb_aa88_0242ac1c0002row5_col23,#T_612cf3a6_4771_11eb_aa88_0242ac1c0002row23_col11{\n",
              "            background-color:  #afcafc;\n",
              "            color:  #000000;\n",
              "        }#T_612cf3a6_4771_11eb_aa88_0242ac1c0002row5_col12,#T_612cf3a6_4771_11eb_aa88_0242ac1c0002row5_col16,#T_612cf3a6_4771_11eb_aa88_0242ac1c0002row9_col17{\n",
              "            background-color:  #aec9fc;\n",
              "            color:  #000000;\n",
              "        }#T_612cf3a6_4771_11eb_aa88_0242ac1c0002row5_col14{\n",
              "            background-color:  #8fb1fe;\n",
              "            color:  #000000;\n",
              "        }#T_612cf3a6_4771_11eb_aa88_0242ac1c0002row5_col17{\n",
              "            background-color:  #cad8ef;\n",
              "            color:  #000000;\n",
              "        }#T_612cf3a6_4771_11eb_aa88_0242ac1c0002row5_col19,#T_612cf3a6_4771_11eb_aa88_0242ac1c0002row7_col8,#T_612cf3a6_4771_11eb_aa88_0242ac1c0002row8_col7{\n",
              "            background-color:  #d0473d;\n",
              "            color:  #f1f1f1;\n",
              "        }#T_612cf3a6_4771_11eb_aa88_0242ac1c0002row6_col2,#T_612cf3a6_4771_11eb_aa88_0242ac1c0002row8_col10,#T_612cf3a6_4771_11eb_aa88_0242ac1c0002row8_col12,#T_612cf3a6_4771_11eb_aa88_0242ac1c0002row9_col4,#T_612cf3a6_4771_11eb_aa88_0242ac1c0002row9_col6,#T_612cf3a6_4771_11eb_aa88_0242ac1c0002row21_col7{\n",
              "            background-color:  #aac7fd;\n",
              "            color:  #000000;\n",
              "        }#T_612cf3a6_4771_11eb_aa88_0242ac1c0002row6_col11,#T_612cf3a6_4771_11eb_aa88_0242ac1c0002row14_col21,#T_612cf3a6_4771_11eb_aa88_0242ac1c0002row17_col5,#T_612cf3a6_4771_11eb_aa88_0242ac1c0002row18_col23{\n",
              "            background-color:  #bed2f6;\n",
              "            color:  #000000;\n",
              "        }#T_612cf3a6_4771_11eb_aa88_0242ac1c0002row7_col1,#T_612cf3a6_4771_11eb_aa88_0242ac1c0002row7_col3,#T_612cf3a6_4771_11eb_aa88_0242ac1c0002row18_col5{\n",
              "            background-color:  #8caffe;\n",
              "            color:  #000000;\n",
              "        }#T_612cf3a6_4771_11eb_aa88_0242ac1c0002row7_col2,#T_612cf3a6_4771_11eb_aa88_0242ac1c0002row8_col4,#T_612cf3a6_4771_11eb_aa88_0242ac1c0002row8_col6,#T_612cf3a6_4771_11eb_aa88_0242ac1c0002row11_col14{\n",
              "            background-color:  #adc9fd;\n",
              "            color:  #000000;\n",
              "        }#T_612cf3a6_4771_11eb_aa88_0242ac1c0002row7_col5{\n",
              "            background-color:  #b7cff9;\n",
              "            color:  #000000;\n",
              "        }#T_612cf3a6_4771_11eb_aa88_0242ac1c0002row7_col9,#T_612cf3a6_4771_11eb_aa88_0242ac1c0002row9_col7{\n",
              "            background-color:  #c12b30;\n",
              "            color:  #f1f1f1;\n",
              "        }#T_612cf3a6_4771_11eb_aa88_0242ac1c0002row7_col11{\n",
              "            background-color:  #e2dad5;\n",
              "            color:  #000000;\n",
              "        }#T_612cf3a6_4771_11eb_aa88_0242ac1c0002row7_col13{\n",
              "            background-color:  #89acfd;\n",
              "            color:  #000000;\n",
              "        }#T_612cf3a6_4771_11eb_aa88_0242ac1c0002row7_col14,#T_612cf3a6_4771_11eb_aa88_0242ac1c0002row13_col16,#T_612cf3a6_4771_11eb_aa88_0242ac1c0002row13_col18{\n",
              "            background-color:  #6e90f2;\n",
              "            color:  #000000;\n",
              "        }#T_612cf3a6_4771_11eb_aa88_0242ac1c0002row7_col15,#T_612cf3a6_4771_11eb_aa88_0242ac1c0002row15_col8,#T_612cf3a6_4771_11eb_aa88_0242ac1c0002row15_col9,#T_612cf3a6_4771_11eb_aa88_0242ac1c0002row18_col20{\n",
              "            background-color:  #8db0fe;\n",
              "            color:  #000000;\n",
              "        }#T_612cf3a6_4771_11eb_aa88_0242ac1c0002row7_col16,#T_612cf3a6_4771_11eb_aa88_0242ac1c0002row7_col18,#T_612cf3a6_4771_11eb_aa88_0242ac1c0002row16_col8,#T_612cf3a6_4771_11eb_aa88_0242ac1c0002row17_col7,#T_612cf3a6_4771_11eb_aa88_0242ac1c0002row20_col16{\n",
              "            background-color:  #a1c0ff;\n",
              "            color:  #000000;\n",
              "        }#T_612cf3a6_4771_11eb_aa88_0242ac1c0002row7_col19{\n",
              "            background-color:  #edd2c3;\n",
              "            color:  #000000;\n",
              "        }#T_612cf3a6_4771_11eb_aa88_0242ac1c0002row7_col21,#T_612cf3a6_4771_11eb_aa88_0242ac1c0002row9_col16,#T_612cf3a6_4771_11eb_aa88_0242ac1c0002row9_col18,#T_612cf3a6_4771_11eb_aa88_0242ac1c0002row17_col9{\n",
              "            background-color:  #a9c6fd;\n",
              "            color:  #000000;\n",
              "        }#T_612cf3a6_4771_11eb_aa88_0242ac1c0002row8_col2,#T_612cf3a6_4771_11eb_aa88_0242ac1c0002row20_col17{\n",
              "            background-color:  #bad0f8;\n",
              "            color:  #000000;\n",
              "        }#T_612cf3a6_4771_11eb_aa88_0242ac1c0002row8_col9,#T_612cf3a6_4771_11eb_aa88_0242ac1c0002row9_col8{\n",
              "            background-color:  #b70d28;\n",
              "            color:  #f1f1f1;\n",
              "        }#T_612cf3a6_4771_11eb_aa88_0242ac1c0002row8_col11,#T_612cf3a6_4771_11eb_aa88_0242ac1c0002row11_col7{\n",
              "            background-color:  #efcfbf;\n",
              "            color:  #000000;\n",
              "        }#T_612cf3a6_4771_11eb_aa88_0242ac1c0002row8_col19{\n",
              "            background-color:  #f5c2aa;\n",
              "            color:  #000000;\n",
              "        }#T_612cf3a6_4771_11eb_aa88_0242ac1c0002row9_col10,#T_612cf3a6_4771_11eb_aa88_0242ac1c0002row9_col12,#T_612cf3a6_4771_11eb_aa88_0242ac1c0002row16_col11{\n",
              "            background-color:  #a7c5fe;\n",
              "            color:  #000000;\n",
              "        }#T_612cf3a6_4771_11eb_aa88_0242ac1c0002row9_col11{\n",
              "            background-color:  #ecd3c5;\n",
              "            color:  #000000;\n",
              "        }#T_612cf3a6_4771_11eb_aa88_0242ac1c0002row9_col14,#T_612cf3a6_4771_11eb_aa88_0242ac1c0002row12_col16,#T_612cf3a6_4771_11eb_aa88_0242ac1c0002row13_col4,#T_612cf3a6_4771_11eb_aa88_0242ac1c0002row13_col6,#T_612cf3a6_4771_11eb_aa88_0242ac1c0002row13_col17,#T_612cf3a6_4771_11eb_aa88_0242ac1c0002row16_col10,#T_612cf3a6_4771_11eb_aa88_0242ac1c0002row16_col12{\n",
              "            background-color:  #7295f4;\n",
              "            color:  #000000;\n",
              "        }#T_612cf3a6_4771_11eb_aa88_0242ac1c0002row9_col19,#T_612cf3a6_4771_11eb_aa88_0242ac1c0002row11_col9{\n",
              "            background-color:  #f3c7b1;\n",
              "            color:  #000000;\n",
              "        }#T_612cf3a6_4771_11eb_aa88_0242ac1c0002row9_col20,#T_612cf3a6_4771_11eb_aa88_0242ac1c0002row16_col23,#T_612cf3a6_4771_11eb_aa88_0242ac1c0002row17_col4,#T_612cf3a6_4771_11eb_aa88_0242ac1c0002row17_col6{\n",
              "            background-color:  #c0d4f5;\n",
              "            color:  #000000;\n",
              "        }#T_612cf3a6_4771_11eb_aa88_0242ac1c0002row10_col1,#T_612cf3a6_4771_11eb_aa88_0242ac1c0002row10_col3,#T_612cf3a6_4771_11eb_aa88_0242ac1c0002row12_col1,#T_612cf3a6_4771_11eb_aa88_0242ac1c0002row12_col3{\n",
              "            background-color:  #dedcdb;\n",
              "            color:  #000000;\n",
              "        }#T_612cf3a6_4771_11eb_aa88_0242ac1c0002row10_col7,#T_612cf3a6_4771_11eb_aa88_0242ac1c0002row12_col7,#T_612cf3a6_4771_11eb_aa88_0242ac1c0002row17_col1,#T_612cf3a6_4771_11eb_aa88_0242ac1c0002row18_col4,#T_612cf3a6_4771_11eb_aa88_0242ac1c0002row18_col6,#T_612cf3a6_4771_11eb_aa88_0242ac1c0002row23_col15{\n",
              "            background-color:  #94b6ff;\n",
              "            color:  #000000;\n",
              "        }#T_612cf3a6_4771_11eb_aa88_0242ac1c0002row10_col11,#T_612cf3a6_4771_11eb_aa88_0242ac1c0002row12_col11,#T_612cf3a6_4771_11eb_aa88_0242ac1c0002row14_col15{\n",
              "            background-color:  #d1dae9;\n",
              "            color:  #000000;\n",
              "        }#T_612cf3a6_4771_11eb_aa88_0242ac1c0002row10_col13,#T_612cf3a6_4771_11eb_aa88_0242ac1c0002row12_col13,#T_612cf3a6_4771_11eb_aa88_0242ac1c0002row12_col14,#T_612cf3a6_4771_11eb_aa88_0242ac1c0002row14_col13{\n",
              "            background-color:  #6384eb;\n",
              "            color:  #000000;\n",
              "        }#T_612cf3a6_4771_11eb_aa88_0242ac1c0002row10_col14,#T_612cf3a6_4771_11eb_aa88_0242ac1c0002row10_col15,#T_612cf3a6_4771_11eb_aa88_0242ac1c0002row12_col15{\n",
              "            background-color:  #6485ec;\n",
              "            color:  #000000;\n",
              "        }#T_612cf3a6_4771_11eb_aa88_0242ac1c0002row10_col18,#T_612cf3a6_4771_11eb_aa88_0242ac1c0002row10_col21,#T_612cf3a6_4771_11eb_aa88_0242ac1c0002row12_col18,#T_612cf3a6_4771_11eb_aa88_0242ac1c0002row12_col21,#T_612cf3a6_4771_11eb_aa88_0242ac1c0002row14_col2,#T_612cf3a6_4771_11eb_aa88_0242ac1c0002row14_col5,#T_612cf3a6_4771_11eb_aa88_0242ac1c0002row16_col13{\n",
              "            background-color:  #6f92f3;\n",
              "            color:  #000000;\n",
              "        }#T_612cf3a6_4771_11eb_aa88_0242ac1c0002row10_col20,#T_612cf3a6_4771_11eb_aa88_0242ac1c0002row12_col20{\n",
              "            background-color:  #e46e56;\n",
              "            color:  #000000;\n",
              "        }#T_612cf3a6_4771_11eb_aa88_0242ac1c0002row11_col1,#T_612cf3a6_4771_11eb_aa88_0242ac1c0002row20_col5{\n",
              "            background-color:  #d2dbe8;\n",
              "            color:  #000000;\n",
              "        }#T_612cf3a6_4771_11eb_aa88_0242ac1c0002row11_col2{\n",
              "            background-color:  #f2cab5;\n",
              "            color:  #000000;\n",
              "        }#T_612cf3a6_4771_11eb_aa88_0242ac1c0002row11_col5,#T_612cf3a6_4771_11eb_aa88_0242ac1c0002row19_col8{\n",
              "            background-color:  #f7b599;\n",
              "            color:  #000000;\n",
              "        }#T_612cf3a6_4771_11eb_aa88_0242ac1c0002row11_col8,#T_612cf3a6_4771_11eb_aa88_0242ac1c0002row19_col7{\n",
              "            background-color:  #f5c4ac;\n",
              "            color:  #000000;\n",
              "        }#T_612cf3a6_4771_11eb_aa88_0242ac1c0002row11_col10,#T_612cf3a6_4771_11eb_aa88_0242ac1c0002row11_col12{\n",
              "            background-color:  #e6d7cf;\n",
              "            color:  #000000;\n",
              "        }#T_612cf3a6_4771_11eb_aa88_0242ac1c0002row11_col17{\n",
              "            background-color:  #dbdcde;\n",
              "            color:  #000000;\n",
              "        }#T_612cf3a6_4771_11eb_aa88_0242ac1c0002row11_col19,#T_612cf3a6_4771_11eb_aa88_0242ac1c0002row19_col11{\n",
              "            background-color:  #ea7b60;\n",
              "            color:  #000000;\n",
              "        }#T_612cf3a6_4771_11eb_aa88_0242ac1c0002row11_col20{\n",
              "            background-color:  #f2c9b4;\n",
              "            color:  #000000;\n",
              "        }#T_612cf3a6_4771_11eb_aa88_0242ac1c0002row13_col5{\n",
              "            background-color:  #5673e0;\n",
              "            color:  #000000;\n",
              "        }#T_612cf3a6_4771_11eb_aa88_0242ac1c0002row13_col10,#T_612cf3a6_4771_11eb_aa88_0242ac1c0002row13_col12{\n",
              "            background-color:  #6180e9;\n",
              "            color:  #000000;\n",
              "        }#T_612cf3a6_4771_11eb_aa88_0242ac1c0002row13_col11,#T_612cf3a6_4771_11eb_aa88_0242ac1c0002row13_col20{\n",
              "            background-color:  #7093f3;\n",
              "            color:  #000000;\n",
              "        }#T_612cf3a6_4771_11eb_aa88_0242ac1c0002row13_col15,#T_612cf3a6_4771_11eb_aa88_0242ac1c0002row15_col13{\n",
              "            background-color:  #cf453c;\n",
              "            color:  #f1f1f1;\n",
              "        }#T_612cf3a6_4771_11eb_aa88_0242ac1c0002row13_col21{\n",
              "            background-color:  #f7b396;\n",
              "            color:  #000000;\n",
              "        }#T_612cf3a6_4771_11eb_aa88_0242ac1c0002row14_col1,#T_612cf3a6_4771_11eb_aa88_0242ac1c0002row14_col3,#T_612cf3a6_4771_11eb_aa88_0242ac1c0002row14_col4,#T_612cf3a6_4771_11eb_aa88_0242ac1c0002row14_col6{\n",
              "            background-color:  #5f7fe8;\n",
              "            color:  #000000;\n",
              "        }#T_612cf3a6_4771_11eb_aa88_0242ac1c0002row14_col7,#T_612cf3a6_4771_11eb_aa88_0242ac1c0002row14_col9{\n",
              "            background-color:  #5d7ce6;\n",
              "            color:  #000000;\n",
              "        }#T_612cf3a6_4771_11eb_aa88_0242ac1c0002row14_col8{\n",
              "            background-color:  #5e7de7;\n",
              "            color:  #000000;\n",
              "        }#T_612cf3a6_4771_11eb_aa88_0242ac1c0002row14_col10,#T_612cf3a6_4771_11eb_aa88_0242ac1c0002row14_col12{\n",
              "            background-color:  #5b7ae5;\n",
              "            color:  #000000;\n",
              "        }#T_612cf3a6_4771_11eb_aa88_0242ac1c0002row14_col20,#T_612cf3a6_4771_11eb_aa88_0242ac1c0002row15_col5{\n",
              "            background-color:  #6282ea;\n",
              "            color:  #000000;\n",
              "        }#T_612cf3a6_4771_11eb_aa88_0242ac1c0002row15_col10,#T_612cf3a6_4771_11eb_aa88_0242ac1c0002row15_col12{\n",
              "            background-color:  #6788ee;\n",
              "            color:  #000000;\n",
              "        }#T_612cf3a6_4771_11eb_aa88_0242ac1c0002row15_col21{\n",
              "            background-color:  #f39577;\n",
              "            color:  #000000;\n",
              "        }#T_612cf3a6_4771_11eb_aa88_0242ac1c0002row16_col17{\n",
              "            background-color:  #de614d;\n",
              "            color:  #000000;\n",
              "        }#T_612cf3a6_4771_11eb_aa88_0242ac1c0002row16_col18,#T_612cf3a6_4771_11eb_aa88_0242ac1c0002row18_col16{\n",
              "            background-color:  #b50927;\n",
              "            color:  #f1f1f1;\n",
              "        }#T_612cf3a6_4771_11eb_aa88_0242ac1c0002row16_col21{\n",
              "            background-color:  #f18d6f;\n",
              "            color:  #000000;\n",
              "        }#T_612cf3a6_4771_11eb_aa88_0242ac1c0002row17_col2,#T_612cf3a6_4771_11eb_aa88_0242ac1c0002row21_col9{\n",
              "            background-color:  #b1cbfc;\n",
              "            color:  #000000;\n",
              "        }#T_612cf3a6_4771_11eb_aa88_0242ac1c0002row17_col11{\n",
              "            background-color:  #c5d6f2;\n",
              "            color:  #000000;\n",
              "        }#T_612cf3a6_4771_11eb_aa88_0242ac1c0002row17_col14,#T_612cf3a6_4771_11eb_aa88_0242ac1c0002row21_col5{\n",
              "            background-color:  #8badfd;\n",
              "            color:  #000000;\n",
              "        }#T_612cf3a6_4771_11eb_aa88_0242ac1c0002row17_col16{\n",
              "            background-color:  #dd5f4b;\n",
              "            color:  #000000;\n",
              "        }#T_612cf3a6_4771_11eb_aa88_0242ac1c0002row17_col18{\n",
              "            background-color:  #e67259;\n",
              "            color:  #000000;\n",
              "        }#T_612cf3a6_4771_11eb_aa88_0242ac1c0002row17_col19{\n",
              "            background-color:  #dfdbd9;\n",
              "            color:  #000000;\n",
              "        }#T_612cf3a6_4771_11eb_aa88_0242ac1c0002row17_col21{\n",
              "            background-color:  #f7b194;\n",
              "            color:  #000000;\n",
              "        }#T_612cf3a6_4771_11eb_aa88_0242ac1c0002row17_col23,#T_612cf3a6_4771_11eb_aa88_0242ac1c0002row19_col16{\n",
              "            background-color:  #dcdddd;\n",
              "            color:  #000000;\n",
              "        }#T_612cf3a6_4771_11eb_aa88_0242ac1c0002row18_col10,#T_612cf3a6_4771_11eb_aa88_0242ac1c0002row18_col12,#T_612cf3a6_4771_11eb_aa88_0242ac1c0002row18_col13{\n",
              "            background-color:  #6c8ff1;\n",
              "            color:  #000000;\n",
              "        }#T_612cf3a6_4771_11eb_aa88_0242ac1c0002row18_col17{\n",
              "            background-color:  #e7745b;\n",
              "            color:  #000000;\n",
              "        }#T_612cf3a6_4771_11eb_aa88_0242ac1c0002row18_col21{\n",
              "            background-color:  #f08b6e;\n",
              "            color:  #000000;\n",
              "        }#T_612cf3a6_4771_11eb_aa88_0242ac1c0002row19_col2,#T_612cf3a6_4771_11eb_aa88_0242ac1c0002row21_col18{\n",
              "            background-color:  #ef886b;\n",
              "            color:  #000000;\n",
              "        }#T_612cf3a6_4771_11eb_aa88_0242ac1c0002row19_col5{\n",
              "            background-color:  #cd423b;\n",
              "            color:  #f1f1f1;\n",
              "        }#T_612cf3a6_4771_11eb_aa88_0242ac1c0002row19_col9{\n",
              "            background-color:  #f7b89c;\n",
              "            color:  #000000;\n",
              "        }#T_612cf3a6_4771_11eb_aa88_0242ac1c0002row19_col14,#T_612cf3a6_4771_11eb_aa88_0242ac1c0002row20_col7{\n",
              "            background-color:  #b9d0f9;\n",
              "            color:  #000000;\n",
              "        }#T_612cf3a6_4771_11eb_aa88_0242ac1c0002row19_col17{\n",
              "            background-color:  #efcebd;\n",
              "            color:  #000000;\n",
              "        }#T_612cf3a6_4771_11eb_aa88_0242ac1c0002row19_col20{\n",
              "            background-color:  #f2cbb7;\n",
              "            color:  #000000;\n",
              "        }#T_612cf3a6_4771_11eb_aa88_0242ac1c0002row19_col21{\n",
              "            background-color:  #e1dad6;\n",
              "            color:  #000000;\n",
              "        }#T_612cf3a6_4771_11eb_aa88_0242ac1c0002row19_col23{\n",
              "            background-color:  #dddcdc;\n",
              "            color:  #000000;\n",
              "        }#T_612cf3a6_4771_11eb_aa88_0242ac1c0002row20_col1{\n",
              "            background-color:  #ead4c8;\n",
              "            color:  #000000;\n",
              "        }#T_612cf3a6_4771_11eb_aa88_0242ac1c0002row20_col3,#T_612cf3a6_4771_11eb_aa88_0242ac1c0002row20_col11{\n",
              "            background-color:  #ebd3c6;\n",
              "            color:  #000000;\n",
              "        }#T_612cf3a6_4771_11eb_aa88_0242ac1c0002row20_col4,#T_612cf3a6_4771_11eb_aa88_0242ac1c0002row20_col6{\n",
              "            background-color:  #f7aa8c;\n",
              "            color:  #000000;\n",
              "        }#T_612cf3a6_4771_11eb_aa88_0242ac1c0002row20_col10,#T_612cf3a6_4771_11eb_aa88_0242ac1c0002row20_col12{\n",
              "            background-color:  #e36b54;\n",
              "            color:  #000000;\n",
              "        }#T_612cf3a6_4771_11eb_aa88_0242ac1c0002row20_col23,#T_612cf3a6_4771_11eb_aa88_0242ac1c0002row21_col16{\n",
              "            background-color:  #f08a6c;\n",
              "            color:  #000000;\n",
              "        }#T_612cf3a6_4771_11eb_aa88_0242ac1c0002row21_col15{\n",
              "            background-color:  #f29274;\n",
              "            color:  #000000;\n",
              "        }#T_612cf3a6_4771_11eb_aa88_0242ac1c0002row21_col17{\n",
              "            background-color:  #f7b093;\n",
              "            color:  #000000;\n",
              "        }#T_612cf3a6_4771_11eb_aa88_0242ac1c0002row23_col4,#T_612cf3a6_4771_11eb_aa88_0242ac1c0002row23_col6{\n",
              "            background-color:  #d75445;\n",
              "            color:  #000000;\n",
              "        }#T_612cf3a6_4771_11eb_aa88_0242ac1c0002row23_col10,#T_612cf3a6_4771_11eb_aa88_0242ac1c0002row23_col12,#T_612cf3a6_4771_11eb_aa88_0242ac1c0002row23_col19{\n",
              "            background-color:  #bcd2f7;\n",
              "            color:  #000000;\n",
              "        }#T_612cf3a6_4771_11eb_aa88_0242ac1c0002row23_col14{\n",
              "            background-color:  #6a8bef;\n",
              "            color:  #000000;\n",
              "        }#T_612cf3a6_4771_11eb_aa88_0242ac1c0002row23_col16,#T_612cf3a6_4771_11eb_aa88_0242ac1c0002row23_col18{\n",
              "            background-color:  #bbd1f8;\n",
              "            color:  #000000;\n",
              "        }#T_612cf3a6_4771_11eb_aa88_0242ac1c0002row23_col20{\n",
              "            background-color:  #f29072;\n",
              "            color:  #000000;\n",
              "        }</style><table id=\"T_612cf3a6_4771_11eb_aa88_0242ac1c0002\" ><thead>    <tr>        <th class=\"blank level0\" ></th>        <th class=\"col_heading level0 col0\" >Sector_score</th>        <th class=\"col_heading level0 col1\" >PARA_A</th>        <th class=\"col_heading level0 col2\" >Score_A</th>        <th class=\"col_heading level0 col3\" >Risk_A</th>        <th class=\"col_heading level0 col4\" >PARA_B</th>        <th class=\"col_heading level0 col5\" >Score_B</th>        <th class=\"col_heading level0 col6\" >Risk_B</th>        <th class=\"col_heading level0 col7\" >numbers</th>        <th class=\"col_heading level0 col8\" >Score_B.1</th>        <th class=\"col_heading level0 col9\" >Risk_C</th>        <th class=\"col_heading level0 col10\" >Money_Value</th>        <th class=\"col_heading level0 col11\" >Score_MV</th>        <th class=\"col_heading level0 col12\" >Risk_D</th>        <th class=\"col_heading level0 col13\" >District_Loss</th>        <th class=\"col_heading level0 col14\" >PROB</th>        <th class=\"col_heading level0 col15\" >RiSk_E</th>        <th class=\"col_heading level0 col16\" >History</th>        <th class=\"col_heading level0 col17\" >Prob</th>        <th class=\"col_heading level0 col18\" >Risk_F</th>        <th class=\"col_heading level0 col19\" >Score</th>        <th class=\"col_heading level0 col20\" >Inherent_Risk</th>        <th class=\"col_heading level0 col21\" >CONTROL_RISK</th>        <th class=\"col_heading level0 col22\" >Detection_Risk</th>        <th class=\"col_heading level0 col23\" >Audit_Risk</th>    </tr></thead><tbody>\n",
              "                <tr>\n",
              "                        <th id=\"T_612cf3a6_4771_11eb_aa88_0242ac1c0002level0_row0\" class=\"row_heading level0 row0\" >Sector_score</th>\n",
              "                        <td id=\"T_612cf3a6_4771_11eb_aa88_0242ac1c0002row0_col0\" class=\"data row0 col0\" >1.0</td>\n",
              "                        <td id=\"T_612cf3a6_4771_11eb_aa88_0242ac1c0002row0_col1\" class=\"data row0 col1\" >-0.22</td>\n",
              "                        <td id=\"T_612cf3a6_4771_11eb_aa88_0242ac1c0002row0_col2\" class=\"data row0 col2\" >-0.43</td>\n",
              "                        <td id=\"T_612cf3a6_4771_11eb_aa88_0242ac1c0002row0_col3\" class=\"data row0 col3\" >-0.22</td>\n",
              "                        <td id=\"T_612cf3a6_4771_11eb_aa88_0242ac1c0002row0_col4\" class=\"data row0 col4\" >-0.13</td>\n",
              "                        <td id=\"T_612cf3a6_4771_11eb_aa88_0242ac1c0002row0_col5\" class=\"data row0 col5\" >-0.22</td>\n",
              "                        <td id=\"T_612cf3a6_4771_11eb_aa88_0242ac1c0002row0_col6\" class=\"data row0 col6\" >-0.13</td>\n",
              "                        <td id=\"T_612cf3a6_4771_11eb_aa88_0242ac1c0002row0_col7\" class=\"data row0 col7\" >-0.15</td>\n",
              "                        <td id=\"T_612cf3a6_4771_11eb_aa88_0242ac1c0002row0_col8\" class=\"data row0 col8\" >-0.17</td>\n",
              "                        <td id=\"T_612cf3a6_4771_11eb_aa88_0242ac1c0002row0_col9\" class=\"data row0 col9\" >-0.17</td>\n",
              "                        <td id=\"T_612cf3a6_4771_11eb_aa88_0242ac1c0002row0_col10\" class=\"data row0 col10\" >-0.12</td>\n",
              "                        <td id=\"T_612cf3a6_4771_11eb_aa88_0242ac1c0002row0_col11\" class=\"data row0 col11\" >-0.32</td>\n",
              "                        <td id=\"T_612cf3a6_4771_11eb_aa88_0242ac1c0002row0_col12\" class=\"data row0 col12\" >-0.12</td>\n",
              "                        <td id=\"T_612cf3a6_4771_11eb_aa88_0242ac1c0002row0_col13\" class=\"data row0 col13\" >-0.11</td>\n",
              "                        <td id=\"T_612cf3a6_4771_11eb_aa88_0242ac1c0002row0_col14\" class=\"data row0 col14\" >-0.087</td>\n",
              "                        <td id=\"T_612cf3a6_4771_11eb_aa88_0242ac1c0002row0_col15\" class=\"data row0 col15\" >-0.13</td>\n",
              "                        <td id=\"T_612cf3a6_4771_11eb_aa88_0242ac1c0002row0_col16\" class=\"data row0 col16\" >-0.11</td>\n",
              "                        <td id=\"T_612cf3a6_4771_11eb_aa88_0242ac1c0002row0_col17\" class=\"data row0 col17\" >-0.14</td>\n",
              "                        <td id=\"T_612cf3a6_4771_11eb_aa88_0242ac1c0002row0_col18\" class=\"data row0 col18\" >-0.1</td>\n",
              "                        <td id=\"T_612cf3a6_4771_11eb_aa88_0242ac1c0002row0_col19\" class=\"data row0 col19\" >-0.34</td>\n",
              "                        <td id=\"T_612cf3a6_4771_11eb_aa88_0242ac1c0002row0_col20\" class=\"data row0 col20\" >-0.17</td>\n",
              "                        <td id=\"T_612cf3a6_4771_11eb_aa88_0242ac1c0002row0_col21\" class=\"data row0 col21\" >-0.15</td>\n",
              "                        <td id=\"T_612cf3a6_4771_11eb_aa88_0242ac1c0002row0_col22\" class=\"data row0 col22\" >nan</td>\n",
              "                        <td id=\"T_612cf3a6_4771_11eb_aa88_0242ac1c0002row0_col23\" class=\"data row0 col23\" >-0.092</td>\n",
              "            </tr>\n",
              "            <tr>\n",
              "                        <th id=\"T_612cf3a6_4771_11eb_aa88_0242ac1c0002level0_row1\" class=\"row_heading level0 row1\" >PARA_A</th>\n",
              "                        <td id=\"T_612cf3a6_4771_11eb_aa88_0242ac1c0002row1_col0\" class=\"data row1 col0\" >-0.22</td>\n",
              "                        <td id=\"T_612cf3a6_4771_11eb_aa88_0242ac1c0002row1_col1\" class=\"data row1 col1\" >1.0</td>\n",
              "                        <td id=\"T_612cf3a6_4771_11eb_aa88_0242ac1c0002row1_col2\" class=\"data row1 col2\" >0.5</td>\n",
              "                        <td id=\"T_612cf3a6_4771_11eb_aa88_0242ac1c0002row1_col3\" class=\"data row1 col3\" >1.0</td>\n",
              "                        <td id=\"T_612cf3a6_4771_11eb_aa88_0242ac1c0002row1_col4\" class=\"data row1 col4\" >0.16</td>\n",
              "                        <td id=\"T_612cf3a6_4771_11eb_aa88_0242ac1c0002row1_col5\" class=\"data row1 col5\" >0.36</td>\n",
              "                        <td id=\"T_612cf3a6_4771_11eb_aa88_0242ac1c0002row1_col6\" class=\"data row1 col6\" >0.16</td>\n",
              "                        <td id=\"T_612cf3a6_4771_11eb_aa88_0242ac1c0002row1_col7\" class=\"data row1 col7\" >0.13</td>\n",
              "                        <td id=\"T_612cf3a6_4771_11eb_aa88_0242ac1c0002row1_col8\" class=\"data row1 col8\" >0.14</td>\n",
              "                        <td id=\"T_612cf3a6_4771_11eb_aa88_0242ac1c0002row1_col9\" class=\"data row1 col9\" >0.14</td>\n",
              "                        <td id=\"T_612cf3a6_4771_11eb_aa88_0242ac1c0002row1_col10\" class=\"data row1 col10\" >0.45</td>\n",
              "                        <td id=\"T_612cf3a6_4771_11eb_aa88_0242ac1c0002row1_col11\" class=\"data row1 col11\" >0.29</td>\n",
              "                        <td id=\"T_612cf3a6_4771_11eb_aa88_0242ac1c0002row1_col12\" class=\"data row1 col12\" >0.45</td>\n",
              "                        <td id=\"T_612cf3a6_4771_11eb_aa88_0242ac1c0002row1_col13\" class=\"data row1 col13\" >0.13</td>\n",
              "                        <td id=\"T_612cf3a6_4771_11eb_aa88_0242ac1c0002row1_col14\" class=\"data row1 col14\" >0.044</td>\n",
              "                        <td id=\"T_612cf3a6_4771_11eb_aa88_0242ac1c0002row1_col15\" class=\"data row1 col15\" >0.12</td>\n",
              "                        <td id=\"T_612cf3a6_4771_11eb_aa88_0242ac1c0002row1_col16\" class=\"data row1 col16\" >0.12</td>\n",
              "                        <td id=\"T_612cf3a6_4771_11eb_aa88_0242ac1c0002row1_col17\" class=\"data row1 col17\" >0.17</td>\n",
              "                        <td id=\"T_612cf3a6_4771_11eb_aa88_0242ac1c0002row1_col18\" class=\"data row1 col18\" >0.1</td>\n",
              "                        <td id=\"T_612cf3a6_4771_11eb_aa88_0242ac1c0002row1_col19\" class=\"data row1 col19\" >0.43</td>\n",
              "                        <td id=\"T_612cf3a6_4771_11eb_aa88_0242ac1c0002row1_col20\" class=\"data row1 col20\" >0.48</td>\n",
              "                        <td id=\"T_612cf3a6_4771_11eb_aa88_0242ac1c0002row1_col21\" class=\"data row1 col21\" >0.15</td>\n",
              "                        <td id=\"T_612cf3a6_4771_11eb_aa88_0242ac1c0002row1_col22\" class=\"data row1 col22\" >nan</td>\n",
              "                        <td id=\"T_612cf3a6_4771_11eb_aa88_0242ac1c0002row1_col23\" class=\"data row1 col23\" >0.22</td>\n",
              "            </tr>\n",
              "            <tr>\n",
              "                        <th id=\"T_612cf3a6_4771_11eb_aa88_0242ac1c0002level0_row2\" class=\"row_heading level0 row2\" >Score_A</th>\n",
              "                        <td id=\"T_612cf3a6_4771_11eb_aa88_0242ac1c0002row2_col0\" class=\"data row2 col0\" >-0.43</td>\n",
              "                        <td id=\"T_612cf3a6_4771_11eb_aa88_0242ac1c0002row2_col1\" class=\"data row2 col1\" >0.5</td>\n",
              "                        <td id=\"T_612cf3a6_4771_11eb_aa88_0242ac1c0002row2_col2\" class=\"data row2 col2\" >1.0</td>\n",
              "                        <td id=\"T_612cf3a6_4771_11eb_aa88_0242ac1c0002row2_col3\" class=\"data row2 col3\" >0.5</td>\n",
              "                        <td id=\"T_612cf3a6_4771_11eb_aa88_0242ac1c0002row2_col4\" class=\"data row2 col4\" >0.25</td>\n",
              "                        <td id=\"T_612cf3a6_4771_11eb_aa88_0242ac1c0002row2_col5\" class=\"data row2 col5\" >0.57</td>\n",
              "                        <td id=\"T_612cf3a6_4771_11eb_aa88_0242ac1c0002row2_col6\" class=\"data row2 col6\" >0.25</td>\n",
              "                        <td id=\"T_612cf3a6_4771_11eb_aa88_0242ac1c0002row2_col7\" class=\"data row2 col7\" >0.24</td>\n",
              "                        <td id=\"T_612cf3a6_4771_11eb_aa88_0242ac1c0002row2_col8\" class=\"data row2 col8\" >0.27</td>\n",
              "                        <td id=\"T_612cf3a6_4771_11eb_aa88_0242ac1c0002row2_col9\" class=\"data row2 col9\" >0.27</td>\n",
              "                        <td id=\"T_612cf3a6_4771_11eb_aa88_0242ac1c0002row2_col10\" class=\"data row2 col10\" >0.21</td>\n",
              "                        <td id=\"T_612cf3a6_4771_11eb_aa88_0242ac1c0002row2_col11\" class=\"data row2 col11\" >0.48</td>\n",
              "                        <td id=\"T_612cf3a6_4771_11eb_aa88_0242ac1c0002row2_col12\" class=\"data row2 col12\" >0.2</td>\n",
              "                        <td id=\"T_612cf3a6_4771_11eb_aa88_0242ac1c0002row2_col13\" class=\"data row2 col13\" >0.089</td>\n",
              "                        <td id=\"T_612cf3a6_4771_11eb_aa88_0242ac1c0002row2_col14\" class=\"data row2 col14\" >0.094</td>\n",
              "                        <td id=\"T_612cf3a6_4771_11eb_aa88_0242ac1c0002row2_col15\" class=\"data row2 col15\" >0.1</td>\n",
              "                        <td id=\"T_612cf3a6_4771_11eb_aa88_0242ac1c0002row2_col16\" class=\"data row2 col16\" >0.18</td>\n",
              "                        <td id=\"T_612cf3a6_4771_11eb_aa88_0242ac1c0002row2_col17\" class=\"data row2 col17\" >0.27</td>\n",
              "                        <td id=\"T_612cf3a6_4771_11eb_aa88_0242ac1c0002row2_col18\" class=\"data row2 col18\" >0.15</td>\n",
              "                        <td id=\"T_612cf3a6_4771_11eb_aa88_0242ac1c0002row2_col19\" class=\"data row2 col19\" >0.72</td>\n",
              "                        <td id=\"T_612cf3a6_4771_11eb_aa88_0242ac1c0002row2_col20\" class=\"data row2 col20\" >0.32</td>\n",
              "                        <td id=\"T_612cf3a6_4771_11eb_aa88_0242ac1c0002row2_col21\" class=\"data row2 col21\" >0.17</td>\n",
              "                        <td id=\"T_612cf3a6_4771_11eb_aa88_0242ac1c0002row2_col22\" class=\"data row2 col22\" >nan</td>\n",
              "                        <td id=\"T_612cf3a6_4771_11eb_aa88_0242ac1c0002row2_col23\" class=\"data row2 col23\" >0.2</td>\n",
              "            </tr>\n",
              "            <tr>\n",
              "                        <th id=\"T_612cf3a6_4771_11eb_aa88_0242ac1c0002level0_row3\" class=\"row_heading level0 row3\" >Risk_A</th>\n",
              "                        <td id=\"T_612cf3a6_4771_11eb_aa88_0242ac1c0002row3_col0\" class=\"data row3 col0\" >-0.22</td>\n",
              "                        <td id=\"T_612cf3a6_4771_11eb_aa88_0242ac1c0002row3_col1\" class=\"data row3 col1\" >1.0</td>\n",
              "                        <td id=\"T_612cf3a6_4771_11eb_aa88_0242ac1c0002row3_col2\" class=\"data row3 col2\" >0.5</td>\n",
              "                        <td id=\"T_612cf3a6_4771_11eb_aa88_0242ac1c0002row3_col3\" class=\"data row3 col3\" >1.0</td>\n",
              "                        <td id=\"T_612cf3a6_4771_11eb_aa88_0242ac1c0002row3_col4\" class=\"data row3 col4\" >0.17</td>\n",
              "                        <td id=\"T_612cf3a6_4771_11eb_aa88_0242ac1c0002row3_col5\" class=\"data row3 col5\" >0.36</td>\n",
              "                        <td id=\"T_612cf3a6_4771_11eb_aa88_0242ac1c0002row3_col6\" class=\"data row3 col6\" >0.17</td>\n",
              "                        <td id=\"T_612cf3a6_4771_11eb_aa88_0242ac1c0002row3_col7\" class=\"data row3 col7\" >0.14</td>\n",
              "                        <td id=\"T_612cf3a6_4771_11eb_aa88_0242ac1c0002row3_col8\" class=\"data row3 col8\" >0.14</td>\n",
              "                        <td id=\"T_612cf3a6_4771_11eb_aa88_0242ac1c0002row3_col9\" class=\"data row3 col9\" >0.14</td>\n",
              "                        <td id=\"T_612cf3a6_4771_11eb_aa88_0242ac1c0002row3_col10\" class=\"data row3 col10\" >0.45</td>\n",
              "                        <td id=\"T_612cf3a6_4771_11eb_aa88_0242ac1c0002row3_col11\" class=\"data row3 col11\" >0.29</td>\n",
              "                        <td id=\"T_612cf3a6_4771_11eb_aa88_0242ac1c0002row3_col12\" class=\"data row3 col12\" >0.45</td>\n",
              "                        <td id=\"T_612cf3a6_4771_11eb_aa88_0242ac1c0002row3_col13\" class=\"data row3 col13\" >0.13</td>\n",
              "                        <td id=\"T_612cf3a6_4771_11eb_aa88_0242ac1c0002row3_col14\" class=\"data row3 col14\" >0.044</td>\n",
              "                        <td id=\"T_612cf3a6_4771_11eb_aa88_0242ac1c0002row3_col15\" class=\"data row3 col15\" >0.12</td>\n",
              "                        <td id=\"T_612cf3a6_4771_11eb_aa88_0242ac1c0002row3_col16\" class=\"data row3 col16\" >0.12</td>\n",
              "                        <td id=\"T_612cf3a6_4771_11eb_aa88_0242ac1c0002row3_col17\" class=\"data row3 col17\" >0.18</td>\n",
              "                        <td id=\"T_612cf3a6_4771_11eb_aa88_0242ac1c0002row3_col18\" class=\"data row3 col18\" >0.11</td>\n",
              "                        <td id=\"T_612cf3a6_4771_11eb_aa88_0242ac1c0002row3_col19\" class=\"data row3 col19\" >0.43</td>\n",
              "                        <td id=\"T_612cf3a6_4771_11eb_aa88_0242ac1c0002row3_col20\" class=\"data row3 col20\" >0.48</td>\n",
              "                        <td id=\"T_612cf3a6_4771_11eb_aa88_0242ac1c0002row3_col21\" class=\"data row3 col21\" >0.15</td>\n",
              "                        <td id=\"T_612cf3a6_4771_11eb_aa88_0242ac1c0002row3_col22\" class=\"data row3 col22\" >nan</td>\n",
              "                        <td id=\"T_612cf3a6_4771_11eb_aa88_0242ac1c0002row3_col23\" class=\"data row3 col23\" >0.22</td>\n",
              "            </tr>\n",
              "            <tr>\n",
              "                        <th id=\"T_612cf3a6_4771_11eb_aa88_0242ac1c0002level0_row4\" class=\"row_heading level0 row4\" >PARA_B</th>\n",
              "                        <td id=\"T_612cf3a6_4771_11eb_aa88_0242ac1c0002row4_col0\" class=\"data row4 col0\" >-0.13</td>\n",
              "                        <td id=\"T_612cf3a6_4771_11eb_aa88_0242ac1c0002row4_col1\" class=\"data row4 col1\" >0.16</td>\n",
              "                        <td id=\"T_612cf3a6_4771_11eb_aa88_0242ac1c0002row4_col2\" class=\"data row4 col2\" >0.25</td>\n",
              "                        <td id=\"T_612cf3a6_4771_11eb_aa88_0242ac1c0002row4_col3\" class=\"data row4 col3\" >0.17</td>\n",
              "                        <td id=\"T_612cf3a6_4771_11eb_aa88_0242ac1c0002row4_col4\" class=\"data row4 col4\" >1.0</td>\n",
              "                        <td id=\"T_612cf3a6_4771_11eb_aa88_0242ac1c0002row4_col5\" class=\"data row4 col5\" >0.35</td>\n",
              "                        <td id=\"T_612cf3a6_4771_11eb_aa88_0242ac1c0002row4_col6\" class=\"data row4 col6\" >1.0</td>\n",
              "                        <td id=\"T_612cf3a6_4771_11eb_aa88_0242ac1c0002row4_col7\" class=\"data row4 col7\" >0.21</td>\n",
              "                        <td id=\"T_612cf3a6_4771_11eb_aa88_0242ac1c0002row4_col8\" class=\"data row4 col8\" >0.23</td>\n",
              "                        <td id=\"T_612cf3a6_4771_11eb_aa88_0242ac1c0002row4_col9\" class=\"data row4 col9\" >0.22</td>\n",
              "                        <td id=\"T_612cf3a6_4771_11eb_aa88_0242ac1c0002row4_col10\" class=\"data row4 col10\" >0.13</td>\n",
              "                        <td id=\"T_612cf3a6_4771_11eb_aa88_0242ac1c0002row4_col11\" class=\"data row4 col11\" >0.31</td>\n",
              "                        <td id=\"T_612cf3a6_4771_11eb_aa88_0242ac1c0002row4_col12\" class=\"data row4 col12\" >0.12</td>\n",
              "                        <td id=\"T_612cf3a6_4771_11eb_aa88_0242ac1c0002row4_col13\" class=\"data row4 col13\" >0.083</td>\n",
              "                        <td id=\"T_612cf3a6_4771_11eb_aa88_0242ac1c0002row4_col14\" class=\"data row4 col14\" >0.043</td>\n",
              "                        <td id=\"T_612cf3a6_4771_11eb_aa88_0242ac1c0002row4_col15\" class=\"data row4 col15\" >0.079</td>\n",
              "                        <td id=\"T_612cf3a6_4771_11eb_aa88_0242ac1c0002row4_col16\" class=\"data row4 col16\" >0.2</td>\n",
              "                        <td id=\"T_612cf3a6_4771_11eb_aa88_0242ac1c0002row4_col17\" class=\"data row4 col17\" >0.32</td>\n",
              "                        <td id=\"T_612cf3a6_4771_11eb_aa88_0242ac1c0002row4_col18\" class=\"data row4 col18\" >0.2</td>\n",
              "                        <td id=\"T_612cf3a6_4771_11eb_aa88_0242ac1c0002row4_col19\" class=\"data row4 col19\" >0.4</td>\n",
              "                        <td id=\"T_612cf3a6_4771_11eb_aa88_0242ac1c0002row4_col20\" class=\"data row4 col20\" >0.65</td>\n",
              "                        <td id=\"T_612cf3a6_4771_11eb_aa88_0242ac1c0002row4_col21\" class=\"data row4 col21\" >0.19</td>\n",
              "                        <td id=\"T_612cf3a6_4771_11eb_aa88_0242ac1c0002row4_col22\" class=\"data row4 col22\" >nan</td>\n",
              "                        <td id=\"T_612cf3a6_4771_11eb_aa88_0242ac1c0002row4_col23\" class=\"data row4 col23\" >0.89</td>\n",
              "            </tr>\n",
              "            <tr>\n",
              "                        <th id=\"T_612cf3a6_4771_11eb_aa88_0242ac1c0002level0_row5\" class=\"row_heading level0 row5\" >Score_B</th>\n",
              "                        <td id=\"T_612cf3a6_4771_11eb_aa88_0242ac1c0002row5_col0\" class=\"data row5 col0\" >-0.22</td>\n",
              "                        <td id=\"T_612cf3a6_4771_11eb_aa88_0242ac1c0002row5_col1\" class=\"data row5 col1\" >0.36</td>\n",
              "                        <td id=\"T_612cf3a6_4771_11eb_aa88_0242ac1c0002row5_col2\" class=\"data row5 col2\" >0.57</td>\n",
              "                        <td id=\"T_612cf3a6_4771_11eb_aa88_0242ac1c0002row5_col3\" class=\"data row5 col3\" >0.36</td>\n",
              "                        <td id=\"T_612cf3a6_4771_11eb_aa88_0242ac1c0002row5_col4\" class=\"data row5 col4\" >0.35</td>\n",
              "                        <td id=\"T_612cf3a6_4771_11eb_aa88_0242ac1c0002row5_col5\" class=\"data row5 col5\" >1.0</td>\n",
              "                        <td id=\"T_612cf3a6_4771_11eb_aa88_0242ac1c0002row5_col6\" class=\"data row5 col6\" >0.35</td>\n",
              "                        <td id=\"T_612cf3a6_4771_11eb_aa88_0242ac1c0002row5_col7\" class=\"data row5 col7\" >0.28</td>\n",
              "                        <td id=\"T_612cf3a6_4771_11eb_aa88_0242ac1c0002row5_col8\" class=\"data row5 col8\" >0.31</td>\n",
              "                        <td id=\"T_612cf3a6_4771_11eb_aa88_0242ac1c0002row5_col9\" class=\"data row5 col9\" >0.3</td>\n",
              "                        <td id=\"T_612cf3a6_4771_11eb_aa88_0242ac1c0002row5_col10\" class=\"data row5 col10\" >0.21</td>\n",
              "                        <td id=\"T_612cf3a6_4771_11eb_aa88_0242ac1c0002row5_col11\" class=\"data row5 col11\" >0.57</td>\n",
              "                        <td id=\"T_612cf3a6_4771_11eb_aa88_0242ac1c0002row5_col12\" class=\"data row5 col12\" >0.2</td>\n",
              "                        <td id=\"T_612cf3a6_4771_11eb_aa88_0242ac1c0002row5_col13\" class=\"data row5 col13\" >-0.0047</td>\n",
              "                        <td id=\"T_612cf3a6_4771_11eb_aa88_0242ac1c0002row5_col14\" class=\"data row5 col14\" >0.093</td>\n",
              "                        <td id=\"T_612cf3a6_4771_11eb_aa88_0242ac1c0002row5_col15\" class=\"data row5 col15\" >0.015</td>\n",
              "                        <td id=\"T_612cf3a6_4771_11eb_aa88_0242ac1c0002row5_col16\" class=\"data row5 col16\" >0.2</td>\n",
              "                        <td id=\"T_612cf3a6_4771_11eb_aa88_0242ac1c0002row5_col17\" class=\"data row5 col17\" >0.31</td>\n",
              "                        <td id=\"T_612cf3a6_4771_11eb_aa88_0242ac1c0002row5_col18\" class=\"data row5 col18\" >0.17</td>\n",
              "                        <td id=\"T_612cf3a6_4771_11eb_aa88_0242ac1c0002row5_col19\" class=\"data row5 col19\" >0.9</td>\n",
              "                        <td id=\"T_612cf3a6_4771_11eb_aa88_0242ac1c0002row5_col20\" class=\"data row5 col20\" >0.37</td>\n",
              "                        <td id=\"T_612cf3a6_4771_11eb_aa88_0242ac1c0002row5_col21\" class=\"data row5 col21\" >0.13</td>\n",
              "                        <td id=\"T_612cf3a6_4771_11eb_aa88_0242ac1c0002row5_col22\" class=\"data row5 col22\" >nan</td>\n",
              "                        <td id=\"T_612cf3a6_4771_11eb_aa88_0242ac1c0002row5_col23\" class=\"data row5 col23\" >0.21</td>\n",
              "            </tr>\n",
              "            <tr>\n",
              "                        <th id=\"T_612cf3a6_4771_11eb_aa88_0242ac1c0002level0_row6\" class=\"row_heading level0 row6\" >Risk_B</th>\n",
              "                        <td id=\"T_612cf3a6_4771_11eb_aa88_0242ac1c0002row6_col0\" class=\"data row6 col0\" >-0.13</td>\n",
              "                        <td id=\"T_612cf3a6_4771_11eb_aa88_0242ac1c0002row6_col1\" class=\"data row6 col1\" >0.16</td>\n",
              "                        <td id=\"T_612cf3a6_4771_11eb_aa88_0242ac1c0002row6_col2\" class=\"data row6 col2\" >0.25</td>\n",
              "                        <td id=\"T_612cf3a6_4771_11eb_aa88_0242ac1c0002row6_col3\" class=\"data row6 col3\" >0.17</td>\n",
              "                        <td id=\"T_612cf3a6_4771_11eb_aa88_0242ac1c0002row6_col4\" class=\"data row6 col4\" >1.0</td>\n",
              "                        <td id=\"T_612cf3a6_4771_11eb_aa88_0242ac1c0002row6_col5\" class=\"data row6 col5\" >0.35</td>\n",
              "                        <td id=\"T_612cf3a6_4771_11eb_aa88_0242ac1c0002row6_col6\" class=\"data row6 col6\" >1.0</td>\n",
              "                        <td id=\"T_612cf3a6_4771_11eb_aa88_0242ac1c0002row6_col7\" class=\"data row6 col7\" >0.21</td>\n",
              "                        <td id=\"T_612cf3a6_4771_11eb_aa88_0242ac1c0002row6_col8\" class=\"data row6 col8\" >0.23</td>\n",
              "                        <td id=\"T_612cf3a6_4771_11eb_aa88_0242ac1c0002row6_col9\" class=\"data row6 col9\" >0.22</td>\n",
              "                        <td id=\"T_612cf3a6_4771_11eb_aa88_0242ac1c0002row6_col10\" class=\"data row6 col10\" >0.13</td>\n",
              "                        <td id=\"T_612cf3a6_4771_11eb_aa88_0242ac1c0002row6_col11\" class=\"data row6 col11\" >0.31</td>\n",
              "                        <td id=\"T_612cf3a6_4771_11eb_aa88_0242ac1c0002row6_col12\" class=\"data row6 col12\" >0.12</td>\n",
              "                        <td id=\"T_612cf3a6_4771_11eb_aa88_0242ac1c0002row6_col13\" class=\"data row6 col13\" >0.083</td>\n",
              "                        <td id=\"T_612cf3a6_4771_11eb_aa88_0242ac1c0002row6_col14\" class=\"data row6 col14\" >0.043</td>\n",
              "                        <td id=\"T_612cf3a6_4771_11eb_aa88_0242ac1c0002row6_col15\" class=\"data row6 col15\" >0.08</td>\n",
              "                        <td id=\"T_612cf3a6_4771_11eb_aa88_0242ac1c0002row6_col16\" class=\"data row6 col16\" >0.2</td>\n",
              "                        <td id=\"T_612cf3a6_4771_11eb_aa88_0242ac1c0002row6_col17\" class=\"data row6 col17\" >0.32</td>\n",
              "                        <td id=\"T_612cf3a6_4771_11eb_aa88_0242ac1c0002row6_col18\" class=\"data row6 col18\" >0.2</td>\n",
              "                        <td id=\"T_612cf3a6_4771_11eb_aa88_0242ac1c0002row6_col19\" class=\"data row6 col19\" >0.4</td>\n",
              "                        <td id=\"T_612cf3a6_4771_11eb_aa88_0242ac1c0002row6_col20\" class=\"data row6 col20\" >0.65</td>\n",
              "                        <td id=\"T_612cf3a6_4771_11eb_aa88_0242ac1c0002row6_col21\" class=\"data row6 col21\" >0.19</td>\n",
              "                        <td id=\"T_612cf3a6_4771_11eb_aa88_0242ac1c0002row6_col22\" class=\"data row6 col22\" >nan</td>\n",
              "                        <td id=\"T_612cf3a6_4771_11eb_aa88_0242ac1c0002row6_col23\" class=\"data row6 col23\" >0.89</td>\n",
              "            </tr>\n",
              "            <tr>\n",
              "                        <th id=\"T_612cf3a6_4771_11eb_aa88_0242ac1c0002level0_row7\" class=\"row_heading level0 row7\" >numbers</th>\n",
              "                        <td id=\"T_612cf3a6_4771_11eb_aa88_0242ac1c0002row7_col0\" class=\"data row7 col0\" >-0.15</td>\n",
              "                        <td id=\"T_612cf3a6_4771_11eb_aa88_0242ac1c0002row7_col1\" class=\"data row7 col1\" >0.13</td>\n",
              "                        <td id=\"T_612cf3a6_4771_11eb_aa88_0242ac1c0002row7_col2\" class=\"data row7 col2\" >0.24</td>\n",
              "                        <td id=\"T_612cf3a6_4771_11eb_aa88_0242ac1c0002row7_col3\" class=\"data row7 col3\" >0.14</td>\n",
              "                        <td id=\"T_612cf3a6_4771_11eb_aa88_0242ac1c0002row7_col4\" class=\"data row7 col4\" >0.21</td>\n",
              "                        <td id=\"T_612cf3a6_4771_11eb_aa88_0242ac1c0002row7_col5\" class=\"data row7 col5\" >0.28</td>\n",
              "                        <td id=\"T_612cf3a6_4771_11eb_aa88_0242ac1c0002row7_col6\" class=\"data row7 col6\" >0.21</td>\n",
              "                        <td id=\"T_612cf3a6_4771_11eb_aa88_0242ac1c0002row7_col7\" class=\"data row7 col7\" >1.0</td>\n",
              "                        <td id=\"T_612cf3a6_4771_11eb_aa88_0242ac1c0002row7_col8\" class=\"data row7 col8\" >0.91</td>\n",
              "                        <td id=\"T_612cf3a6_4771_11eb_aa88_0242ac1c0002row7_col9\" class=\"data row7 col9\" >0.96</td>\n",
              "                        <td id=\"T_612cf3a6_4771_11eb_aa88_0242ac1c0002row7_col10\" class=\"data row7 col10\" >0.19</td>\n",
              "                        <td id=\"T_612cf3a6_4771_11eb_aa88_0242ac1c0002row7_col11\" class=\"data row7 col11\" >0.45</td>\n",
              "                        <td id=\"T_612cf3a6_4771_11eb_aa88_0242ac1c0002row7_col12\" class=\"data row7 col12\" >0.19</td>\n",
              "                        <td id=\"T_612cf3a6_4771_11eb_aa88_0242ac1c0002row7_col13\" class=\"data row7 col13\" >0.13</td>\n",
              "                        <td id=\"T_612cf3a6_4771_11eb_aa88_0242ac1c0002row7_col14\" class=\"data row7 col14\" >0.036</td>\n",
              "                        <td id=\"T_612cf3a6_4771_11eb_aa88_0242ac1c0002row7_col15\" class=\"data row7 col15\" >0.14</td>\n",
              "                        <td id=\"T_612cf3a6_4771_11eb_aa88_0242ac1c0002row7_col16\" class=\"data row7 col16\" >0.2</td>\n",
              "                        <td id=\"T_612cf3a6_4771_11eb_aa88_0242ac1c0002row7_col17\" class=\"data row7 col17\" >0.21</td>\n",
              "                        <td id=\"T_612cf3a6_4771_11eb_aa88_0242ac1c0002row7_col18\" class=\"data row7 col18\" >0.2</td>\n",
              "                        <td id=\"T_612cf3a6_4771_11eb_aa88_0242ac1c0002row7_col19\" class=\"data row7 col19\" >0.5</td>\n",
              "                        <td id=\"T_612cf3a6_4771_11eb_aa88_0242ac1c0002row7_col20\" class=\"data row7 col20\" >0.27</td>\n",
              "                        <td id=\"T_612cf3a6_4771_11eb_aa88_0242ac1c0002row7_col21\" class=\"data row7 col21\" >0.23</td>\n",
              "                        <td id=\"T_612cf3a6_4771_11eb_aa88_0242ac1c0002row7_col22\" class=\"data row7 col22\" >nan</td>\n",
              "                        <td id=\"T_612cf3a6_4771_11eb_aa88_0242ac1c0002row7_col23\" class=\"data row7 col23\" >0.22</td>\n",
              "            </tr>\n",
              "            <tr>\n",
              "                        <th id=\"T_612cf3a6_4771_11eb_aa88_0242ac1c0002level0_row8\" class=\"row_heading level0 row8\" >Score_B.1</th>\n",
              "                        <td id=\"T_612cf3a6_4771_11eb_aa88_0242ac1c0002row8_col0\" class=\"data row8 col0\" >-0.17</td>\n",
              "                        <td id=\"T_612cf3a6_4771_11eb_aa88_0242ac1c0002row8_col1\" class=\"data row8 col1\" >0.14</td>\n",
              "                        <td id=\"T_612cf3a6_4771_11eb_aa88_0242ac1c0002row8_col2\" class=\"data row8 col2\" >0.27</td>\n",
              "                        <td id=\"T_612cf3a6_4771_11eb_aa88_0242ac1c0002row8_col3\" class=\"data row8 col3\" >0.14</td>\n",
              "                        <td id=\"T_612cf3a6_4771_11eb_aa88_0242ac1c0002row8_col4\" class=\"data row8 col4\" >0.23</td>\n",
              "                        <td id=\"T_612cf3a6_4771_11eb_aa88_0242ac1c0002row8_col5\" class=\"data row8 col5\" >0.31</td>\n",
              "                        <td id=\"T_612cf3a6_4771_11eb_aa88_0242ac1c0002row8_col6\" class=\"data row8 col6\" >0.23</td>\n",
              "                        <td id=\"T_612cf3a6_4771_11eb_aa88_0242ac1c0002row8_col7\" class=\"data row8 col7\" >0.91</td>\n",
              "                        <td id=\"T_612cf3a6_4771_11eb_aa88_0242ac1c0002row8_col8\" class=\"data row8 col8\" >1.0</td>\n",
              "                        <td id=\"T_612cf3a6_4771_11eb_aa88_0242ac1c0002row8_col9\" class=\"data row8 col9\" >0.99</td>\n",
              "                        <td id=\"T_612cf3a6_4771_11eb_aa88_0242ac1c0002row8_col10\" class=\"data row8 col10\" >0.22</td>\n",
              "                        <td id=\"T_612cf3a6_4771_11eb_aa88_0242ac1c0002row8_col11\" class=\"data row8 col11\" >0.51</td>\n",
              "                        <td id=\"T_612cf3a6_4771_11eb_aa88_0242ac1c0002row8_col12\" class=\"data row8 col12\" >0.22</td>\n",
              "                        <td id=\"T_612cf3a6_4771_11eb_aa88_0242ac1c0002row8_col13\" class=\"data row8 col13\" >0.15</td>\n",
              "                        <td id=\"T_612cf3a6_4771_11eb_aa88_0242ac1c0002row8_col14\" class=\"data row8 col14\" >0.037</td>\n",
              "                        <td id=\"T_612cf3a6_4771_11eb_aa88_0242ac1c0002row8_col15\" class=\"data row8 col15\" >0.16</td>\n",
              "                        <td id=\"T_612cf3a6_4771_11eb_aa88_0242ac1c0002row8_col16\" class=\"data row8 col16\" >0.23</td>\n",
              "                        <td id=\"T_612cf3a6_4771_11eb_aa88_0242ac1c0002row8_col17\" class=\"data row8 col17\" >0.25</td>\n",
              "                        <td id=\"T_612cf3a6_4771_11eb_aa88_0242ac1c0002row8_col18\" class=\"data row8 col18\" >0.22</td>\n",
              "                        <td id=\"T_612cf3a6_4771_11eb_aa88_0242ac1c0002row8_col19\" class=\"data row8 col19\" >0.57</td>\n",
              "                        <td id=\"T_612cf3a6_4771_11eb_aa88_0242ac1c0002row8_col20\" class=\"data row8 col20\" >0.31</td>\n",
              "                        <td id=\"T_612cf3a6_4771_11eb_aa88_0242ac1c0002row8_col21\" class=\"data row8 col21\" >0.26</td>\n",
              "                        <td id=\"T_612cf3a6_4771_11eb_aa88_0242ac1c0002row8_col22\" class=\"data row8 col22\" >nan</td>\n",
              "                        <td id=\"T_612cf3a6_4771_11eb_aa88_0242ac1c0002row8_col23\" class=\"data row8 col23\" >0.26</td>\n",
              "            </tr>\n",
              "            <tr>\n",
              "                        <th id=\"T_612cf3a6_4771_11eb_aa88_0242ac1c0002level0_row9\" class=\"row_heading level0 row9\" >Risk_C</th>\n",
              "                        <td id=\"T_612cf3a6_4771_11eb_aa88_0242ac1c0002row9_col0\" class=\"data row9 col0\" >-0.17</td>\n",
              "                        <td id=\"T_612cf3a6_4771_11eb_aa88_0242ac1c0002row9_col1\" class=\"data row9 col1\" >0.14</td>\n",
              "                        <td id=\"T_612cf3a6_4771_11eb_aa88_0242ac1c0002row9_col2\" class=\"data row9 col2\" >0.27</td>\n",
              "                        <td id=\"T_612cf3a6_4771_11eb_aa88_0242ac1c0002row9_col3\" class=\"data row9 col3\" >0.14</td>\n",
              "                        <td id=\"T_612cf3a6_4771_11eb_aa88_0242ac1c0002row9_col4\" class=\"data row9 col4\" >0.22</td>\n",
              "                        <td id=\"T_612cf3a6_4771_11eb_aa88_0242ac1c0002row9_col5\" class=\"data row9 col5\" >0.3</td>\n",
              "                        <td id=\"T_612cf3a6_4771_11eb_aa88_0242ac1c0002row9_col6\" class=\"data row9 col6\" >0.22</td>\n",
              "                        <td id=\"T_612cf3a6_4771_11eb_aa88_0242ac1c0002row9_col7\" class=\"data row9 col7\" >0.96</td>\n",
              "                        <td id=\"T_612cf3a6_4771_11eb_aa88_0242ac1c0002row9_col8\" class=\"data row9 col8\" >0.99</td>\n",
              "                        <td id=\"T_612cf3a6_4771_11eb_aa88_0242ac1c0002row9_col9\" class=\"data row9 col9\" >1.0</td>\n",
              "                        <td id=\"T_612cf3a6_4771_11eb_aa88_0242ac1c0002row9_col10\" class=\"data row9 col10\" >0.22</td>\n",
              "                        <td id=\"T_612cf3a6_4771_11eb_aa88_0242ac1c0002row9_col11\" class=\"data row9 col11\" >0.49</td>\n",
              "                        <td id=\"T_612cf3a6_4771_11eb_aa88_0242ac1c0002row9_col12\" class=\"data row9 col12\" >0.22</td>\n",
              "                        <td id=\"T_612cf3a6_4771_11eb_aa88_0242ac1c0002row9_col13\" class=\"data row9 col13\" >0.15</td>\n",
              "                        <td id=\"T_612cf3a6_4771_11eb_aa88_0242ac1c0002row9_col14\" class=\"data row9 col14\" >0.036</td>\n",
              "                        <td id=\"T_612cf3a6_4771_11eb_aa88_0242ac1c0002row9_col15\" class=\"data row9 col15\" >0.15</td>\n",
              "                        <td id=\"T_612cf3a6_4771_11eb_aa88_0242ac1c0002row9_col16\" class=\"data row9 col16\" >0.22</td>\n",
              "                        <td id=\"T_612cf3a6_4771_11eb_aa88_0242ac1c0002row9_col17\" class=\"data row9 col17\" >0.24</td>\n",
              "                        <td id=\"T_612cf3a6_4771_11eb_aa88_0242ac1c0002row9_col18\" class=\"data row9 col18\" >0.22</td>\n",
              "                        <td id=\"T_612cf3a6_4771_11eb_aa88_0242ac1c0002row9_col19\" class=\"data row9 col19\" >0.55</td>\n",
              "                        <td id=\"T_612cf3a6_4771_11eb_aa88_0242ac1c0002row9_col20\" class=\"data row9 col20\" >0.3</td>\n",
              "                        <td id=\"T_612cf3a6_4771_11eb_aa88_0242ac1c0002row9_col21\" class=\"data row9 col21\" >0.25</td>\n",
              "                        <td id=\"T_612cf3a6_4771_11eb_aa88_0242ac1c0002row9_col22\" class=\"data row9 col22\" >nan</td>\n",
              "                        <td id=\"T_612cf3a6_4771_11eb_aa88_0242ac1c0002row9_col23\" class=\"data row9 col23\" >0.25</td>\n",
              "            </tr>\n",
              "            <tr>\n",
              "                        <th id=\"T_612cf3a6_4771_11eb_aa88_0242ac1c0002level0_row10\" class=\"row_heading level0 row10\" >Money_Value</th>\n",
              "                        <td id=\"T_612cf3a6_4771_11eb_aa88_0242ac1c0002row10_col0\" class=\"data row10 col0\" >-0.12</td>\n",
              "                        <td id=\"T_612cf3a6_4771_11eb_aa88_0242ac1c0002row10_col1\" class=\"data row10 col1\" >0.45</td>\n",
              "                        <td id=\"T_612cf3a6_4771_11eb_aa88_0242ac1c0002row10_col2\" class=\"data row10 col2\" >0.21</td>\n",
              "                        <td id=\"T_612cf3a6_4771_11eb_aa88_0242ac1c0002row10_col3\" class=\"data row10 col3\" >0.45</td>\n",
              "                        <td id=\"T_612cf3a6_4771_11eb_aa88_0242ac1c0002row10_col4\" class=\"data row10 col4\" >0.13</td>\n",
              "                        <td id=\"T_612cf3a6_4771_11eb_aa88_0242ac1c0002row10_col5\" class=\"data row10 col5\" >0.21</td>\n",
              "                        <td id=\"T_612cf3a6_4771_11eb_aa88_0242ac1c0002row10_col6\" class=\"data row10 col6\" >0.13</td>\n",
              "                        <td id=\"T_612cf3a6_4771_11eb_aa88_0242ac1c0002row10_col7\" class=\"data row10 col7\" >0.19</td>\n",
              "                        <td id=\"T_612cf3a6_4771_11eb_aa88_0242ac1c0002row10_col8\" class=\"data row10 col8\" >0.22</td>\n",
              "                        <td id=\"T_612cf3a6_4771_11eb_aa88_0242ac1c0002row10_col9\" class=\"data row10 col9\" >0.22</td>\n",
              "                        <td id=\"T_612cf3a6_4771_11eb_aa88_0242ac1c0002row10_col10\" class=\"data row10 col10\" >1.0</td>\n",
              "                        <td id=\"T_612cf3a6_4771_11eb_aa88_0242ac1c0002row10_col11\" class=\"data row10 col11\" >0.39</td>\n",
              "                        <td id=\"T_612cf3a6_4771_11eb_aa88_0242ac1c0002row10_col12\" class=\"data row10 col12\" >1.0</td>\n",
              "                        <td id=\"T_612cf3a6_4771_11eb_aa88_0242ac1c0002row10_col13\" class=\"data row10 col13\" >0.028</td>\n",
              "                        <td id=\"T_612cf3a6_4771_11eb_aa88_0242ac1c0002row10_col14\" class=\"data row10 col14\" >0.032</td>\n",
              "                        <td id=\"T_612cf3a6_4771_11eb_aa88_0242ac1c0002row10_col15\" class=\"data row10 col15\" >0.033</td>\n",
              "                        <td id=\"T_612cf3a6_4771_11eb_aa88_0242ac1c0002row10_col16\" class=\"data row10 col16\" >0.08</td>\n",
              "                        <td id=\"T_612cf3a6_4771_11eb_aa88_0242ac1c0002row10_col17\" class=\"data row10 col17\" >0.11</td>\n",
              "                        <td id=\"T_612cf3a6_4771_11eb_aa88_0242ac1c0002row10_col18\" class=\"data row10 col18\" >0.07</td>\n",
              "                        <td id=\"T_612cf3a6_4771_11eb_aa88_0242ac1c0002row10_col19\" class=\"data row10 col19\" >0.29</td>\n",
              "                        <td id=\"T_612cf3a6_4771_11eb_aa88_0242ac1c0002row10_col20\" class=\"data row10 col20\" >0.83</td>\n",
              "                        <td id=\"T_612cf3a6_4771_11eb_aa88_0242ac1c0002row10_col21\" class=\"data row10 col21\" >0.07</td>\n",
              "                        <td id=\"T_612cf3a6_4771_11eb_aa88_0242ac1c0002row10_col22\" class=\"data row10 col22\" >nan</td>\n",
              "                        <td id=\"T_612cf3a6_4771_11eb_aa88_0242ac1c0002row10_col23\" class=\"data row10 col23\" >0.33</td>\n",
              "            </tr>\n",
              "            <tr>\n",
              "                        <th id=\"T_612cf3a6_4771_11eb_aa88_0242ac1c0002level0_row11\" class=\"row_heading level0 row11\" >Score_MV</th>\n",
              "                        <td id=\"T_612cf3a6_4771_11eb_aa88_0242ac1c0002row11_col0\" class=\"data row11 col0\" >-0.32</td>\n",
              "                        <td id=\"T_612cf3a6_4771_11eb_aa88_0242ac1c0002row11_col1\" class=\"data row11 col1\" >0.29</td>\n",
              "                        <td id=\"T_612cf3a6_4771_11eb_aa88_0242ac1c0002row11_col2\" class=\"data row11 col2\" >0.48</td>\n",
              "                        <td id=\"T_612cf3a6_4771_11eb_aa88_0242ac1c0002row11_col3\" class=\"data row11 col3\" >0.29</td>\n",
              "                        <td id=\"T_612cf3a6_4771_11eb_aa88_0242ac1c0002row11_col4\" class=\"data row11 col4\" >0.31</td>\n",
              "                        <td id=\"T_612cf3a6_4771_11eb_aa88_0242ac1c0002row11_col5\" class=\"data row11 col5\" >0.57</td>\n",
              "                        <td id=\"T_612cf3a6_4771_11eb_aa88_0242ac1c0002row11_col6\" class=\"data row11 col6\" >0.31</td>\n",
              "                        <td id=\"T_612cf3a6_4771_11eb_aa88_0242ac1c0002row11_col7\" class=\"data row11 col7\" >0.45</td>\n",
              "                        <td id=\"T_612cf3a6_4771_11eb_aa88_0242ac1c0002row11_col8\" class=\"data row11 col8\" >0.51</td>\n",
              "                        <td id=\"T_612cf3a6_4771_11eb_aa88_0242ac1c0002row11_col9\" class=\"data row11 col9\" >0.49</td>\n",
              "                        <td id=\"T_612cf3a6_4771_11eb_aa88_0242ac1c0002row11_col10\" class=\"data row11 col10\" >0.39</td>\n",
              "                        <td id=\"T_612cf3a6_4771_11eb_aa88_0242ac1c0002row11_col11\" class=\"data row11 col11\" >1.0</td>\n",
              "                        <td id=\"T_612cf3a6_4771_11eb_aa88_0242ac1c0002row11_col12\" class=\"data row11 col12\" >0.39</td>\n",
              "                        <td id=\"T_612cf3a6_4771_11eb_aa88_0242ac1c0002row11_col13\" class=\"data row11 col13\" >0.081</td>\n",
              "                        <td id=\"T_612cf3a6_4771_11eb_aa88_0242ac1c0002row11_col14\" class=\"data row11 col14\" >0.13</td>\n",
              "                        <td id=\"T_612cf3a6_4771_11eb_aa88_0242ac1c0002row11_col15\" class=\"data row11 col15\" >0.1</td>\n",
              "                        <td id=\"T_612cf3a6_4771_11eb_aa88_0242ac1c0002row11_col16\" class=\"data row11 col16\" >0.25</td>\n",
              "                        <td id=\"T_612cf3a6_4771_11eb_aa88_0242ac1c0002row11_col17\" class=\"data row11 col17\" >0.33</td>\n",
              "                        <td id=\"T_612cf3a6_4771_11eb_aa88_0242ac1c0002row11_col18\" class=\"data row11 col18\" >0.22</td>\n",
              "                        <td id=\"T_612cf3a6_4771_11eb_aa88_0242ac1c0002row11_col19\" class=\"data row11 col19\" >0.76</td>\n",
              "                        <td id=\"T_612cf3a6_4771_11eb_aa88_0242ac1c0002row11_col20\" class=\"data row11 col20\" >0.48</td>\n",
              "                        <td id=\"T_612cf3a6_4771_11eb_aa88_0242ac1c0002row11_col21\" class=\"data row11 col21\" >0.22</td>\n",
              "                        <td id=\"T_612cf3a6_4771_11eb_aa88_0242ac1c0002row11_col22\" class=\"data row11 col22\" >nan</td>\n",
              "                        <td id=\"T_612cf3a6_4771_11eb_aa88_0242ac1c0002row11_col23\" class=\"data row11 col23\" >0.29</td>\n",
              "            </tr>\n",
              "            <tr>\n",
              "                        <th id=\"T_612cf3a6_4771_11eb_aa88_0242ac1c0002level0_row12\" class=\"row_heading level0 row12\" >Risk_D</th>\n",
              "                        <td id=\"T_612cf3a6_4771_11eb_aa88_0242ac1c0002row12_col0\" class=\"data row12 col0\" >-0.12</td>\n",
              "                        <td id=\"T_612cf3a6_4771_11eb_aa88_0242ac1c0002row12_col1\" class=\"data row12 col1\" >0.45</td>\n",
              "                        <td id=\"T_612cf3a6_4771_11eb_aa88_0242ac1c0002row12_col2\" class=\"data row12 col2\" >0.2</td>\n",
              "                        <td id=\"T_612cf3a6_4771_11eb_aa88_0242ac1c0002row12_col3\" class=\"data row12 col3\" >0.45</td>\n",
              "                        <td id=\"T_612cf3a6_4771_11eb_aa88_0242ac1c0002row12_col4\" class=\"data row12 col4\" >0.12</td>\n",
              "                        <td id=\"T_612cf3a6_4771_11eb_aa88_0242ac1c0002row12_col5\" class=\"data row12 col5\" >0.2</td>\n",
              "                        <td id=\"T_612cf3a6_4771_11eb_aa88_0242ac1c0002row12_col6\" class=\"data row12 col6\" >0.12</td>\n",
              "                        <td id=\"T_612cf3a6_4771_11eb_aa88_0242ac1c0002row12_col7\" class=\"data row12 col7\" >0.19</td>\n",
              "                        <td id=\"T_612cf3a6_4771_11eb_aa88_0242ac1c0002row12_col8\" class=\"data row12 col8\" >0.22</td>\n",
              "                        <td id=\"T_612cf3a6_4771_11eb_aa88_0242ac1c0002row12_col9\" class=\"data row12 col9\" >0.22</td>\n",
              "                        <td id=\"T_612cf3a6_4771_11eb_aa88_0242ac1c0002row12_col10\" class=\"data row12 col10\" >1.0</td>\n",
              "                        <td id=\"T_612cf3a6_4771_11eb_aa88_0242ac1c0002row12_col11\" class=\"data row12 col11\" >0.39</td>\n",
              "                        <td id=\"T_612cf3a6_4771_11eb_aa88_0242ac1c0002row12_col12\" class=\"data row12 col12\" >1.0</td>\n",
              "                        <td id=\"T_612cf3a6_4771_11eb_aa88_0242ac1c0002row12_col13\" class=\"data row12 col13\" >0.028</td>\n",
              "                        <td id=\"T_612cf3a6_4771_11eb_aa88_0242ac1c0002row12_col14\" class=\"data row12 col14\" >0.032</td>\n",
              "                        <td id=\"T_612cf3a6_4771_11eb_aa88_0242ac1c0002row12_col15\" class=\"data row12 col15\" >0.033</td>\n",
              "                        <td id=\"T_612cf3a6_4771_11eb_aa88_0242ac1c0002row12_col16\" class=\"data row12 col16\" >0.08</td>\n",
              "                        <td id=\"T_612cf3a6_4771_11eb_aa88_0242ac1c0002row12_col17\" class=\"data row12 col17\" >0.11</td>\n",
              "                        <td id=\"T_612cf3a6_4771_11eb_aa88_0242ac1c0002row12_col18\" class=\"data row12 col18\" >0.07</td>\n",
              "                        <td id=\"T_612cf3a6_4771_11eb_aa88_0242ac1c0002row12_col19\" class=\"data row12 col19\" >0.29</td>\n",
              "                        <td id=\"T_612cf3a6_4771_11eb_aa88_0242ac1c0002row12_col20\" class=\"data row12 col20\" >0.83</td>\n",
              "                        <td id=\"T_612cf3a6_4771_11eb_aa88_0242ac1c0002row12_col21\" class=\"data row12 col21\" >0.07</td>\n",
              "                        <td id=\"T_612cf3a6_4771_11eb_aa88_0242ac1c0002row12_col22\" class=\"data row12 col22\" >nan</td>\n",
              "                        <td id=\"T_612cf3a6_4771_11eb_aa88_0242ac1c0002row12_col23\" class=\"data row12 col23\" >0.33</td>\n",
              "            </tr>\n",
              "            <tr>\n",
              "                        <th id=\"T_612cf3a6_4771_11eb_aa88_0242ac1c0002level0_row13\" class=\"row_heading level0 row13\" >District_Loss</th>\n",
              "                        <td id=\"T_612cf3a6_4771_11eb_aa88_0242ac1c0002row13_col0\" class=\"data row13 col0\" >-0.11</td>\n",
              "                        <td id=\"T_612cf3a6_4771_11eb_aa88_0242ac1c0002row13_col1\" class=\"data row13 col1\" >0.13</td>\n",
              "                        <td id=\"T_612cf3a6_4771_11eb_aa88_0242ac1c0002row13_col2\" class=\"data row13 col2\" >0.089</td>\n",
              "                        <td id=\"T_612cf3a6_4771_11eb_aa88_0242ac1c0002row13_col3\" class=\"data row13 col3\" >0.13</td>\n",
              "                        <td id=\"T_612cf3a6_4771_11eb_aa88_0242ac1c0002row13_col4\" class=\"data row13 col4\" >0.083</td>\n",
              "                        <td id=\"T_612cf3a6_4771_11eb_aa88_0242ac1c0002row13_col5\" class=\"data row13 col5\" >-0.0047</td>\n",
              "                        <td id=\"T_612cf3a6_4771_11eb_aa88_0242ac1c0002row13_col6\" class=\"data row13 col6\" >0.083</td>\n",
              "                        <td id=\"T_612cf3a6_4771_11eb_aa88_0242ac1c0002row13_col7\" class=\"data row13 col7\" >0.13</td>\n",
              "                        <td id=\"T_612cf3a6_4771_11eb_aa88_0242ac1c0002row13_col8\" class=\"data row13 col8\" >0.15</td>\n",
              "                        <td id=\"T_612cf3a6_4771_11eb_aa88_0242ac1c0002row13_col9\" class=\"data row13 col9\" >0.15</td>\n",
              "                        <td id=\"T_612cf3a6_4771_11eb_aa88_0242ac1c0002row13_col10\" class=\"data row13 col10\" >0.028</td>\n",
              "                        <td id=\"T_612cf3a6_4771_11eb_aa88_0242ac1c0002row13_col11\" class=\"data row13 col11\" >0.081</td>\n",
              "                        <td id=\"T_612cf3a6_4771_11eb_aa88_0242ac1c0002row13_col12\" class=\"data row13 col12\" >0.028</td>\n",
              "                        <td id=\"T_612cf3a6_4771_11eb_aa88_0242ac1c0002row13_col13\" class=\"data row13 col13\" >1.0</td>\n",
              "                        <td id=\"T_612cf3a6_4771_11eb_aa88_0242ac1c0002row13_col14\" class=\"data row13 col14\" >0.055</td>\n",
              "                        <td id=\"T_612cf3a6_4771_11eb_aa88_0242ac1c0002row13_col15\" class=\"data row13 col15\" >0.91</td>\n",
              "                        <td id=\"T_612cf3a6_4771_11eb_aa88_0242ac1c0002row13_col16\" class=\"data row13 col16\" >0.069</td>\n",
              "                        <td id=\"T_612cf3a6_4771_11eb_aa88_0242ac1c0002row13_col17\" class=\"data row13 col17\" >0.084</td>\n",
              "                        <td id=\"T_612cf3a6_4771_11eb_aa88_0242ac1c0002row13_col18\" class=\"data row13 col18\" >0.071</td>\n",
              "                        <td id=\"T_612cf3a6_4771_11eb_aa88_0242ac1c0002row13_col19\" class=\"data row13 col19\" >0.21</td>\n",
              "                        <td id=\"T_612cf3a6_4771_11eb_aa88_0242ac1c0002row13_col20\" class=\"data row13 col20\" >0.081</td>\n",
              "                        <td id=\"T_612cf3a6_4771_11eb_aa88_0242ac1c0002row13_col21\" class=\"data row13 col21\" >0.65</td>\n",
              "                        <td id=\"T_612cf3a6_4771_11eb_aa88_0242ac1c0002row13_col22\" class=\"data row13 col22\" >nan</td>\n",
              "                        <td id=\"T_612cf3a6_4771_11eb_aa88_0242ac1c0002row13_col23\" class=\"data row13 col23\" >0.2</td>\n",
              "            </tr>\n",
              "            <tr>\n",
              "                        <th id=\"T_612cf3a6_4771_11eb_aa88_0242ac1c0002level0_row14\" class=\"row_heading level0 row14\" >PROB</th>\n",
              "                        <td id=\"T_612cf3a6_4771_11eb_aa88_0242ac1c0002row14_col0\" class=\"data row14 col0\" >-0.087</td>\n",
              "                        <td id=\"T_612cf3a6_4771_11eb_aa88_0242ac1c0002row14_col1\" class=\"data row14 col1\" >0.044</td>\n",
              "                        <td id=\"T_612cf3a6_4771_11eb_aa88_0242ac1c0002row14_col2\" class=\"data row14 col2\" >0.094</td>\n",
              "                        <td id=\"T_612cf3a6_4771_11eb_aa88_0242ac1c0002row14_col3\" class=\"data row14 col3\" >0.044</td>\n",
              "                        <td id=\"T_612cf3a6_4771_11eb_aa88_0242ac1c0002row14_col4\" class=\"data row14 col4\" >0.043</td>\n",
              "                        <td id=\"T_612cf3a6_4771_11eb_aa88_0242ac1c0002row14_col5\" class=\"data row14 col5\" >0.093</td>\n",
              "                        <td id=\"T_612cf3a6_4771_11eb_aa88_0242ac1c0002row14_col6\" class=\"data row14 col6\" >0.043</td>\n",
              "                        <td id=\"T_612cf3a6_4771_11eb_aa88_0242ac1c0002row14_col7\" class=\"data row14 col7\" >0.036</td>\n",
              "                        <td id=\"T_612cf3a6_4771_11eb_aa88_0242ac1c0002row14_col8\" class=\"data row14 col8\" >0.037</td>\n",
              "                        <td id=\"T_612cf3a6_4771_11eb_aa88_0242ac1c0002row14_col9\" class=\"data row14 col9\" >0.036</td>\n",
              "                        <td id=\"T_612cf3a6_4771_11eb_aa88_0242ac1c0002row14_col10\" class=\"data row14 col10\" >0.032</td>\n",
              "                        <td id=\"T_612cf3a6_4771_11eb_aa88_0242ac1c0002row14_col11\" class=\"data row14 col11\" >0.13</td>\n",
              "                        <td id=\"T_612cf3a6_4771_11eb_aa88_0242ac1c0002row14_col12\" class=\"data row14 col12\" >0.032</td>\n",
              "                        <td id=\"T_612cf3a6_4771_11eb_aa88_0242ac1c0002row14_col13\" class=\"data row14 col13\" >0.055</td>\n",
              "                        <td id=\"T_612cf3a6_4771_11eb_aa88_0242ac1c0002row14_col14\" class=\"data row14 col14\" >1.0</td>\n",
              "                        <td id=\"T_612cf3a6_4771_11eb_aa88_0242ac1c0002row14_col15\" class=\"data row14 col15\" >0.41</td>\n",
              "                        <td id=\"T_612cf3a6_4771_11eb_aa88_0242ac1c0002row14_col16\" class=\"data row14 col16\" >0.11</td>\n",
              "                        <td id=\"T_612cf3a6_4771_11eb_aa88_0242ac1c0002row14_col17\" class=\"data row14 col17\" >0.14</td>\n",
              "                        <td id=\"T_612cf3a6_4771_11eb_aa88_0242ac1c0002row14_col18\" class=\"data row14 col18\" >0.11</td>\n",
              "                        <td id=\"T_612cf3a6_4771_11eb_aa88_0242ac1c0002row14_col19\" class=\"data row14 col19\" >0.17</td>\n",
              "                        <td id=\"T_612cf3a6_4771_11eb_aa88_0242ac1c0002row14_col20\" class=\"data row14 col20\" >0.053</td>\n",
              "                        <td id=\"T_612cf3a6_4771_11eb_aa88_0242ac1c0002row14_col21\" class=\"data row14 col21\" >0.34</td>\n",
              "                        <td id=\"T_612cf3a6_4771_11eb_aa88_0242ac1c0002row14_col22\" class=\"data row14 col22\" >nan</td>\n",
              "                        <td id=\"T_612cf3a6_4771_11eb_aa88_0242ac1c0002row14_col23\" class=\"data row14 col23\" >0.074</td>\n",
              "            </tr>\n",
              "            <tr>\n",
              "                        <th id=\"T_612cf3a6_4771_11eb_aa88_0242ac1c0002level0_row15\" class=\"row_heading level0 row15\" >RiSk_E</th>\n",
              "                        <td id=\"T_612cf3a6_4771_11eb_aa88_0242ac1c0002row15_col0\" class=\"data row15 col0\" >-0.13</td>\n",
              "                        <td id=\"T_612cf3a6_4771_11eb_aa88_0242ac1c0002row15_col1\" class=\"data row15 col1\" >0.12</td>\n",
              "                        <td id=\"T_612cf3a6_4771_11eb_aa88_0242ac1c0002row15_col2\" class=\"data row15 col2\" >0.1</td>\n",
              "                        <td id=\"T_612cf3a6_4771_11eb_aa88_0242ac1c0002row15_col3\" class=\"data row15 col3\" >0.12</td>\n",
              "                        <td id=\"T_612cf3a6_4771_11eb_aa88_0242ac1c0002row15_col4\" class=\"data row15 col4\" >0.079</td>\n",
              "                        <td id=\"T_612cf3a6_4771_11eb_aa88_0242ac1c0002row15_col5\" class=\"data row15 col5\" >0.015</td>\n",
              "                        <td id=\"T_612cf3a6_4771_11eb_aa88_0242ac1c0002row15_col6\" class=\"data row15 col6\" >0.08</td>\n",
              "                        <td id=\"T_612cf3a6_4771_11eb_aa88_0242ac1c0002row15_col7\" class=\"data row15 col7\" >0.14</td>\n",
              "                        <td id=\"T_612cf3a6_4771_11eb_aa88_0242ac1c0002row15_col8\" class=\"data row15 col8\" >0.16</td>\n",
              "                        <td id=\"T_612cf3a6_4771_11eb_aa88_0242ac1c0002row15_col9\" class=\"data row15 col9\" >0.15</td>\n",
              "                        <td id=\"T_612cf3a6_4771_11eb_aa88_0242ac1c0002row15_col10\" class=\"data row15 col10\" >0.033</td>\n",
              "                        <td id=\"T_612cf3a6_4771_11eb_aa88_0242ac1c0002row15_col11\" class=\"data row15 col11\" >0.1</td>\n",
              "                        <td id=\"T_612cf3a6_4771_11eb_aa88_0242ac1c0002row15_col12\" class=\"data row15 col12\" >0.033</td>\n",
              "                        <td id=\"T_612cf3a6_4771_11eb_aa88_0242ac1c0002row15_col13\" class=\"data row15 col13\" >0.91</td>\n",
              "                        <td id=\"T_612cf3a6_4771_11eb_aa88_0242ac1c0002row15_col14\" class=\"data row15 col14\" >0.41</td>\n",
              "                        <td id=\"T_612cf3a6_4771_11eb_aa88_0242ac1c0002row15_col15\" class=\"data row15 col15\" >1.0</td>\n",
              "                        <td id=\"T_612cf3a6_4771_11eb_aa88_0242ac1c0002row15_col16\" class=\"data row15 col16\" >0.11</td>\n",
              "                        <td id=\"T_612cf3a6_4771_11eb_aa88_0242ac1c0002row15_col17\" class=\"data row15 col17\" >0.12</td>\n",
              "                        <td id=\"T_612cf3a6_4771_11eb_aa88_0242ac1c0002row15_col18\" class=\"data row15 col18\" >0.11</td>\n",
              "                        <td id=\"T_612cf3a6_4771_11eb_aa88_0242ac1c0002row15_col19\" class=\"data row15 col19\" >0.24</td>\n",
              "                        <td id=\"T_612cf3a6_4771_11eb_aa88_0242ac1c0002row15_col20\" class=\"data row15 col20\" >0.083</td>\n",
              "                        <td id=\"T_612cf3a6_4771_11eb_aa88_0242ac1c0002row15_col21\" class=\"data row15 col21\" >0.73</td>\n",
              "                        <td id=\"T_612cf3a6_4771_11eb_aa88_0242ac1c0002row15_col22\" class=\"data row15 col22\" >nan</td>\n",
              "                        <td id=\"T_612cf3a6_4771_11eb_aa88_0242ac1c0002row15_col23\" class=\"data row15 col23\" >0.2</td>\n",
              "            </tr>\n",
              "            <tr>\n",
              "                        <th id=\"T_612cf3a6_4771_11eb_aa88_0242ac1c0002level0_row16\" class=\"row_heading level0 row16\" >History</th>\n",
              "                        <td id=\"T_612cf3a6_4771_11eb_aa88_0242ac1c0002row16_col0\" class=\"data row16 col0\" >-0.11</td>\n",
              "                        <td id=\"T_612cf3a6_4771_11eb_aa88_0242ac1c0002row16_col1\" class=\"data row16 col1\" >0.12</td>\n",
              "                        <td id=\"T_612cf3a6_4771_11eb_aa88_0242ac1c0002row16_col2\" class=\"data row16 col2\" >0.18</td>\n",
              "                        <td id=\"T_612cf3a6_4771_11eb_aa88_0242ac1c0002row16_col3\" class=\"data row16 col3\" >0.12</td>\n",
              "                        <td id=\"T_612cf3a6_4771_11eb_aa88_0242ac1c0002row16_col4\" class=\"data row16 col4\" >0.2</td>\n",
              "                        <td id=\"T_612cf3a6_4771_11eb_aa88_0242ac1c0002row16_col5\" class=\"data row16 col5\" >0.2</td>\n",
              "                        <td id=\"T_612cf3a6_4771_11eb_aa88_0242ac1c0002row16_col6\" class=\"data row16 col6\" >0.2</td>\n",
              "                        <td id=\"T_612cf3a6_4771_11eb_aa88_0242ac1c0002row16_col7\" class=\"data row16 col7\" >0.2</td>\n",
              "                        <td id=\"T_612cf3a6_4771_11eb_aa88_0242ac1c0002row16_col8\" class=\"data row16 col8\" >0.23</td>\n",
              "                        <td id=\"T_612cf3a6_4771_11eb_aa88_0242ac1c0002row16_col9\" class=\"data row16 col9\" >0.22</td>\n",
              "                        <td id=\"T_612cf3a6_4771_11eb_aa88_0242ac1c0002row16_col10\" class=\"data row16 col10\" >0.08</td>\n",
              "                        <td id=\"T_612cf3a6_4771_11eb_aa88_0242ac1c0002row16_col11\" class=\"data row16 col11\" >0.25</td>\n",
              "                        <td id=\"T_612cf3a6_4771_11eb_aa88_0242ac1c0002row16_col12\" class=\"data row16 col12\" >0.08</td>\n",
              "                        <td id=\"T_612cf3a6_4771_11eb_aa88_0242ac1c0002row16_col13\" class=\"data row16 col13\" >0.069</td>\n",
              "                        <td id=\"T_612cf3a6_4771_11eb_aa88_0242ac1c0002row16_col14\" class=\"data row16 col14\" >0.11</td>\n",
              "                        <td id=\"T_612cf3a6_4771_11eb_aa88_0242ac1c0002row16_col15\" class=\"data row16 col15\" >0.11</td>\n",
              "                        <td id=\"T_612cf3a6_4771_11eb_aa88_0242ac1c0002row16_col16\" class=\"data row16 col16\" >1.0</td>\n",
              "                        <td id=\"T_612cf3a6_4771_11eb_aa88_0242ac1c0002row16_col17\" class=\"data row16 col17\" >0.86</td>\n",
              "                        <td id=\"T_612cf3a6_4771_11eb_aa88_0242ac1c0002row16_col18\" class=\"data row16 col18\" >0.99</td>\n",
              "                        <td id=\"T_612cf3a6_4771_11eb_aa88_0242ac1c0002row16_col19\" class=\"data row16 col19\" >0.33</td>\n",
              "                        <td id=\"T_612cf3a6_4771_11eb_aa88_0242ac1c0002row16_col20\" class=\"data row16 col20\" >0.19</td>\n",
              "                        <td id=\"T_612cf3a6_4771_11eb_aa88_0242ac1c0002row16_col21\" class=\"data row16 col21\" >0.75</td>\n",
              "                        <td id=\"T_612cf3a6_4771_11eb_aa88_0242ac1c0002row16_col22\" class=\"data row16 col22\" >nan</td>\n",
              "                        <td id=\"T_612cf3a6_4771_11eb_aa88_0242ac1c0002row16_col23\" class=\"data row16 col23\" >0.33</td>\n",
              "            </tr>\n",
              "            <tr>\n",
              "                        <th id=\"T_612cf3a6_4771_11eb_aa88_0242ac1c0002level0_row17\" class=\"row_heading level0 row17\" >Prob</th>\n",
              "                        <td id=\"T_612cf3a6_4771_11eb_aa88_0242ac1c0002row17_col0\" class=\"data row17 col0\" >-0.14</td>\n",
              "                        <td id=\"T_612cf3a6_4771_11eb_aa88_0242ac1c0002row17_col1\" class=\"data row17 col1\" >0.17</td>\n",
              "                        <td id=\"T_612cf3a6_4771_11eb_aa88_0242ac1c0002row17_col2\" class=\"data row17 col2\" >0.27</td>\n",
              "                        <td id=\"T_612cf3a6_4771_11eb_aa88_0242ac1c0002row17_col3\" class=\"data row17 col3\" >0.18</td>\n",
              "                        <td id=\"T_612cf3a6_4771_11eb_aa88_0242ac1c0002row17_col4\" class=\"data row17 col4\" >0.32</td>\n",
              "                        <td id=\"T_612cf3a6_4771_11eb_aa88_0242ac1c0002row17_col5\" class=\"data row17 col5\" >0.31</td>\n",
              "                        <td id=\"T_612cf3a6_4771_11eb_aa88_0242ac1c0002row17_col6\" class=\"data row17 col6\" >0.32</td>\n",
              "                        <td id=\"T_612cf3a6_4771_11eb_aa88_0242ac1c0002row17_col7\" class=\"data row17 col7\" >0.21</td>\n",
              "                        <td id=\"T_612cf3a6_4771_11eb_aa88_0242ac1c0002row17_col8\" class=\"data row17 col8\" >0.25</td>\n",
              "                        <td id=\"T_612cf3a6_4771_11eb_aa88_0242ac1c0002row17_col9\" class=\"data row17 col9\" >0.24</td>\n",
              "                        <td id=\"T_612cf3a6_4771_11eb_aa88_0242ac1c0002row17_col10\" class=\"data row17 col10\" >0.11</td>\n",
              "                        <td id=\"T_612cf3a6_4771_11eb_aa88_0242ac1c0002row17_col11\" class=\"data row17 col11\" >0.33</td>\n",
              "                        <td id=\"T_612cf3a6_4771_11eb_aa88_0242ac1c0002row17_col12\" class=\"data row17 col12\" >0.11</td>\n",
              "                        <td id=\"T_612cf3a6_4771_11eb_aa88_0242ac1c0002row17_col13\" class=\"data row17 col13\" >0.084</td>\n",
              "                        <td id=\"T_612cf3a6_4771_11eb_aa88_0242ac1c0002row17_col14\" class=\"data row17 col14\" >0.14</td>\n",
              "                        <td id=\"T_612cf3a6_4771_11eb_aa88_0242ac1c0002row17_col15\" class=\"data row17 col15\" >0.12</td>\n",
              "                        <td id=\"T_612cf3a6_4771_11eb_aa88_0242ac1c0002row17_col16\" class=\"data row17 col16\" >0.86</td>\n",
              "                        <td id=\"T_612cf3a6_4771_11eb_aa88_0242ac1c0002row17_col17\" class=\"data row17 col17\" >1.0</td>\n",
              "                        <td id=\"T_612cf3a6_4771_11eb_aa88_0242ac1c0002row17_col18\" class=\"data row17 col18\" >0.82</td>\n",
              "                        <td id=\"T_612cf3a6_4771_11eb_aa88_0242ac1c0002row17_col19\" class=\"data row17 col19\" >0.44</td>\n",
              "                        <td id=\"T_612cf3a6_4771_11eb_aa88_0242ac1c0002row17_col20\" class=\"data row17 col20\" >0.27</td>\n",
              "                        <td id=\"T_612cf3a6_4771_11eb_aa88_0242ac1c0002row17_col21\" class=\"data row17 col21\" >0.64</td>\n",
              "                        <td id=\"T_612cf3a6_4771_11eb_aa88_0242ac1c0002row17_col22\" class=\"data row17 col22\" >nan</td>\n",
              "                        <td id=\"T_612cf3a6_4771_11eb_aa88_0242ac1c0002row17_col23\" class=\"data row17 col23\" >0.43</td>\n",
              "            </tr>\n",
              "            <tr>\n",
              "                        <th id=\"T_612cf3a6_4771_11eb_aa88_0242ac1c0002level0_row18\" class=\"row_heading level0 row18\" >Risk_F</th>\n",
              "                        <td id=\"T_612cf3a6_4771_11eb_aa88_0242ac1c0002row18_col0\" class=\"data row18 col0\" >-0.1</td>\n",
              "                        <td id=\"T_612cf3a6_4771_11eb_aa88_0242ac1c0002row18_col1\" class=\"data row18 col1\" >0.1</td>\n",
              "                        <td id=\"T_612cf3a6_4771_11eb_aa88_0242ac1c0002row18_col2\" class=\"data row18 col2\" >0.15</td>\n",
              "                        <td id=\"T_612cf3a6_4771_11eb_aa88_0242ac1c0002row18_col3\" class=\"data row18 col3\" >0.11</td>\n",
              "                        <td id=\"T_612cf3a6_4771_11eb_aa88_0242ac1c0002row18_col4\" class=\"data row18 col4\" >0.2</td>\n",
              "                        <td id=\"T_612cf3a6_4771_11eb_aa88_0242ac1c0002row18_col5\" class=\"data row18 col5\" >0.17</td>\n",
              "                        <td id=\"T_612cf3a6_4771_11eb_aa88_0242ac1c0002row18_col6\" class=\"data row18 col6\" >0.2</td>\n",
              "                        <td id=\"T_612cf3a6_4771_11eb_aa88_0242ac1c0002row18_col7\" class=\"data row18 col7\" >0.2</td>\n",
              "                        <td id=\"T_612cf3a6_4771_11eb_aa88_0242ac1c0002row18_col8\" class=\"data row18 col8\" >0.22</td>\n",
              "                        <td id=\"T_612cf3a6_4771_11eb_aa88_0242ac1c0002row18_col9\" class=\"data row18 col9\" >0.22</td>\n",
              "                        <td id=\"T_612cf3a6_4771_11eb_aa88_0242ac1c0002row18_col10\" class=\"data row18 col10\" >0.07</td>\n",
              "                        <td id=\"T_612cf3a6_4771_11eb_aa88_0242ac1c0002row18_col11\" class=\"data row18 col11\" >0.22</td>\n",
              "                        <td id=\"T_612cf3a6_4771_11eb_aa88_0242ac1c0002row18_col12\" class=\"data row18 col12\" >0.07</td>\n",
              "                        <td id=\"T_612cf3a6_4771_11eb_aa88_0242ac1c0002row18_col13\" class=\"data row18 col13\" >0.071</td>\n",
              "                        <td id=\"T_612cf3a6_4771_11eb_aa88_0242ac1c0002row18_col14\" class=\"data row18 col14\" >0.11</td>\n",
              "                        <td id=\"T_612cf3a6_4771_11eb_aa88_0242ac1c0002row18_col15\" class=\"data row18 col15\" >0.11</td>\n",
              "                        <td id=\"T_612cf3a6_4771_11eb_aa88_0242ac1c0002row18_col16\" class=\"data row18 col16\" >0.99</td>\n",
              "                        <td id=\"T_612cf3a6_4771_11eb_aa88_0242ac1c0002row18_col17\" class=\"data row18 col17\" >0.82</td>\n",
              "                        <td id=\"T_612cf3a6_4771_11eb_aa88_0242ac1c0002row18_col18\" class=\"data row18 col18\" >1.0</td>\n",
              "                        <td id=\"T_612cf3a6_4771_11eb_aa88_0242ac1c0002row18_col19\" class=\"data row18 col19\" >0.29</td>\n",
              "                        <td id=\"T_612cf3a6_4771_11eb_aa88_0242ac1c0002row18_col20\" class=\"data row18 col20\" >0.17</td>\n",
              "                        <td id=\"T_612cf3a6_4771_11eb_aa88_0242ac1c0002row18_col21\" class=\"data row18 col21\" >0.76</td>\n",
              "                        <td id=\"T_612cf3a6_4771_11eb_aa88_0242ac1c0002row18_col22\" class=\"data row18 col22\" >nan</td>\n",
              "                        <td id=\"T_612cf3a6_4771_11eb_aa88_0242ac1c0002row18_col23\" class=\"data row18 col23\" >0.33</td>\n",
              "            </tr>\n",
              "            <tr>\n",
              "                        <th id=\"T_612cf3a6_4771_11eb_aa88_0242ac1c0002level0_row19\" class=\"row_heading level0 row19\" >Score</th>\n",
              "                        <td id=\"T_612cf3a6_4771_11eb_aa88_0242ac1c0002row19_col0\" class=\"data row19 col0\" >-0.34</td>\n",
              "                        <td id=\"T_612cf3a6_4771_11eb_aa88_0242ac1c0002row19_col1\" class=\"data row19 col1\" >0.43</td>\n",
              "                        <td id=\"T_612cf3a6_4771_11eb_aa88_0242ac1c0002row19_col2\" class=\"data row19 col2\" >0.72</td>\n",
              "                        <td id=\"T_612cf3a6_4771_11eb_aa88_0242ac1c0002row19_col3\" class=\"data row19 col3\" >0.43</td>\n",
              "                        <td id=\"T_612cf3a6_4771_11eb_aa88_0242ac1c0002row19_col4\" class=\"data row19 col4\" >0.4</td>\n",
              "                        <td id=\"T_612cf3a6_4771_11eb_aa88_0242ac1c0002row19_col5\" class=\"data row19 col5\" >0.9</td>\n",
              "                        <td id=\"T_612cf3a6_4771_11eb_aa88_0242ac1c0002row19_col6\" class=\"data row19 col6\" >0.4</td>\n",
              "                        <td id=\"T_612cf3a6_4771_11eb_aa88_0242ac1c0002row19_col7\" class=\"data row19 col7\" >0.5</td>\n",
              "                        <td id=\"T_612cf3a6_4771_11eb_aa88_0242ac1c0002row19_col8\" class=\"data row19 col8\" >0.57</td>\n",
              "                        <td id=\"T_612cf3a6_4771_11eb_aa88_0242ac1c0002row19_col9\" class=\"data row19 col9\" >0.55</td>\n",
              "                        <td id=\"T_612cf3a6_4771_11eb_aa88_0242ac1c0002row19_col10\" class=\"data row19 col10\" >0.29</td>\n",
              "                        <td id=\"T_612cf3a6_4771_11eb_aa88_0242ac1c0002row19_col11\" class=\"data row19 col11\" >0.76</td>\n",
              "                        <td id=\"T_612cf3a6_4771_11eb_aa88_0242ac1c0002row19_col12\" class=\"data row19 col12\" >0.29</td>\n",
              "                        <td id=\"T_612cf3a6_4771_11eb_aa88_0242ac1c0002row19_col13\" class=\"data row19 col13\" >0.21</td>\n",
              "                        <td id=\"T_612cf3a6_4771_11eb_aa88_0242ac1c0002row19_col14\" class=\"data row19 col14\" >0.17</td>\n",
              "                        <td id=\"T_612cf3a6_4771_11eb_aa88_0242ac1c0002row19_col15\" class=\"data row19 col15\" >0.24</td>\n",
              "                        <td id=\"T_612cf3a6_4771_11eb_aa88_0242ac1c0002row19_col16\" class=\"data row19 col16\" >0.33</td>\n",
              "                        <td id=\"T_612cf3a6_4771_11eb_aa88_0242ac1c0002row19_col17\" class=\"data row19 col17\" >0.44</td>\n",
              "                        <td id=\"T_612cf3a6_4771_11eb_aa88_0242ac1c0002row19_col18\" class=\"data row19 col18\" >0.29</td>\n",
              "                        <td id=\"T_612cf3a6_4771_11eb_aa88_0242ac1c0002row19_col19\" class=\"data row19 col19\" >1.0</td>\n",
              "                        <td id=\"T_612cf3a6_4771_11eb_aa88_0242ac1c0002row19_col20\" class=\"data row19 col20\" >0.46</td>\n",
              "                        <td id=\"T_612cf3a6_4771_11eb_aa88_0242ac1c0002row19_col21\" class=\"data row19 col21\" >0.36</td>\n",
              "                        <td id=\"T_612cf3a6_4771_11eb_aa88_0242ac1c0002row19_col22\" class=\"data row19 col22\" >nan</td>\n",
              "                        <td id=\"T_612cf3a6_4771_11eb_aa88_0242ac1c0002row19_col23\" class=\"data row19 col23\" >0.33</td>\n",
              "            </tr>\n",
              "            <tr>\n",
              "                        <th id=\"T_612cf3a6_4771_11eb_aa88_0242ac1c0002level0_row20\" class=\"row_heading level0 row20\" >Inherent_Risk</th>\n",
              "                        <td id=\"T_612cf3a6_4771_11eb_aa88_0242ac1c0002row20_col0\" class=\"data row20 col0\" >-0.17</td>\n",
              "                        <td id=\"T_612cf3a6_4771_11eb_aa88_0242ac1c0002row20_col1\" class=\"data row20 col1\" >0.48</td>\n",
              "                        <td id=\"T_612cf3a6_4771_11eb_aa88_0242ac1c0002row20_col2\" class=\"data row20 col2\" >0.32</td>\n",
              "                        <td id=\"T_612cf3a6_4771_11eb_aa88_0242ac1c0002row20_col3\" class=\"data row20 col3\" >0.48</td>\n",
              "                        <td id=\"T_612cf3a6_4771_11eb_aa88_0242ac1c0002row20_col4\" class=\"data row20 col4\" >0.65</td>\n",
              "                        <td id=\"T_612cf3a6_4771_11eb_aa88_0242ac1c0002row20_col5\" class=\"data row20 col5\" >0.37</td>\n",
              "                        <td id=\"T_612cf3a6_4771_11eb_aa88_0242ac1c0002row20_col6\" class=\"data row20 col6\" >0.65</td>\n",
              "                        <td id=\"T_612cf3a6_4771_11eb_aa88_0242ac1c0002row20_col7\" class=\"data row20 col7\" >0.27</td>\n",
              "                        <td id=\"T_612cf3a6_4771_11eb_aa88_0242ac1c0002row20_col8\" class=\"data row20 col8\" >0.31</td>\n",
              "                        <td id=\"T_612cf3a6_4771_11eb_aa88_0242ac1c0002row20_col9\" class=\"data row20 col9\" >0.3</td>\n",
              "                        <td id=\"T_612cf3a6_4771_11eb_aa88_0242ac1c0002row20_col10\" class=\"data row20 col10\" >0.83</td>\n",
              "                        <td id=\"T_612cf3a6_4771_11eb_aa88_0242ac1c0002row20_col11\" class=\"data row20 col11\" >0.48</td>\n",
              "                        <td id=\"T_612cf3a6_4771_11eb_aa88_0242ac1c0002row20_col12\" class=\"data row20 col12\" >0.83</td>\n",
              "                        <td id=\"T_612cf3a6_4771_11eb_aa88_0242ac1c0002row20_col13\" class=\"data row20 col13\" >0.081</td>\n",
              "                        <td id=\"T_612cf3a6_4771_11eb_aa88_0242ac1c0002row20_col14\" class=\"data row20 col14\" >0.053</td>\n",
              "                        <td id=\"T_612cf3a6_4771_11eb_aa88_0242ac1c0002row20_col15\" class=\"data row20 col15\" >0.083</td>\n",
              "                        <td id=\"T_612cf3a6_4771_11eb_aa88_0242ac1c0002row20_col16\" class=\"data row20 col16\" >0.19</td>\n",
              "                        <td id=\"T_612cf3a6_4771_11eb_aa88_0242ac1c0002row20_col17\" class=\"data row20 col17\" >0.27</td>\n",
              "                        <td id=\"T_612cf3a6_4771_11eb_aa88_0242ac1c0002row20_col18\" class=\"data row20 col18\" >0.17</td>\n",
              "                        <td id=\"T_612cf3a6_4771_11eb_aa88_0242ac1c0002row20_col19\" class=\"data row20 col19\" >0.46</td>\n",
              "                        <td id=\"T_612cf3a6_4771_11eb_aa88_0242ac1c0002row20_col20\" class=\"data row20 col20\" >1.0</td>\n",
              "                        <td id=\"T_612cf3a6_4771_11eb_aa88_0242ac1c0002row20_col21\" class=\"data row20 col21\" >0.17</td>\n",
              "                        <td id=\"T_612cf3a6_4771_11eb_aa88_0242ac1c0002row20_col22\" class=\"data row20 col22\" >nan</td>\n",
              "                        <td id=\"T_612cf3a6_4771_11eb_aa88_0242ac1c0002row20_col23\" class=\"data row20 col23\" >0.75</td>\n",
              "            </tr>\n",
              "            <tr>\n",
              "                        <th id=\"T_612cf3a6_4771_11eb_aa88_0242ac1c0002level0_row21\" class=\"row_heading level0 row21\" >CONTROL_RISK</th>\n",
              "                        <td id=\"T_612cf3a6_4771_11eb_aa88_0242ac1c0002row21_col0\" class=\"data row21 col0\" >-0.15</td>\n",
              "                        <td id=\"T_612cf3a6_4771_11eb_aa88_0242ac1c0002row21_col1\" class=\"data row21 col1\" >0.15</td>\n",
              "                        <td id=\"T_612cf3a6_4771_11eb_aa88_0242ac1c0002row21_col2\" class=\"data row21 col2\" >0.17</td>\n",
              "                        <td id=\"T_612cf3a6_4771_11eb_aa88_0242ac1c0002row21_col3\" class=\"data row21 col3\" >0.15</td>\n",
              "                        <td id=\"T_612cf3a6_4771_11eb_aa88_0242ac1c0002row21_col4\" class=\"data row21 col4\" >0.19</td>\n",
              "                        <td id=\"T_612cf3a6_4771_11eb_aa88_0242ac1c0002row21_col5\" class=\"data row21 col5\" >0.13</td>\n",
              "                        <td id=\"T_612cf3a6_4771_11eb_aa88_0242ac1c0002row21_col6\" class=\"data row21 col6\" >0.19</td>\n",
              "                        <td id=\"T_612cf3a6_4771_11eb_aa88_0242ac1c0002row21_col7\" class=\"data row21 col7\" >0.23</td>\n",
              "                        <td id=\"T_612cf3a6_4771_11eb_aa88_0242ac1c0002row21_col8\" class=\"data row21 col8\" >0.26</td>\n",
              "                        <td id=\"T_612cf3a6_4771_11eb_aa88_0242ac1c0002row21_col9\" class=\"data row21 col9\" >0.25</td>\n",
              "                        <td id=\"T_612cf3a6_4771_11eb_aa88_0242ac1c0002row21_col10\" class=\"data row21 col10\" >0.07</td>\n",
              "                        <td id=\"T_612cf3a6_4771_11eb_aa88_0242ac1c0002row21_col11\" class=\"data row21 col11\" >0.22</td>\n",
              "                        <td id=\"T_612cf3a6_4771_11eb_aa88_0242ac1c0002row21_col12\" class=\"data row21 col12\" >0.07</td>\n",
              "                        <td id=\"T_612cf3a6_4771_11eb_aa88_0242ac1c0002row21_col13\" class=\"data row21 col13\" >0.65</td>\n",
              "                        <td id=\"T_612cf3a6_4771_11eb_aa88_0242ac1c0002row21_col14\" class=\"data row21 col14\" >0.34</td>\n",
              "                        <td id=\"T_612cf3a6_4771_11eb_aa88_0242ac1c0002row21_col15\" class=\"data row21 col15\" >0.73</td>\n",
              "                        <td id=\"T_612cf3a6_4771_11eb_aa88_0242ac1c0002row21_col16\" class=\"data row21 col16\" >0.75</td>\n",
              "                        <td id=\"T_612cf3a6_4771_11eb_aa88_0242ac1c0002row21_col17\" class=\"data row21 col17\" >0.64</td>\n",
              "                        <td id=\"T_612cf3a6_4771_11eb_aa88_0242ac1c0002row21_col18\" class=\"data row21 col18\" >0.76</td>\n",
              "                        <td id=\"T_612cf3a6_4771_11eb_aa88_0242ac1c0002row21_col19\" class=\"data row21 col19\" >0.36</td>\n",
              "                        <td id=\"T_612cf3a6_4771_11eb_aa88_0242ac1c0002row21_col20\" class=\"data row21 col20\" >0.17</td>\n",
              "                        <td id=\"T_612cf3a6_4771_11eb_aa88_0242ac1c0002row21_col21\" class=\"data row21 col21\" >1.0</td>\n",
              "                        <td id=\"T_612cf3a6_4771_11eb_aa88_0242ac1c0002row21_col22\" class=\"data row21 col22\" >nan</td>\n",
              "                        <td id=\"T_612cf3a6_4771_11eb_aa88_0242ac1c0002row21_col23\" class=\"data row21 col23\" >0.36</td>\n",
              "            </tr>\n",
              "            <tr>\n",
              "                        <th id=\"T_612cf3a6_4771_11eb_aa88_0242ac1c0002level0_row22\" class=\"row_heading level0 row22\" >Detection_Risk</th>\n",
              "                        <td id=\"T_612cf3a6_4771_11eb_aa88_0242ac1c0002row22_col0\" class=\"data row22 col0\" >nan</td>\n",
              "                        <td id=\"T_612cf3a6_4771_11eb_aa88_0242ac1c0002row22_col1\" class=\"data row22 col1\" >nan</td>\n",
              "                        <td id=\"T_612cf3a6_4771_11eb_aa88_0242ac1c0002row22_col2\" class=\"data row22 col2\" >nan</td>\n",
              "                        <td id=\"T_612cf3a6_4771_11eb_aa88_0242ac1c0002row22_col3\" class=\"data row22 col3\" >nan</td>\n",
              "                        <td id=\"T_612cf3a6_4771_11eb_aa88_0242ac1c0002row22_col4\" class=\"data row22 col4\" >nan</td>\n",
              "                        <td id=\"T_612cf3a6_4771_11eb_aa88_0242ac1c0002row22_col5\" class=\"data row22 col5\" >nan</td>\n",
              "                        <td id=\"T_612cf3a6_4771_11eb_aa88_0242ac1c0002row22_col6\" class=\"data row22 col6\" >nan</td>\n",
              "                        <td id=\"T_612cf3a6_4771_11eb_aa88_0242ac1c0002row22_col7\" class=\"data row22 col7\" >nan</td>\n",
              "                        <td id=\"T_612cf3a6_4771_11eb_aa88_0242ac1c0002row22_col8\" class=\"data row22 col8\" >nan</td>\n",
              "                        <td id=\"T_612cf3a6_4771_11eb_aa88_0242ac1c0002row22_col9\" class=\"data row22 col9\" >nan</td>\n",
              "                        <td id=\"T_612cf3a6_4771_11eb_aa88_0242ac1c0002row22_col10\" class=\"data row22 col10\" >nan</td>\n",
              "                        <td id=\"T_612cf3a6_4771_11eb_aa88_0242ac1c0002row22_col11\" class=\"data row22 col11\" >nan</td>\n",
              "                        <td id=\"T_612cf3a6_4771_11eb_aa88_0242ac1c0002row22_col12\" class=\"data row22 col12\" >nan</td>\n",
              "                        <td id=\"T_612cf3a6_4771_11eb_aa88_0242ac1c0002row22_col13\" class=\"data row22 col13\" >nan</td>\n",
              "                        <td id=\"T_612cf3a6_4771_11eb_aa88_0242ac1c0002row22_col14\" class=\"data row22 col14\" >nan</td>\n",
              "                        <td id=\"T_612cf3a6_4771_11eb_aa88_0242ac1c0002row22_col15\" class=\"data row22 col15\" >nan</td>\n",
              "                        <td id=\"T_612cf3a6_4771_11eb_aa88_0242ac1c0002row22_col16\" class=\"data row22 col16\" >nan</td>\n",
              "                        <td id=\"T_612cf3a6_4771_11eb_aa88_0242ac1c0002row22_col17\" class=\"data row22 col17\" >nan</td>\n",
              "                        <td id=\"T_612cf3a6_4771_11eb_aa88_0242ac1c0002row22_col18\" class=\"data row22 col18\" >nan</td>\n",
              "                        <td id=\"T_612cf3a6_4771_11eb_aa88_0242ac1c0002row22_col19\" class=\"data row22 col19\" >nan</td>\n",
              "                        <td id=\"T_612cf3a6_4771_11eb_aa88_0242ac1c0002row22_col20\" class=\"data row22 col20\" >nan</td>\n",
              "                        <td id=\"T_612cf3a6_4771_11eb_aa88_0242ac1c0002row22_col21\" class=\"data row22 col21\" >nan</td>\n",
              "                        <td id=\"T_612cf3a6_4771_11eb_aa88_0242ac1c0002row22_col22\" class=\"data row22 col22\" >nan</td>\n",
              "                        <td id=\"T_612cf3a6_4771_11eb_aa88_0242ac1c0002row22_col23\" class=\"data row22 col23\" >nan</td>\n",
              "            </tr>\n",
              "            <tr>\n",
              "                        <th id=\"T_612cf3a6_4771_11eb_aa88_0242ac1c0002level0_row23\" class=\"row_heading level0 row23\" >Audit_Risk</th>\n",
              "                        <td id=\"T_612cf3a6_4771_11eb_aa88_0242ac1c0002row23_col0\" class=\"data row23 col0\" >-0.092</td>\n",
              "                        <td id=\"T_612cf3a6_4771_11eb_aa88_0242ac1c0002row23_col1\" class=\"data row23 col1\" >0.22</td>\n",
              "                        <td id=\"T_612cf3a6_4771_11eb_aa88_0242ac1c0002row23_col2\" class=\"data row23 col2\" >0.2</td>\n",
              "                        <td id=\"T_612cf3a6_4771_11eb_aa88_0242ac1c0002row23_col3\" class=\"data row23 col3\" >0.22</td>\n",
              "                        <td id=\"T_612cf3a6_4771_11eb_aa88_0242ac1c0002row23_col4\" class=\"data row23 col4\" >0.89</td>\n",
              "                        <td id=\"T_612cf3a6_4771_11eb_aa88_0242ac1c0002row23_col5\" class=\"data row23 col5\" >0.21</td>\n",
              "                        <td id=\"T_612cf3a6_4771_11eb_aa88_0242ac1c0002row23_col6\" class=\"data row23 col6\" >0.89</td>\n",
              "                        <td id=\"T_612cf3a6_4771_11eb_aa88_0242ac1c0002row23_col7\" class=\"data row23 col7\" >0.22</td>\n",
              "                        <td id=\"T_612cf3a6_4771_11eb_aa88_0242ac1c0002row23_col8\" class=\"data row23 col8\" >0.26</td>\n",
              "                        <td id=\"T_612cf3a6_4771_11eb_aa88_0242ac1c0002row23_col9\" class=\"data row23 col9\" >0.25</td>\n",
              "                        <td id=\"T_612cf3a6_4771_11eb_aa88_0242ac1c0002row23_col10\" class=\"data row23 col10\" >0.33</td>\n",
              "                        <td id=\"T_612cf3a6_4771_11eb_aa88_0242ac1c0002row23_col11\" class=\"data row23 col11\" >0.29</td>\n",
              "                        <td id=\"T_612cf3a6_4771_11eb_aa88_0242ac1c0002row23_col12\" class=\"data row23 col12\" >0.33</td>\n",
              "                        <td id=\"T_612cf3a6_4771_11eb_aa88_0242ac1c0002row23_col13\" class=\"data row23 col13\" >0.2</td>\n",
              "                        <td id=\"T_612cf3a6_4771_11eb_aa88_0242ac1c0002row23_col14\" class=\"data row23 col14\" >0.074</td>\n",
              "                        <td id=\"T_612cf3a6_4771_11eb_aa88_0242ac1c0002row23_col15\" class=\"data row23 col15\" >0.2</td>\n",
              "                        <td id=\"T_612cf3a6_4771_11eb_aa88_0242ac1c0002row23_col16\" class=\"data row23 col16\" >0.33</td>\n",
              "                        <td id=\"T_612cf3a6_4771_11eb_aa88_0242ac1c0002row23_col17\" class=\"data row23 col17\" >0.43</td>\n",
              "                        <td id=\"T_612cf3a6_4771_11eb_aa88_0242ac1c0002row23_col18\" class=\"data row23 col18\" >0.33</td>\n",
              "                        <td id=\"T_612cf3a6_4771_11eb_aa88_0242ac1c0002row23_col19\" class=\"data row23 col19\" >0.33</td>\n",
              "                        <td id=\"T_612cf3a6_4771_11eb_aa88_0242ac1c0002row23_col20\" class=\"data row23 col20\" >0.75</td>\n",
              "                        <td id=\"T_612cf3a6_4771_11eb_aa88_0242ac1c0002row23_col21\" class=\"data row23 col21\" >0.36</td>\n",
              "                        <td id=\"T_612cf3a6_4771_11eb_aa88_0242ac1c0002row23_col22\" class=\"data row23 col22\" >nan</td>\n",
              "                        <td id=\"T_612cf3a6_4771_11eb_aa88_0242ac1c0002row23_col23\" class=\"data row23 col23\" >1.0</td>\n",
              "            </tr>\n",
              "    </tbody></table>"
            ],
            "text/plain": [
              "<pandas.io.formats.style.Styler at 0x7fa363d95c88>"
            ]
          },
          "metadata": {
            "tags": []
          },
          "execution_count": 27
        }
      ]
    },
    {
      "cell_type": "code",
      "metadata": {
        "id": "_-Sb2vs446cN"
      },
      "source": [
        "x=x.drop(['Detection_Risk'],axis=1)"
      ],
      "execution_count": null,
      "outputs": []
    },
    {
      "cell_type": "code",
      "metadata": {
        "colab": {
          "base_uri": "https://localhost:8080/",
          "height": 833
        },
        "id": "vbmnOYDC5Cxd",
        "outputId": "ac34145d-210b-4c86-a8fc-6dc21d493b7b"
      },
      "source": [
        "df1=df[df['Risk']==1]\r\n",
        "columns=df1.columns[:24]\r\n",
        "plt.subplots(figsize=(20,20))\r\n",
        "length=len(columns)\r\n",
        "for i,j in itertools.zip_longest(columns,range(length)):\r\n",
        "    plt.subplot((length/2),3,j+1)\r\n",
        "    plt.subplots_adjust(wspace=0.2,hspace=0.6)\r\n",
        "    df1[i].hist(bins=20,edgecolor='black')\r\n",
        "    plt.title(i)\r\n",
        "plt.show()"
      ],
      "execution_count": null,
      "outputs": [
        {
          "output_type": "display_data",
          "data": {
            "image/png": "[encoded data removed]",
            "text/plain": [
              "<Figure size 1440x1440 with 24 Axes>"
            ]
          },
          "metadata": {
            "tags": []
          }
        }
      ]
    },
    {
      "cell_type": "code",
      "metadata": {
        "id": "U_9UbagB5E_x"
      },
      "source": [
        "y=df['Risk']"
      ],
      "execution_count": null,
      "outputs": []
    },
    {
      "cell_type": "code",
      "metadata": {
        "id": "ULOAYo686NZh"
      },
      "source": [
        "x_train, x_test, y_train, y_test = train_test_split(x, y, test_size = 0.2,stratify=y, random_state = 123)"
      ],
      "execution_count": null,
      "outputs": []
    },
    {
      "cell_type": "code",
      "metadata": {
        "id": "EzOdLBpo6Vkw"
      },
      "source": [
        "sc_x = StandardScaler()\r\n",
        "x_train = pd.DataFrame(sc_x.fit_transform(x_train))\r\n",
        "x_test_scaled = pd.DataFrame(sc_x.transform(x_test))"
      ],
      "execution_count": null,
      "outputs": []
    },
    {
      "cell_type": "markdown",
      "metadata": {
        "id": "4b0nDmoo6mNQ"
      },
      "source": [
        "# Logistic Regression"
      ]
    },
    {
      "cell_type": "code",
      "metadata": {
        "colab": {
          "base_uri": "https://localhost:8080/"
        },
        "id": "KggKx22w6qDQ",
        "outputId": "007109ed-a358-4477-aab4-9a7a1026809a"
      },
      "source": [
        "logi = LogisticRegression(random_state = 0, penalty = 'l2')\r\n",
        "logi.fit(x_train, y_train)"
      ],
      "execution_count": null,
      "outputs": [
        {
          "output_type": "execute_result",
          "data": {
            "text/plain": [
              "LogisticRegression(C=1.0, class_weight=None, dual=False, fit_intercept=True,\n",
              "                   intercept_scaling=1, l1_ratio=None, max_iter=100,\n",
              "                   multi_class='auto', n_jobs=None, penalty='l2',\n",
              "                   random_state=0, solver='lbfgs', tol=0.0001, verbose=0,\n",
              "                   warm_start=False)"
            ]
          },
          "metadata": {
            "tags": []
          },
          "execution_count": 32
        }
      ]
    },
    {
      "cell_type": "code",
      "metadata": {
        "colab": {
          "base_uri": "https://localhost:8080/"
        },
        "id": "fPtgQH_Y7C-L",
        "outputId": "adf6b710-d50b-49ee-deac-9a8945845be9"
      },
      "source": [
        "kfold = model_selection.KFold(n_splits=10, random_state=7)\r\n",
        "scoring = 'accuracy'\r\n",
        "\r\n",
        "acc_logi = cross_val_score(estimator = logi, X = x_train, y = y_train, cv = kfold,scoring=scoring)\r\n",
        "acc_logi.mean()"
      ],
      "execution_count": null,
      "outputs": [
        {
          "output_type": "execute_result",
          "data": {
            "text/plain": [
              "0.9903225806451612"
            ]
          },
          "metadata": {
            "tags": []
          },
          "execution_count": 35
        }
      ]
    },
    {
      "cell_type": "code",
      "metadata": {
        "colab": {
          "base_uri": "https://localhost:8080/",
          "height": 80
        },
        "id": "15EHbNIx6yQh",
        "outputId": "c9f93ac8-0ab1-4f9f-8c75-832f3fc9c4a8"
      },
      "source": [
        "y_predict_logi = logi.predict(x_test)\r\n",
        "acc= accuracy_score(y_test, y_predict_logi)\r\n",
        "roc=roc_auc_score(y_test, y_predict_logi)\r\n",
        "prec = precision_score(y_test, y_predict_logi)\r\n",
        "rec = recall_score(y_test, y_predict_logi)\r\n",
        "f1 = f1_score(y_test, y_predict_logi)\r\n",
        "\r\n",
        "results = pd.DataFrame([['Logistic Regression',acc, acc_logi.mean(),prec,rec, f1,roc]],\r\n",
        "               columns = ['Model', 'Accuracy','Cross Val Accuracy', 'Precision', 'Recall', 'F1 Score','ROC'])\r\n",
        "results"
      ],
      "execution_count": null,
      "outputs": [
        {
          "output_type": "execute_result",
          "data": {
            "text/html": [
              "<div>\n",
              "<style scoped>\n",
              "    .dataframe tbody tr th:only-of-type {\n",
              "        vertical-align: middle;\n",
              "    }\n",
              "\n",
              "    .dataframe tbody tr th {\n",
              "        vertical-align: top;\n",
              "    }\n",
              "\n",
              "    .dataframe thead th {\n",
              "        text-align: right;\n",
              "    }\n",
              "</style>\n",
              "<table border=\"1\" class=\"dataframe\">\n",
              "  <thead>\n",
              "    <tr style=\"text-align: right;\">\n",
              "      <th></th>\n",
              "      <th>Model</th>\n",
              "      <th>Accuracy</th>\n",
              "      <th>Cross Val Accuracy</th>\n",
              "      <th>Precision</th>\n",
              "      <th>Recall</th>\n",
              "      <th>F1 Score</th>\n",
              "      <th>ROC</th>\n",
              "    </tr>\n",
              "  </thead>\n",
              "  <tbody>\n",
              "    <tr>\n",
              "      <th>0</th>\n",
              "      <td>Logistic Regression</td>\n",
              "      <td>1.0</td>\n",
              "      <td>0.990323</td>\n",
              "      <td>1.0</td>\n",
              "      <td>1.0</td>\n",
              "      <td>1.0</td>\n",
              "      <td>1.0</td>\n",
              "    </tr>\n",
              "  </tbody>\n",
              "</table>\n",
              "</div>"
            ],
            "text/plain": [
              "                 Model  Accuracy  Cross Val Accuracy  ...  Recall  F1 Score  ROC\n",
              "0  Logistic Regression       1.0            0.990323  ...     1.0       1.0  1.0\n",
              "\n",
              "[1 rows x 7 columns]"
            ]
          },
          "metadata": {
            "tags": []
          },
          "execution_count": 36
        }
      ]
    },
    {
      "cell_type": "code",
      "metadata": {
        "colab": {
          "base_uri": "https://localhost:8080/",
          "height": 303
        },
        "id": "LJ1KGtwH7Qgx",
        "outputId": "cc9dc0e2-950d-4a83-c0c4-d318560b4999"
      },
      "source": [
        "cm_logi = confusion_matrix(y_test, y_predict_logi)\r\n",
        "plt.title('Confusion matrix of the Logistic regression classifier')\r\n",
        "sns.heatmap(cm_logi,annot=True,fmt=\"d\")\r\n",
        "plt.show()"
      ],
      "execution_count": null,
      "outputs": [
        {
          "output_type": "display_data",
          "data": {
            "image/png": "[encoded data removed]",
            "text/plain": [
              "<Figure size 432x288 with 2 Axes>"
            ]
          },
          "metadata": {
            "tags": []
          }
        }
      ]
    },
    {
      "cell_type": "markdown",
      "metadata": {
        "id": "dEVYgvkO7i3Q"
      },
      "source": [
        "# Random Forest"
      ]
    },
    {
      "cell_type": "code",
      "metadata": {
        "colab": {
          "base_uri": "https://localhost:8080/"
        },
        "id": "U30M3WSS7RIO",
        "outputId": "6b57edc2-d640-4abc-e726-76be00f13456"
      },
      "source": [
        "random_forest_e = RandomForestClassifier(n_estimators = 100,criterion='entropy', random_state = 47)\r\n",
        "random_forest_e.fit(x_train, y_train)"
      ],
      "execution_count": null,
      "outputs": [
        {
          "output_type": "execute_result",
          "data": {
            "text/plain": [
              "RandomForestClassifier(bootstrap=True, ccp_alpha=0.0, class_weight=None,\n",
              "                       criterion='entropy', max_depth=None, max_features='auto',\n",
              "                       max_leaf_nodes=None, max_samples=None,\n",
              "                       min_impurity_decrease=0.0, min_impurity_split=None,\n",
              "                       min_samples_leaf=1, min_samples_split=2,\n",
              "                       min_weight_fraction_leaf=0.0, n_estimators=100,\n",
              "                       n_jobs=None, oob_score=False, random_state=47, verbose=0,\n",
              "                       warm_start=False)"
            ]
          },
          "metadata": {
            "tags": []
          },
          "execution_count": 39
        }
      ]
    },
    {
      "cell_type": "code",
      "metadata": {
        "colab": {
          "base_uri": "https://localhost:8080/"
        },
        "id": "ARIPBLS27sZR",
        "outputId": "eae9aaae-ac66-4602-927c-c7ee568daca9"
      },
      "source": [
        "acc_rande = cross_val_score(estimator = random_forest_e, X = x_train, y = y_train, cv = kfold, scoring=scoring)\r\n",
        "acc_rande.mean()"
      ],
      "execution_count": null,
      "outputs": [
        {
          "output_type": "execute_result",
          "data": {
            "text/plain": [
              "0.9983870967741936"
            ]
          },
          "metadata": {
            "tags": []
          },
          "execution_count": 42
        }
      ]
    },
    {
      "cell_type": "code",
      "metadata": {
        "colab": {
          "base_uri": "https://localhost:8080/",
          "height": 111
        },
        "id": "1qb4nIsh7uOn",
        "outputId": "1484465a-492f-4479-aaa6-a0003acbb1e1"
      },
      "source": [
        "y_predict_r = random_forest_e.predict(x_test)\r\n",
        "roc=roc_auc_score(y_test, y_predict_r)\r\n",
        "acc = accuracy_score(y_test, y_predict_r)\r\n",
        "prec = precision_score(y_test, y_predict_r)\r\n",
        "rec = recall_score(y_test, y_predict_r)\r\n",
        "f1 = f1_score(y_test, y_predict_r)\r\n",
        "\r\n",
        "model_results = pd.DataFrame([['Random Forest',acc, acc_rande.mean(),prec,rec, f1,roc]],\r\n",
        "               columns = ['Model', 'Accuracy','Cross Val Accuracy', 'Precision', 'Recall', 'F1 Score','ROC'])\r\n",
        "results = results.append(model_results, ignore_index = True)\r\n",
        "results"
      ],
      "execution_count": null,
      "outputs": [
        {
          "output_type": "execute_result",
          "data": {
            "text/html": [
              "<div>\n",
              "<style scoped>\n",
              "    .dataframe tbody tr th:only-of-type {\n",
              "        vertical-align: middle;\n",
              "    }\n",
              "\n",
              "    .dataframe tbody tr th {\n",
              "        vertical-align: top;\n",
              "    }\n",
              "\n",
              "    .dataframe thead th {\n",
              "        text-align: right;\n",
              "    }\n",
              "</style>\n",
              "<table border=\"1\" class=\"dataframe\">\n",
              "  <thead>\n",
              "    <tr style=\"text-align: right;\">\n",
              "      <th></th>\n",
              "      <th>Model</th>\n",
              "      <th>Accuracy</th>\n",
              "      <th>Cross Val Accuracy</th>\n",
              "      <th>Precision</th>\n",
              "      <th>Recall</th>\n",
              "      <th>F1 Score</th>\n",
              "      <th>ROC</th>\n",
              "    </tr>\n",
              "  </thead>\n",
              "  <tbody>\n",
              "    <tr>\n",
              "      <th>0</th>\n",
              "      <td>Logistic Regression</td>\n",
              "      <td>1.0</td>\n",
              "      <td>0.990323</td>\n",
              "      <td>1.0</td>\n",
              "      <td>1.0</td>\n",
              "      <td>1.0</td>\n",
              "      <td>1.0</td>\n",
              "    </tr>\n",
              "    <tr>\n",
              "      <th>1</th>\n",
              "      <td>Random Forest</td>\n",
              "      <td>1.0</td>\n",
              "      <td>0.998387</td>\n",
              "      <td>1.0</td>\n",
              "      <td>1.0</td>\n",
              "      <td>1.0</td>\n",
              "      <td>1.0</td>\n",
              "    </tr>\n",
              "  </tbody>\n",
              "</table>\n",
              "</div>"
            ],
            "text/plain": [
              "                 Model  Accuracy  Cross Val Accuracy  ...  Recall  F1 Score  ROC\n",
              "0  Logistic Regression       1.0            0.990323  ...     1.0       1.0  1.0\n",
              "1        Random Forest       1.0            0.998387  ...     1.0       1.0  1.0\n",
              "\n",
              "[2 rows x 7 columns]"
            ]
          },
          "metadata": {
            "tags": []
          },
          "execution_count": 43
        }
      ]
    },
    {
      "cell_type": "code",
      "metadata": {
        "colab": {
          "base_uri": "https://localhost:8080/",
          "height": 303
        },
        "id": "QY7YKAaG8EPb",
        "outputId": "91e4efc7-81ef-4c68-e21e-508997899961"
      },
      "source": [
        "cm_r = confusion_matrix(y_test, y_predict_r)\r\n",
        "plt.title('Confusion matrix of the Random Forest classifier')\r\n",
        "sns.heatmap(cm_r,annot=True,fmt=\"d\")\r\n",
        "plt.show()"
      ],
      "execution_count": null,
      "outputs": [
        {
          "output_type": "display_data",
          "data": {
            "image/png": "[encoded data removed]",
            "text/plain": [
              "<Figure size 432x288 with 2 Axes>"
            ]
          },
          "metadata": {
            "tags": []
          }
        }
      ]
    },
    {
      "cell_type": "code",
      "metadata": {
        "colab": {
          "base_uri": "https://localhost:8080/",
          "height": 396
        },
        "id": "zKbDme0JLD3U",
        "outputId": "0d248b2c-6d5a-468e-a1b5-9a1a7995f400"
      },
      "source": [
        "importances = random_forest_e.feature_importances_\r\n",
        "indices = np.argsort(importances)[::-1]\r\n",
        "names = [x.columns[i] for i in indices]\r\n",
        "\r\n",
        "plt.figure()\r\n",
        "plt.title(\"Feature Importance\")\r\n",
        "plt.bar(range(x.shape[1]), importances[indices])\r\n",
        "plt.xticks(range(x.shape[1]), names, rotation=90)\r\n",
        "plt.show()"
      ],
      "execution_count": null,
      "outputs": [
        {
          "output_type": "display_data",
          "data": {
            "image/png": "[encoded data removed]",
            "text/plain": [
              "<Figure size 432x288 with 1 Axes>"
            ]
          },
          "metadata": {
            "tags": []
          }
        }
      ]
    },
    {
      "cell_type": "markdown",
      "metadata": {
        "id": "ba3wZ2oU8U8R"
      },
      "source": [
        "# KNeighbors classifier"
      ]
    },
    {
      "cell_type": "code",
      "metadata": {
        "colab": {
          "base_uri": "https://localhost:8080/"
        },
        "id": "IVtznwqC8okZ",
        "outputId": "49682033-dcbd-4329-f0c5-b525bf79aaa9"
      },
      "source": [
        "k=4\r\n",
        "knn = KNeighborsClassifier(n_neighbors = k)\r\n",
        "knn.fit(x_train,y_train)"
      ],
      "execution_count": null,
      "outputs": [
        {
          "output_type": "execute_result",
          "data": {
            "text/plain": [
              "KNeighborsClassifier(algorithm='auto', leaf_size=30, metric='minkowski',\n",
              "                     metric_params=None, n_jobs=None, n_neighbors=4, p=2,\n",
              "                     weights='uniform')"
            ]
          },
          "metadata": {
            "tags": []
          },
          "execution_count": 60
        }
      ]
    },
    {
      "cell_type": "code",
      "metadata": {
        "colab": {
          "base_uri": "https://localhost:8080/"
        },
        "id": "Y8RvwvNZ8wfK",
        "outputId": "fea4bb63-beec-42df-f52a-f1bd8ac665bd"
      },
      "source": [
        "acc_knn = cross_val_score(estimator = knn, X = x_train, y = y_train, cv = kfold, scoring=scoring)\r\n",
        "acc_knn.mean()"
      ],
      "execution_count": null,
      "outputs": [
        {
          "output_type": "execute_result",
          "data": {
            "text/plain": [
              "0.9693548387096775"
            ]
          },
          "metadata": {
            "tags": []
          },
          "execution_count": 61
        }
      ]
    },
    {
      "cell_type": "code",
      "metadata": {
        "colab": {
          "base_uri": "https://localhost:8080/",
          "height": 142
        },
        "id": "SJcfQRCq9A98",
        "outputId": "86ea7f42-3c14-4a52-80fa-af23902078d3"
      },
      "source": [
        "y_predict_r = knn.predict(x_test)\r\n",
        "roc=roc_auc_score(y_test, y_predict_r)\r\n",
        "acc = accuracy_score(y_test, y_predict_r)\r\n",
        "prec = precision_score(y_test, y_predict_r)\r\n",
        "rec = recall_score(y_test, y_predict_r)\r\n",
        "f1 = f1_score(y_test, y_predict_r)\r\n",
        "\r\n",
        "model_results = pd.DataFrame([['KNeighbors',acc, acc_knn.mean(),prec,rec, f1,roc]],\r\n",
        "               columns = ['Model', 'Accuracy','Cross Val Accuracy', 'Precision', 'Recall', 'F1 Score','ROC'])\r\n",
        "results = results.append(model_results, ignore_index = True)\r\n",
        "results"
      ],
      "execution_count": null,
      "outputs": [
        {
          "output_type": "execute_result",
          "data": {
            "text/html": [
              "<div>\n",
              "<style scoped>\n",
              "    .dataframe tbody tr th:only-of-type {\n",
              "        vertical-align: middle;\n",
              "    }\n",
              "\n",
              "    .dataframe tbody tr th {\n",
              "        vertical-align: top;\n",
              "    }\n",
              "\n",
              "    .dataframe thead th {\n",
              "        text-align: right;\n",
              "    }\n",
              "</style>\n",
              "<table border=\"1\" class=\"dataframe\">\n",
              "  <thead>\n",
              "    <tr style=\"text-align: right;\">\n",
              "      <th></th>\n",
              "      <th>Model</th>\n",
              "      <th>Accuracy</th>\n",
              "      <th>Cross Val Accuracy</th>\n",
              "      <th>Precision</th>\n",
              "      <th>Recall</th>\n",
              "      <th>F1 Score</th>\n",
              "      <th>ROC</th>\n",
              "    </tr>\n",
              "  </thead>\n",
              "  <tbody>\n",
              "    <tr>\n",
              "      <th>0</th>\n",
              "      <td>Logistic Regression</td>\n",
              "      <td>1.00000</td>\n",
              "      <td>0.990323</td>\n",
              "      <td>1.0</td>\n",
              "      <td>1.000000</td>\n",
              "      <td>1.000000</td>\n",
              "      <td>1.000000</td>\n",
              "    </tr>\n",
              "    <tr>\n",
              "      <th>1</th>\n",
              "      <td>Random Forest</td>\n",
              "      <td>1.00000</td>\n",
              "      <td>0.998387</td>\n",
              "      <td>1.0</td>\n",
              "      <td>1.000000</td>\n",
              "      <td>1.000000</td>\n",
              "      <td>1.000000</td>\n",
              "    </tr>\n",
              "    <tr>\n",
              "      <th>2</th>\n",
              "      <td>KNeighbors</td>\n",
              "      <td>0.99359</td>\n",
              "      <td>0.969355</td>\n",
              "      <td>1.0</td>\n",
              "      <td>0.983607</td>\n",
              "      <td>0.991736</td>\n",
              "      <td>0.991803</td>\n",
              "    </tr>\n",
              "  </tbody>\n",
              "</table>\n",
              "</div>"
            ],
            "text/plain": [
              "                 Model  Accuracy  ...  F1 Score       ROC\n",
              "0  Logistic Regression   1.00000  ...  1.000000  1.000000\n",
              "1        Random Forest   1.00000  ...  1.000000  1.000000\n",
              "2           KNeighbors   0.99359  ...  0.991736  0.991803\n",
              "\n",
              "[3 rows x 7 columns]"
            ]
          },
          "metadata": {
            "tags": []
          },
          "execution_count": 62
        }
      ]
    },
    {
      "cell_type": "code",
      "metadata": {
        "colab": {
          "base_uri": "https://localhost:8080/",
          "height": 303
        },
        "id": "Gy3A34Mg9JS5",
        "outputId": "7b8178fe-8b50-4a91-eb02-702952267bc7"
      },
      "source": [
        "cm_knn = confusion_matrix(y_test, y_predict_r)\r\n",
        "plt.title('Confusion matrix of the KNeighbors classifier')\r\n",
        "sns.heatmap(cm_knn,annot=True,fmt=\"d\")\r\n",
        "plt.show()"
      ],
      "execution_count": null,
      "outputs": [
        {
          "output_type": "display_data",
          "data": {
            "image/png": "[encoded data removed]",
            "text/plain": [
              "<Figure size 432x288 with 2 Axes>"
            ]
          },
          "metadata": {
            "tags": []
          }
        }
      ]
    },
    {
      "cell_type": "markdown",
      "metadata": {
        "id": "2xjId18A9msT"
      },
      "source": [
        "# Decision Tree\r\n",
        "\r\n"
      ]
    },
    {
      "cell_type": "code",
      "metadata": {
        "colab": {
          "base_uri": "https://localhost:8080/"
        },
        "id": "PVHpRS5G9Xfj",
        "outputId": "796dccd6-aa62-4664-a8aa-d9bcad28c062"
      },
      "source": [
        "dtc=DecisionTreeClassifier()\r\n",
        "dtc.fit(x_train,y_train)"
      ],
      "execution_count": null,
      "outputs": [
        {
          "output_type": "execute_result",
          "data": {
            "text/plain": [
              "DecisionTreeClassifier(ccp_alpha=0.0, class_weight=None, criterion='gini',\n",
              "                       max_depth=None, max_features=None, max_leaf_nodes=None,\n",
              "                       min_impurity_decrease=0.0, min_impurity_split=None,\n",
              "                       min_samples_leaf=1, min_samples_split=2,\n",
              "                       min_weight_fraction_leaf=0.0, presort='deprecated',\n",
              "                       random_state=None, splitter='best')"
            ]
          },
          "metadata": {
            "tags": []
          },
          "execution_count": 64
        }
      ]
    },
    {
      "cell_type": "code",
      "metadata": {
        "colab": {
          "base_uri": "https://localhost:8080/"
        },
        "id": "X1EXiZDe96zT",
        "outputId": "cb5efa52-e485-4e76-9bc8-4d41f4d7df98"
      },
      "source": [
        "acc_dtc = cross_val_score(estimator = dtc, X = x_train, y = y_train, cv = kfold, scoring=scoring)\r\n",
        "acc_dtc.mean()"
      ],
      "execution_count": null,
      "outputs": [
        {
          "output_type": "execute_result",
          "data": {
            "text/plain": [
              "1.0"
            ]
          },
          "metadata": {
            "tags": []
          },
          "execution_count": 65
        }
      ]
    },
    {
      "cell_type": "code",
      "metadata": {
        "colab": {
          "base_uri": "https://localhost:8080/",
          "height": 173
        },
        "id": "Tk0LgO1y-B-g",
        "outputId": "feedb4a2-55c8-44ff-ec0f-ff880d906837"
      },
      "source": [
        "y_predict_r = dtc.predict(x_test)\r\n",
        "roc=roc_auc_score(y_test, y_predict_r)\r\n",
        "acc = accuracy_score(y_test, y_predict_r)\r\n",
        "prec = precision_score(y_test, y_predict_r)\r\n",
        "rec = recall_score(y_test, y_predict_r)\r\n",
        "f1 = f1_score(y_test, y_predict_r)\r\n",
        "\r\n",
        "model_results = pd.DataFrame([['Decision tree',acc, acc_dtc.mean(),prec,rec, f1,roc]],\r\n",
        "               columns = ['Model', 'Accuracy','Cross Val Accuracy', 'Precision', 'Recall', 'F1 Score','ROC'])\r\n",
        "results = results.append(model_results, ignore_index = True)\r\n",
        "results"
      ],
      "execution_count": null,
      "outputs": [
        {
          "output_type": "execute_result",
          "data": {
            "text/html": [
              "<div>\n",
              "<style scoped>\n",
              "    .dataframe tbody tr th:only-of-type {\n",
              "        vertical-align: middle;\n",
              "    }\n",
              "\n",
              "    .dataframe tbody tr th {\n",
              "        vertical-align: top;\n",
              "    }\n",
              "\n",
              "    .dataframe thead th {\n",
              "        text-align: right;\n",
              "    }\n",
              "</style>\n",
              "<table border=\"1\" class=\"dataframe\">\n",
              "  <thead>\n",
              "    <tr style=\"text-align: right;\">\n",
              "      <th></th>\n",
              "      <th>Model</th>\n",
              "      <th>Accuracy</th>\n",
              "      <th>Cross Val Accuracy</th>\n",
              "      <th>Precision</th>\n",
              "      <th>Recall</th>\n",
              "      <th>F1 Score</th>\n",
              "      <th>ROC</th>\n",
              "    </tr>\n",
              "  </thead>\n",
              "  <tbody>\n",
              "    <tr>\n",
              "      <th>0</th>\n",
              "      <td>Logistic Regression</td>\n",
              "      <td>1.00000</td>\n",
              "      <td>0.990323</td>\n",
              "      <td>1.0</td>\n",
              "      <td>1.000000</td>\n",
              "      <td>1.000000</td>\n",
              "      <td>1.000000</td>\n",
              "    </tr>\n",
              "    <tr>\n",
              "      <th>1</th>\n",
              "      <td>Random Forest</td>\n",
              "      <td>1.00000</td>\n",
              "      <td>0.998387</td>\n",
              "      <td>1.0</td>\n",
              "      <td>1.000000</td>\n",
              "      <td>1.000000</td>\n",
              "      <td>1.000000</td>\n",
              "    </tr>\n",
              "    <tr>\n",
              "      <th>2</th>\n",
              "      <td>KNeighbors</td>\n",
              "      <td>0.99359</td>\n",
              "      <td>0.969355</td>\n",
              "      <td>1.0</td>\n",
              "      <td>0.983607</td>\n",
              "      <td>0.991736</td>\n",
              "      <td>0.991803</td>\n",
              "    </tr>\n",
              "    <tr>\n",
              "      <th>3</th>\n",
              "      <td>Decision tree</td>\n",
              "      <td>1.00000</td>\n",
              "      <td>1.000000</td>\n",
              "      <td>1.0</td>\n",
              "      <td>1.000000</td>\n",
              "      <td>1.000000</td>\n",
              "      <td>1.000000</td>\n",
              "    </tr>\n",
              "  </tbody>\n",
              "</table>\n",
              "</div>"
            ],
            "text/plain": [
              "                 Model  Accuracy  ...  F1 Score       ROC\n",
              "0  Logistic Regression   1.00000  ...  1.000000  1.000000\n",
              "1        Random Forest   1.00000  ...  1.000000  1.000000\n",
              "2           KNeighbors   0.99359  ...  0.991736  0.991803\n",
              "3        Decision tree   1.00000  ...  1.000000  1.000000\n",
              "\n",
              "[4 rows x 7 columns]"
            ]
          },
          "metadata": {
            "tags": []
          },
          "execution_count": 66
        }
      ]
    },
    {
      "cell_type": "code",
      "metadata": {
        "colab": {
          "base_uri": "https://localhost:8080/",
          "height": 303
        },
        "id": "hSDjl6M1_4eR",
        "outputId": "2e1195fc-ae42-4789-98b3-e5faebf1612d"
      },
      "source": [
        "cm_dtc = confusion_matrix(y_test, y_predict_r)\r\n",
        "plt.title('Confusion matrix of the decision tree classifier')\r\n",
        "sns.heatmap(cm_dtc,annot=True,fmt=\"d\")\r\n",
        "plt.show()"
      ],
      "execution_count": null,
      "outputs": [
        {
          "output_type": "display_data",
          "data": {
            "image/png": "[encoded data removed]",
            "text/plain": [
              "<Figure size 432x288 with 2 Axes>"
            ]
          },
          "metadata": {
            "tags": []
          }
        }
      ]
    },
    {
      "cell_type": "markdown",
      "metadata": {
        "id": "UQo6_jDT_cRm"
      },
      "source": [
        "# GaussianNB"
      ]
    },
    {
      "cell_type": "code",
      "metadata": {
        "colab": {
          "base_uri": "https://localhost:8080/"
        },
        "id": "S5ncRn-m_p5x",
        "outputId": "8591fcbf-184b-4a3e-dc87-79d33831328a"
      },
      "source": [
        "nb=GaussianNB()\r\n",
        "nb.fit(x_train,y_train)"
      ],
      "execution_count": null,
      "outputs": [
        {
          "output_type": "execute_result",
          "data": {
            "text/plain": [
              "GaussianNB(priors=None, var_smoothing=1e-09)"
            ]
          },
          "metadata": {
            "tags": []
          },
          "execution_count": 82
        }
      ]
    },
    {
      "cell_type": "code",
      "metadata": {
        "colab": {
          "base_uri": "https://localhost:8080/"
        },
        "id": "Nbmstgn7_wob",
        "outputId": "25309f21-ee8b-4c3f-a6bc-bd3221785557"
      },
      "source": [
        "acc_nb = cross_val_score(estimator = nb, X = x_train, y = y_train, cv = kfold, scoring=scoring)\r\n",
        "acc_nb.mean()"
      ],
      "execution_count": null,
      "outputs": [
        {
          "output_type": "execute_result",
          "data": {
            "text/plain": [
              "0.9758064516129032"
            ]
          },
          "metadata": {
            "tags": []
          },
          "execution_count": 83
        }
      ]
    },
    {
      "cell_type": "code",
      "metadata": {
        "colab": {
          "base_uri": "https://localhost:8080/",
          "height": 204
        },
        "id": "tm61eI85_2Hh",
        "outputId": "9868c511-6223-4423-8ef9-c95b9b5dce63"
      },
      "source": [
        "y_predict_r = nb.predict(x_test)\r\n",
        "roc=roc_auc_score(y_test, y_predict_r)\r\n",
        "acc = accuracy_score(y_test, y_predict_r)\r\n",
        "prec = precision_score(y_test, y_predict_r)\r\n",
        "rec = recall_score(y_test, y_predict_r)\r\n",
        "f1 = f1_score(y_test, y_predict_r)\r\n",
        "\r\n",
        "model_results = pd.DataFrame([['GaussianNB',acc, acc_nb.mean(),prec,rec, f1,roc]],\r\n",
        "               columns = ['Model', 'Accuracy','Cross Val Accuracy', 'Precision', 'Recall', 'F1 Score','ROC'])\r\n",
        "results = results.append(model_results, ignore_index = True)\r\n",
        "results"
      ],
      "execution_count": null,
      "outputs": [
        {
          "output_type": "execute_result",
          "data": {
            "text/html": [
              "<div>\n",
              "<style scoped>\n",
              "    .dataframe tbody tr th:only-of-type {\n",
              "        vertical-align: middle;\n",
              "    }\n",
              "\n",
              "    .dataframe tbody tr th {\n",
              "        vertical-align: top;\n",
              "    }\n",
              "\n",
              "    .dataframe thead th {\n",
              "        text-align: right;\n",
              "    }\n",
              "</style>\n",
              "<table border=\"1\" class=\"dataframe\">\n",
              "  <thead>\n",
              "    <tr style=\"text-align: right;\">\n",
              "      <th></th>\n",
              "      <th>Model</th>\n",
              "      <th>Accuracy</th>\n",
              "      <th>Cross Val Accuracy</th>\n",
              "      <th>Precision</th>\n",
              "      <th>Recall</th>\n",
              "      <th>F1 Score</th>\n",
              "      <th>ROC</th>\n",
              "    </tr>\n",
              "  </thead>\n",
              "  <tbody>\n",
              "    <tr>\n",
              "      <th>0</th>\n",
              "      <td>Logistic Regression</td>\n",
              "      <td>1.000000</td>\n",
              "      <td>0.990323</td>\n",
              "      <td>1.000000</td>\n",
              "      <td>1.000000</td>\n",
              "      <td>1.000000</td>\n",
              "      <td>1.000000</td>\n",
              "    </tr>\n",
              "    <tr>\n",
              "      <th>1</th>\n",
              "      <td>Random Forest</td>\n",
              "      <td>1.000000</td>\n",
              "      <td>0.998387</td>\n",
              "      <td>1.000000</td>\n",
              "      <td>1.000000</td>\n",
              "      <td>1.000000</td>\n",
              "      <td>1.000000</td>\n",
              "    </tr>\n",
              "    <tr>\n",
              "      <th>2</th>\n",
              "      <td>KNeighbors</td>\n",
              "      <td>0.993590</td>\n",
              "      <td>0.969355</td>\n",
              "      <td>1.000000</td>\n",
              "      <td>0.983607</td>\n",
              "      <td>0.991736</td>\n",
              "      <td>0.991803</td>\n",
              "    </tr>\n",
              "    <tr>\n",
              "      <th>3</th>\n",
              "      <td>Decision tree</td>\n",
              "      <td>1.000000</td>\n",
              "      <td>1.000000</td>\n",
              "      <td>1.000000</td>\n",
              "      <td>1.000000</td>\n",
              "      <td>1.000000</td>\n",
              "      <td>1.000000</td>\n",
              "    </tr>\n",
              "    <tr>\n",
              "      <th>4</th>\n",
              "      <td>GaussianNB</td>\n",
              "      <td>0.980769</td>\n",
              "      <td>0.975806</td>\n",
              "      <td>0.953125</td>\n",
              "      <td>1.000000</td>\n",
              "      <td>0.976000</td>\n",
              "      <td>0.984211</td>\n",
              "    </tr>\n",
              "  </tbody>\n",
              "</table>\n",
              "</div>"
            ],
            "text/plain": [
              "                 Model  Accuracy  ...  F1 Score       ROC\n",
              "0  Logistic Regression  1.000000  ...  1.000000  1.000000\n",
              "1        Random Forest  1.000000  ...  1.000000  1.000000\n",
              "2           KNeighbors  0.993590  ...  0.991736  0.991803\n",
              "3        Decision tree  1.000000  ...  1.000000  1.000000\n",
              "4           GaussianNB  0.980769  ...  0.976000  0.984211\n",
              "\n",
              "[5 rows x 7 columns]"
            ]
          },
          "metadata": {
            "tags": []
          },
          "execution_count": 84
        }
      ]
    },
    {
      "cell_type": "code",
      "metadata": {
        "colab": {
          "base_uri": "https://localhost:8080/",
          "height": 303
        },
        "id": "WTreGb2bAXlb",
        "outputId": "beb21e14-4f02-4da5-9913-4e433a0392fb"
      },
      "source": [
        "cm_nb = confusion_matrix(y_test, y_predict_r)\r\n",
        "plt.title('Confusion matrix of the GaussianNB classifier')\r\n",
        "sns.heatmap(cm_nb,annot=True,fmt=\"d\")\r\n",
        "plt.show()"
      ],
      "execution_count": null,
      "outputs": [
        {
          "output_type": "display_data",
          "data": {
            "image/png": "[encoded data removed]",
            "text/plain": [
              "<Figure size 432x288 with 2 Axes>"
            ]
          },
          "metadata": {
            "tags": []
          }
        }
      ]
    },
    {
      "cell_type": "markdown",
      "metadata": {
        "id": "M9X0dkNJAneC"
      },
      "source": [
        "# SVC"
      ]
    },
    {
      "cell_type": "code",
      "metadata": {
        "colab": {
          "base_uri": "https://localhost:8080/"
        },
        "id": "FVGfHsQLAlYx",
        "outputId": "c78780ce-27b3-4e8a-e289-7b1d4299507a"
      },
      "source": [
        "svc=SVC(random_state=1)\r\n",
        "svc.fit(x_train,y_train)"
      ],
      "execution_count": null,
      "outputs": [
        {
          "output_type": "execute_result",
          "data": {
            "text/plain": [
              "SVC(C=1.0, break_ties=False, cache_size=200, class_weight=None, coef0=0.0,\n",
              "    decision_function_shape='ovr', degree=3, gamma='scale', kernel='rbf',\n",
              "    max_iter=-1, probability=False, random_state=1, shrinking=True, tol=0.001,\n",
              "    verbose=False)"
            ]
          },
          "metadata": {
            "tags": []
          },
          "execution_count": 86
        }
      ]
    },
    {
      "cell_type": "code",
      "metadata": {
        "colab": {
          "base_uri": "https://localhost:8080/"
        },
        "id": "beetGuqnAtzS",
        "outputId": "77826cf9-8953-4d06-dff4-ecd61defe091"
      },
      "source": [
        "acc_svc = cross_val_score(estimator = svc, X = x_train, y = y_train, cv = kfold, scoring=scoring)\r\n",
        "acc_svc.mean()"
      ],
      "execution_count": null,
      "outputs": [
        {
          "output_type": "execute_result",
          "data": {
            "text/plain": [
              "0.8709677419354838"
            ]
          },
          "metadata": {
            "tags": []
          },
          "execution_count": 87
        }
      ]
    },
    {
      "cell_type": "code",
      "metadata": {
        "colab": {
          "base_uri": "https://localhost:8080/",
          "height": 235
        },
        "id": "c-tvEFQVA0Bj",
        "outputId": "b7f284d9-bd62-494b-e768-452f6b0a23ce"
      },
      "source": [
        "y_predict_r = svc.predict(x_test)\r\n",
        "roc=roc_auc_score(y_test, y_predict_r)\r\n",
        "acc = accuracy_score(y_test, y_predict_r)\r\n",
        "prec = precision_score(y_test, y_predict_r)\r\n",
        "rec = recall_score(y_test, y_predict_r)\r\n",
        "f1 = f1_score(y_test, y_predict_r)\r\n",
        "\r\n",
        "model_results = pd.DataFrame([['SVC',acc, acc_svc.mean(),prec,rec, f1,roc]],\r\n",
        "               columns = ['Model', 'Accuracy','Cross Val Accuracy', 'Precision', 'Recall', 'F1 Score','ROC'])\r\n",
        "results = results.append(model_results, ignore_index = True)\r\n",
        "results"
      ],
      "execution_count": null,
      "outputs": [
        {
          "output_type": "execute_result",
          "data": {
            "text/html": [
              "<div>\n",
              "<style scoped>\n",
              "    .dataframe tbody tr th:only-of-type {\n",
              "        vertical-align: middle;\n",
              "    }\n",
              "\n",
              "    .dataframe tbody tr th {\n",
              "        vertical-align: top;\n",
              "    }\n",
              "\n",
              "    .dataframe thead th {\n",
              "        text-align: right;\n",
              "    }\n",
              "</style>\n",
              "<table border=\"1\" class=\"dataframe\">\n",
              "  <thead>\n",
              "    <tr style=\"text-align: right;\">\n",
              "      <th></th>\n",
              "      <th>Model</th>\n",
              "      <th>Accuracy</th>\n",
              "      <th>Cross Val Accuracy</th>\n",
              "      <th>Precision</th>\n",
              "      <th>Recall</th>\n",
              "      <th>F1 Score</th>\n",
              "      <th>ROC</th>\n",
              "    </tr>\n",
              "  </thead>\n",
              "  <tbody>\n",
              "    <tr>\n",
              "      <th>0</th>\n",
              "      <td>Logistic Regression</td>\n",
              "      <td>1.000000</td>\n",
              "      <td>0.990323</td>\n",
              "      <td>1.000000</td>\n",
              "      <td>1.000000</td>\n",
              "      <td>1.000000</td>\n",
              "      <td>1.000000</td>\n",
              "    </tr>\n",
              "    <tr>\n",
              "      <th>1</th>\n",
              "      <td>Random Forest</td>\n",
              "      <td>1.000000</td>\n",
              "      <td>0.998387</td>\n",
              "      <td>1.000000</td>\n",
              "      <td>1.000000</td>\n",
              "      <td>1.000000</td>\n",
              "      <td>1.000000</td>\n",
              "    </tr>\n",
              "    <tr>\n",
              "      <th>2</th>\n",
              "      <td>KNeighbors</td>\n",
              "      <td>0.993590</td>\n",
              "      <td>0.969355</td>\n",
              "      <td>1.000000</td>\n",
              "      <td>0.983607</td>\n",
              "      <td>0.991736</td>\n",
              "      <td>0.991803</td>\n",
              "    </tr>\n",
              "    <tr>\n",
              "      <th>3</th>\n",
              "      <td>Decision tree</td>\n",
              "      <td>1.000000</td>\n",
              "      <td>1.000000</td>\n",
              "      <td>1.000000</td>\n",
              "      <td>1.000000</td>\n",
              "      <td>1.000000</td>\n",
              "      <td>1.000000</td>\n",
              "    </tr>\n",
              "    <tr>\n",
              "      <th>4</th>\n",
              "      <td>GaussianNB</td>\n",
              "      <td>0.980769</td>\n",
              "      <td>0.975806</td>\n",
              "      <td>0.953125</td>\n",
              "      <td>1.000000</td>\n",
              "      <td>0.976000</td>\n",
              "      <td>0.984211</td>\n",
              "    </tr>\n",
              "    <tr>\n",
              "      <th>5</th>\n",
              "      <td>SVC</td>\n",
              "      <td>0.839744</td>\n",
              "      <td>0.870968</td>\n",
              "      <td>1.000000</td>\n",
              "      <td>0.590164</td>\n",
              "      <td>0.742268</td>\n",
              "      <td>0.795082</td>\n",
              "    </tr>\n",
              "  </tbody>\n",
              "</table>\n",
              "</div>"
            ],
            "text/plain": [
              "                 Model  Accuracy  ...  F1 Score       ROC\n",
              "0  Logistic Regression  1.000000  ...  1.000000  1.000000\n",
              "1        Random Forest  1.000000  ...  1.000000  1.000000\n",
              "2           KNeighbors  0.993590  ...  0.991736  0.991803\n",
              "3        Decision tree  1.000000  ...  1.000000  1.000000\n",
              "4           GaussianNB  0.980769  ...  0.976000  0.984211\n",
              "5                  SVC  0.839744  ...  0.742268  0.795082\n",
              "\n",
              "[6 rows x 7 columns]"
            ]
          },
          "metadata": {
            "tags": []
          },
          "execution_count": 88
        }
      ]
    },
    {
      "cell_type": "code",
      "metadata": {
        "colab": {
          "base_uri": "https://localhost:8080/",
          "height": 303
        },
        "id": "R7rzLGT-A_mC",
        "outputId": "ced69c98-e2a9-4421-e160-31816cc02ee6"
      },
      "source": [
        "cm_svc = confusion_matrix(y_test, y_predict_r)\r\n",
        "plt.title('Confusion matrix of the SVC classifier')\r\n",
        "sns.heatmap(cm_svc,annot=True,fmt=\"d\")\r\n",
        "plt.show()"
      ],
      "execution_count": null,
      "outputs": [
        {
          "output_type": "display_data",
          "data": {
            "image/png": "[encoded data removed]",
            "text/plain": [
              "<Figure size 432x288 with 2 Axes>"
            ]
          },
          "metadata": {
            "tags": []
          }
        }
      ]
    },
    {
      "cell_type": "markdown",
      "metadata": {
        "id": "mROK_YgWBd9j"
      },
      "source": [
        "# GradientBoosting Classifier"
      ]
    },
    {
      "cell_type": "code",
      "metadata": {
        "colab": {
          "base_uri": "https://localhost:8080/"
        },
        "id": "ef90hqGJBP2L",
        "outputId": "39f56994-72df-4e85-ec08-8adde8d929f3"
      },
      "source": [
        "gfc=GradientBoostingClassifier(n_estimators= 1000, max_leaf_nodes= 4, max_depth=None,random_state= 2,min_samples_split= 5)\r\n",
        "gfc.fit(x_train,y_train)"
      ],
      "execution_count": null,
      "outputs": [
        {
          "output_type": "execute_result",
          "data": {
            "text/plain": [
              "GradientBoostingClassifier(ccp_alpha=0.0, criterion='friedman_mse', init=None,\n",
              "                           learning_rate=0.1, loss='deviance', max_depth=None,\n",
              "                           max_features=None, max_leaf_nodes=4,\n",
              "                           min_impurity_decrease=0.0, min_impurity_split=None,\n",
              "                           min_samples_leaf=1, min_samples_split=5,\n",
              "                           min_weight_fraction_leaf=0.0, n_estimators=1000,\n",
              "                           n_iter_no_change=None, presort='deprecated',\n",
              "                           random_state=2, subsample=1.0, tol=0.0001,\n",
              "                           validation_fraction=0.1, verbose=0,\n",
              "                           warm_start=False)"
            ]
          },
          "metadata": {
            "tags": []
          },
          "execution_count": 90
        }
      ]
    },
    {
      "cell_type": "code",
      "metadata": {
        "colab": {
          "base_uri": "https://localhost:8080/"
        },
        "id": "JfxRebRdBU2F",
        "outputId": "3720e6ac-fb26-41f2-90fa-c96fd991b00e"
      },
      "source": [
        "acc_gfc = cross_val_score(estimator = gfc, X = x_train, y = y_train, cv = kfold, scoring=scoring)\r\n",
        "acc_gfc.mean()"
      ],
      "execution_count": null,
      "outputs": [
        {
          "output_type": "execute_result",
          "data": {
            "text/plain": [
              "1.0"
            ]
          },
          "metadata": {
            "tags": []
          },
          "execution_count": 91
        }
      ]
    },
    {
      "cell_type": "code",
      "metadata": {
        "colab": {
          "base_uri": "https://localhost:8080/",
          "height": 266
        },
        "id": "xzOYfEyjBqUp",
        "outputId": "6bff5ea4-6113-4765-bff1-7365413a04ab"
      },
      "source": [
        "y_predict_r = gfc.predict(x_test)\r\n",
        "roc=roc_auc_score(y_test, y_predict_r)\r\n",
        "acc = accuracy_score(y_test, y_predict_r)\r\n",
        "prec = precision_score(y_test, y_predict_r)\r\n",
        "rec = recall_score(y_test, y_predict_r)\r\n",
        "f1 = f1_score(y_test, y_predict_r)\r\n",
        "\r\n",
        "model_results = pd.DataFrame([['GradientBoosting',acc, acc_gfc.mean(),prec,rec, f1,roc]],\r\n",
        "               columns = ['Model', 'Accuracy','Cross Val Accuracy', 'Precision', 'Recall', 'F1 Score','ROC'])\r\n",
        "results = results.append(model_results, ignore_index = True)\r\n",
        "results"
      ],
      "execution_count": null,
      "outputs": [
        {
          "output_type": "execute_result",
          "data": {
            "text/html": [
              "<div>\n",
              "<style scoped>\n",
              "    .dataframe tbody tr th:only-of-type {\n",
              "        vertical-align: middle;\n",
              "    }\n",
              "\n",
              "    .dataframe tbody tr th {\n",
              "        vertical-align: top;\n",
              "    }\n",
              "\n",
              "    .dataframe thead th {\n",
              "        text-align: right;\n",
              "    }\n",
              "</style>\n",
              "<table border=\"1\" class=\"dataframe\">\n",
              "  <thead>\n",
              "    <tr style=\"text-align: right;\">\n",
              "      <th></th>\n",
              "      <th>Model</th>\n",
              "      <th>Accuracy</th>\n",
              "      <th>Cross Val Accuracy</th>\n",
              "      <th>Precision</th>\n",
              "      <th>Recall</th>\n",
              "      <th>F1 Score</th>\n",
              "      <th>ROC</th>\n",
              "    </tr>\n",
              "  </thead>\n",
              "  <tbody>\n",
              "    <tr>\n",
              "      <th>0</th>\n",
              "      <td>Logistic Regression</td>\n",
              "      <td>1.000000</td>\n",
              "      <td>0.990323</td>\n",
              "      <td>1.000000</td>\n",
              "      <td>1.000000</td>\n",
              "      <td>1.000000</td>\n",
              "      <td>1.000000</td>\n",
              "    </tr>\n",
              "    <tr>\n",
              "      <th>1</th>\n",
              "      <td>Random Forest</td>\n",
              "      <td>1.000000</td>\n",
              "      <td>0.998387</td>\n",
              "      <td>1.000000</td>\n",
              "      <td>1.000000</td>\n",
              "      <td>1.000000</td>\n",
              "      <td>1.000000</td>\n",
              "    </tr>\n",
              "    <tr>\n",
              "      <th>2</th>\n",
              "      <td>KNeighbors</td>\n",
              "      <td>0.993590</td>\n",
              "      <td>0.969355</td>\n",
              "      <td>1.000000</td>\n",
              "      <td>0.983607</td>\n",
              "      <td>0.991736</td>\n",
              "      <td>0.991803</td>\n",
              "    </tr>\n",
              "    <tr>\n",
              "      <th>3</th>\n",
              "      <td>Decision tree</td>\n",
              "      <td>1.000000</td>\n",
              "      <td>1.000000</td>\n",
              "      <td>1.000000</td>\n",
              "      <td>1.000000</td>\n",
              "      <td>1.000000</td>\n",
              "      <td>1.000000</td>\n",
              "    </tr>\n",
              "    <tr>\n",
              "      <th>4</th>\n",
              "      <td>GaussianNB</td>\n",
              "      <td>0.980769</td>\n",
              "      <td>0.975806</td>\n",
              "      <td>0.953125</td>\n",
              "      <td>1.000000</td>\n",
              "      <td>0.976000</td>\n",
              "      <td>0.984211</td>\n",
              "    </tr>\n",
              "    <tr>\n",
              "      <th>5</th>\n",
              "      <td>SVC</td>\n",
              "      <td>0.839744</td>\n",
              "      <td>0.870968</td>\n",
              "      <td>1.000000</td>\n",
              "      <td>0.590164</td>\n",
              "      <td>0.742268</td>\n",
              "      <td>0.795082</td>\n",
              "    </tr>\n",
              "    <tr>\n",
              "      <th>6</th>\n",
              "      <td>GradientBoosting</td>\n",
              "      <td>1.000000</td>\n",
              "      <td>1.000000</td>\n",
              "      <td>1.000000</td>\n",
              "      <td>1.000000</td>\n",
              "      <td>1.000000</td>\n",
              "      <td>1.000000</td>\n",
              "    </tr>\n",
              "  </tbody>\n",
              "</table>\n",
              "</div>"
            ],
            "text/plain": [
              "                 Model  Accuracy  ...  F1 Score       ROC\n",
              "0  Logistic Regression  1.000000  ...  1.000000  1.000000\n",
              "1        Random Forest  1.000000  ...  1.000000  1.000000\n",
              "2           KNeighbors  0.993590  ...  0.991736  0.991803\n",
              "3        Decision tree  1.000000  ...  1.000000  1.000000\n",
              "4           GaussianNB  0.980769  ...  0.976000  0.984211\n",
              "5                  SVC  0.839744  ...  0.742268  0.795082\n",
              "6     GradientBoosting  1.000000  ...  1.000000  1.000000\n",
              "\n",
              "[7 rows x 7 columns]"
            ]
          },
          "metadata": {
            "tags": []
          },
          "execution_count": 92
        }
      ]
    },
    {
      "cell_type": "code",
      "metadata": {
        "colab": {
          "base_uri": "https://localhost:8080/",
          "height": 303
        },
        "id": "f_z6Nb5BB21e",
        "outputId": "2d08fc4d-dc64-487b-fb71-4e830ddc48e8"
      },
      "source": [
        "cm_gfc = confusion_matrix(y_test, y_predict_r)\r\n",
        "plt.title('Confusion matrix of the GradientBoosting classifier')\r\n",
        "sns.heatmap(cm_gfc,annot=True,fmt=\"d\")\r\n",
        "plt.show()"
      ],
      "execution_count": null,
      "outputs": [
        {
          "output_type": "display_data",
          "data": {
            "image/png": "[encoded data removed]",
            "text/plain": [
              "<Figure size 432x288 with 2 Axes>"
            ]
          },
          "metadata": {
            "tags": []
          }
        }
      ]
    },
    {
      "cell_type": "markdown",
      "metadata": {
        "id": "Z3spY6-rCFAj"
      },
      "source": [
        "# AdaBoosting"
      ]
    },
    {
      "cell_type": "code",
      "metadata": {
        "colab": {
          "base_uri": "https://localhost:8080/"
        },
        "id": "8LhvZPq-CKJW",
        "outputId": "a4b10589-d666-42bf-f908-2a27f41b5134"
      },
      "source": [
        "abc=AdaBoostClassifier(n_estimators=100, random_state=0)\r\n",
        "abc.fit(x_train,y_train)"
      ],
      "execution_count": null,
      "outputs": [
        {
          "output_type": "execute_result",
          "data": {
            "text/plain": [
              "AdaBoostClassifier(algorithm='SAMME.R', base_estimator=None, learning_rate=1.0,\n",
              "                   n_estimators=100, random_state=0)"
            ]
          },
          "metadata": {
            "tags": []
          },
          "execution_count": 94
        }
      ]
    },
    {
      "cell_type": "code",
      "metadata": {
        "colab": {
          "base_uri": "https://localhost:8080/"
        },
        "id": "S5DOJd0ECLxj",
        "outputId": "80a71e5e-24c5-48f9-b431-1a85a082516c"
      },
      "source": [
        "acc_abc = cross_val_score(estimator = abc, X = x_train, y = y_train, cv = kfold, scoring=scoring)\r\n",
        "acc_abc.mean()"
      ],
      "execution_count": null,
      "outputs": [
        {
          "output_type": "execute_result",
          "data": {
            "text/plain": [
              "1.0"
            ]
          },
          "metadata": {
            "tags": []
          },
          "execution_count": 95
        }
      ]
    },
    {
      "cell_type": "code",
      "metadata": {
        "colab": {
          "base_uri": "https://localhost:8080/",
          "height": 297
        },
        "id": "yvN0H-2iCL9S",
        "outputId": "0cf87809-aec5-49ed-899e-982040327d30"
      },
      "source": [
        "y_predict_r = abc.predict(x_test)\r\n",
        "roc=roc_auc_score(y_test, y_predict_r)\r\n",
        "acc = accuracy_score(y_test, y_predict_r)\r\n",
        "prec = precision_score(y_test, y_predict_r)\r\n",
        "rec = recall_score(y_test, y_predict_r)\r\n",
        "f1 = f1_score(y_test, y_predict_r)\r\n",
        "\r\n",
        "model_results = pd.DataFrame([['AdaBoosting',acc, acc_abc.mean(),prec,rec, f1,roc]],\r\n",
        "               columns = ['Model', 'Accuracy','Cross Val Accuracy', 'Precision', 'Recall', 'F1 Score','ROC'])\r\n",
        "results = results.append(model_results, ignore_index = True)\r\n",
        "results"
      ],
      "execution_count": null,
      "outputs": [
        {
          "output_type": "execute_result",
          "data": {
            "text/html": [
              "<div>\n",
              "<style scoped>\n",
              "    .dataframe tbody tr th:only-of-type {\n",
              "        vertical-align: middle;\n",
              "    }\n",
              "\n",
              "    .dataframe tbody tr th {\n",
              "        vertical-align: top;\n",
              "    }\n",
              "\n",
              "    .dataframe thead th {\n",
              "        text-align: right;\n",
              "    }\n",
              "</style>\n",
              "<table border=\"1\" class=\"dataframe\">\n",
              "  <thead>\n",
              "    <tr style=\"text-align: right;\">\n",
              "      <th></th>\n",
              "      <th>Model</th>\n",
              "      <th>Accuracy</th>\n",
              "      <th>Cross Val Accuracy</th>\n",
              "      <th>Precision</th>\n",
              "      <th>Recall</th>\n",
              "      <th>F1 Score</th>\n",
              "      <th>ROC</th>\n",
              "    </tr>\n",
              "  </thead>\n",
              "  <tbody>\n",
              "    <tr>\n",
              "      <th>0</th>\n",
              "      <td>Logistic Regression</td>\n",
              "      <td>1.000000</td>\n",
              "      <td>0.990323</td>\n",
              "      <td>1.000000</td>\n",
              "      <td>1.000000</td>\n",
              "      <td>1.000000</td>\n",
              "      <td>1.000000</td>\n",
              "    </tr>\n",
              "    <tr>\n",
              "      <th>1</th>\n",
              "      <td>Random Forest</td>\n",
              "      <td>1.000000</td>\n",
              "      <td>0.998387</td>\n",
              "      <td>1.000000</td>\n",
              "      <td>1.000000</td>\n",
              "      <td>1.000000</td>\n",
              "      <td>1.000000</td>\n",
              "    </tr>\n",
              "    <tr>\n",
              "      <th>2</th>\n",
              "      <td>KNeighbors</td>\n",
              "      <td>0.993590</td>\n",
              "      <td>0.969355</td>\n",
              "      <td>1.000000</td>\n",
              "      <td>0.983607</td>\n",
              "      <td>0.991736</td>\n",
              "      <td>0.991803</td>\n",
              "    </tr>\n",
              "    <tr>\n",
              "      <th>3</th>\n",
              "      <td>Decision tree</td>\n",
              "      <td>1.000000</td>\n",
              "      <td>1.000000</td>\n",
              "      <td>1.000000</td>\n",
              "      <td>1.000000</td>\n",
              "      <td>1.000000</td>\n",
              "      <td>1.000000</td>\n",
              "    </tr>\n",
              "    <tr>\n",
              "      <th>4</th>\n",
              "      <td>GaussianNB</td>\n",
              "      <td>0.980769</td>\n",
              "      <td>0.975806</td>\n",
              "      <td>0.953125</td>\n",
              "      <td>1.000000</td>\n",
              "      <td>0.976000</td>\n",
              "      <td>0.984211</td>\n",
              "    </tr>\n",
              "    <tr>\n",
              "      <th>5</th>\n",
              "      <td>SVC</td>\n",
              "      <td>0.839744</td>\n",
              "      <td>0.870968</td>\n",
              "      <td>1.000000</td>\n",
              "      <td>0.590164</td>\n",
              "      <td>0.742268</td>\n",
              "      <td>0.795082</td>\n",
              "    </tr>\n",
              "    <tr>\n",
              "      <th>6</th>\n",
              "      <td>GradientBoosting</td>\n",
              "      <td>1.000000</td>\n",
              "      <td>1.000000</td>\n",
              "      <td>1.000000</td>\n",
              "      <td>1.000000</td>\n",
              "      <td>1.000000</td>\n",
              "      <td>1.000000</td>\n",
              "    </tr>\n",
              "    <tr>\n",
              "      <th>7</th>\n",
              "      <td>AdaBoosting</td>\n",
              "      <td>1.000000</td>\n",
              "      <td>1.000000</td>\n",
              "      <td>1.000000</td>\n",
              "      <td>1.000000</td>\n",
              "      <td>1.000000</td>\n",
              "      <td>1.000000</td>\n",
              "    </tr>\n",
              "  </tbody>\n",
              "</table>\n",
              "</div>"
            ],
            "text/plain": [
              "                 Model  Accuracy  ...  F1 Score       ROC\n",
              "0  Logistic Regression  1.000000  ...  1.000000  1.000000\n",
              "1        Random Forest  1.000000  ...  1.000000  1.000000\n",
              "2           KNeighbors  0.993590  ...  0.991736  0.991803\n",
              "3        Decision tree  1.000000  ...  1.000000  1.000000\n",
              "4           GaussianNB  0.980769  ...  0.976000  0.984211\n",
              "5                  SVC  0.839744  ...  0.742268  0.795082\n",
              "6     GradientBoosting  1.000000  ...  1.000000  1.000000\n",
              "7          AdaBoosting  1.000000  ...  1.000000  1.000000\n",
              "\n",
              "[8 rows x 7 columns]"
            ]
          },
          "metadata": {
            "tags": []
          },
          "execution_count": 96
        }
      ]
    },
    {
      "cell_type": "code",
      "metadata": {
        "colab": {
          "base_uri": "https://localhost:8080/",
          "height": 303
        },
        "id": "uMD0KsM7CMGj",
        "outputId": "8030fc73-a3dd-4518-8fb0-732c0cff248a"
      },
      "source": [
        "cm_abc = confusion_matrix(y_test, y_predict_r)\r\n",
        "plt.title('Confusion matrix of the AdaBoosting classifier')\r\n",
        "sns.heatmap(cm_abc,annot=True,fmt=\"d\")\r\n",
        "plt.show()"
      ],
      "execution_count": null,
      "outputs": [
        {
          "output_type": "display_data",
          "data": {
            "image/png": "[encoded data removed]",
            "text/plain": [
              "<Figure size 432x288 with 2 Axes>"
            ]
          },
          "metadata": {
            "tags": []
          }
        }
      ]
    },
    {
      "cell_type": "markdown",
      "metadata": {
        "id": "QLgAwP-xCnpC"
      },
      "source": [
        "# MLPClassifier"
      ]
    },
    {
      "cell_type": "code",
      "metadata": {
        "colab": {
          "base_uri": "https://localhost:8080/"
        },
        "id": "MMsh2BzwCvCN",
        "outputId": "cefaea4e-00e0-45a2-dc54-e039d5d4b902"
      },
      "source": [
        "mlp=MLPClassifier(alpha=1, max_iter=1000)\r\n",
        "mlp.fit(x_train,y_train)"
      ],
      "execution_count": null,
      "outputs": [
        {
          "output_type": "execute_result",
          "data": {
            "text/plain": [
              "MLPClassifier(activation='relu', alpha=1, batch_size='auto', beta_1=0.9,\n",
              "              beta_2=0.999, early_stopping=False, epsilon=1e-08,\n",
              "              hidden_layer_sizes=(100,), learning_rate='constant',\n",
              "              learning_rate_init=0.001, max_fun=15000, max_iter=1000,\n",
              "              momentum=0.9, n_iter_no_change=10, nesterovs_momentum=True,\n",
              "              power_t=0.5, random_state=None, shuffle=True, solver='adam',\n",
              "              tol=0.0001, validation_fraction=0.1, verbose=False,\n",
              "              warm_start=False)"
            ]
          },
          "metadata": {
            "tags": []
          },
          "execution_count": 98
        }
      ]
    },
    {
      "cell_type": "code",
      "metadata": {
        "colab": {
          "base_uri": "https://localhost:8080/"
        },
        "id": "VmgR9PsYCvL6",
        "outputId": "43b4a1c1-6e54-4d5e-df3d-c5989f80bf28"
      },
      "source": [
        "acc_mlp = cross_val_score(estimator = mlp, X = x_train, y = y_train, cv = kfold, scoring=scoring)\r\n",
        "acc_mlp.mean()"
      ],
      "execution_count": null,
      "outputs": [
        {
          "output_type": "execute_result",
          "data": {
            "text/plain": [
              "0.9919354838709676"
            ]
          },
          "metadata": {
            "tags": []
          },
          "execution_count": 99
        }
      ]
    },
    {
      "cell_type": "code",
      "metadata": {
        "colab": {
          "base_uri": "https://localhost:8080/",
          "height": 328
        },
        "id": "Fd_p84UZCvRb",
        "outputId": "622bc71f-d634-4f64-d792-273cc621fbeb"
      },
      "source": [
        "y_predict_r = mlp.predict(x_test)\r\n",
        "roc=roc_auc_score(y_test, y_predict_r)\r\n",
        "acc = accuracy_score(y_test, y_predict_r)\r\n",
        "prec = precision_score(y_test, y_predict_r)\r\n",
        "rec = recall_score(y_test, y_predict_r)\r\n",
        "f1 = f1_score(y_test, y_predict_r)\r\n",
        "\r\n",
        "model_results = pd.DataFrame([['MLP',acc, acc_mlp.mean(),prec,rec, f1,roc]],\r\n",
        "               columns = ['Model', 'Accuracy','Cross Val Accuracy', 'Precision', 'Recall', 'F1 Score','ROC'])\r\n",
        "results = results.append(model_results, ignore_index = True)\r\n",
        "results"
      ],
      "execution_count": null,
      "outputs": [
        {
          "output_type": "execute_result",
          "data": {
            "text/html": [
              "<div>\n",
              "<style scoped>\n",
              "    .dataframe tbody tr th:only-of-type {\n",
              "        vertical-align: middle;\n",
              "    }\n",
              "\n",
              "    .dataframe tbody tr th {\n",
              "        vertical-align: top;\n",
              "    }\n",
              "\n",
              "    .dataframe thead th {\n",
              "        text-align: right;\n",
              "    }\n",
              "</style>\n",
              "<table border=\"1\" class=\"dataframe\">\n",
              "  <thead>\n",
              "    <tr style=\"text-align: right;\">\n",
              "      <th></th>\n",
              "      <th>Model</th>\n",
              "      <th>Accuracy</th>\n",
              "      <th>Cross Val Accuracy</th>\n",
              "      <th>Precision</th>\n",
              "      <th>Recall</th>\n",
              "      <th>F1 Score</th>\n",
              "      <th>ROC</th>\n",
              "    </tr>\n",
              "  </thead>\n",
              "  <tbody>\n",
              "    <tr>\n",
              "      <th>0</th>\n",
              "      <td>Logistic Regression</td>\n",
              "      <td>1.000000</td>\n",
              "      <td>0.990323</td>\n",
              "      <td>1.000000</td>\n",
              "      <td>1.000000</td>\n",
              "      <td>1.000000</td>\n",
              "      <td>1.000000</td>\n",
              "    </tr>\n",
              "    <tr>\n",
              "      <th>1</th>\n",
              "      <td>Random Forest</td>\n",
              "      <td>1.000000</td>\n",
              "      <td>0.998387</td>\n",
              "      <td>1.000000</td>\n",
              "      <td>1.000000</td>\n",
              "      <td>1.000000</td>\n",
              "      <td>1.000000</td>\n",
              "    </tr>\n",
              "    <tr>\n",
              "      <th>2</th>\n",
              "      <td>KNeighbors</td>\n",
              "      <td>0.993590</td>\n",
              "      <td>0.969355</td>\n",
              "      <td>1.000000</td>\n",
              "      <td>0.983607</td>\n",
              "      <td>0.991736</td>\n",
              "      <td>0.991803</td>\n",
              "    </tr>\n",
              "    <tr>\n",
              "      <th>3</th>\n",
              "      <td>Decision tree</td>\n",
              "      <td>1.000000</td>\n",
              "      <td>1.000000</td>\n",
              "      <td>1.000000</td>\n",
              "      <td>1.000000</td>\n",
              "      <td>1.000000</td>\n",
              "      <td>1.000000</td>\n",
              "    </tr>\n",
              "    <tr>\n",
              "      <th>4</th>\n",
              "      <td>GaussianNB</td>\n",
              "      <td>0.980769</td>\n",
              "      <td>0.975806</td>\n",
              "      <td>0.953125</td>\n",
              "      <td>1.000000</td>\n",
              "      <td>0.976000</td>\n",
              "      <td>0.984211</td>\n",
              "    </tr>\n",
              "    <tr>\n",
              "      <th>5</th>\n",
              "      <td>SVC</td>\n",
              "      <td>0.839744</td>\n",
              "      <td>0.870968</td>\n",
              "      <td>1.000000</td>\n",
              "      <td>0.590164</td>\n",
              "      <td>0.742268</td>\n",
              "      <td>0.795082</td>\n",
              "    </tr>\n",
              "    <tr>\n",
              "      <th>6</th>\n",
              "      <td>GradientBoosting</td>\n",
              "      <td>1.000000</td>\n",
              "      <td>1.000000</td>\n",
              "      <td>1.000000</td>\n",
              "      <td>1.000000</td>\n",
              "      <td>1.000000</td>\n",
              "      <td>1.000000</td>\n",
              "    </tr>\n",
              "    <tr>\n",
              "      <th>7</th>\n",
              "      <td>AdaBoosting</td>\n",
              "      <td>1.000000</td>\n",
              "      <td>1.000000</td>\n",
              "      <td>1.000000</td>\n",
              "      <td>1.000000</td>\n",
              "      <td>1.000000</td>\n",
              "      <td>1.000000</td>\n",
              "    </tr>\n",
              "    <tr>\n",
              "      <th>8</th>\n",
              "      <td>MLP</td>\n",
              "      <td>1.000000</td>\n",
              "      <td>0.991935</td>\n",
              "      <td>1.000000</td>\n",
              "      <td>1.000000</td>\n",
              "      <td>1.000000</td>\n",
              "      <td>1.000000</td>\n",
              "    </tr>\n",
              "  </tbody>\n",
              "</table>\n",
              "</div>"
            ],
            "text/plain": [
              "                 Model  Accuracy  ...  F1 Score       ROC\n",
              "0  Logistic Regression  1.000000  ...  1.000000  1.000000\n",
              "1        Random Forest  1.000000  ...  1.000000  1.000000\n",
              "2           KNeighbors  0.993590  ...  0.991736  0.991803\n",
              "3        Decision tree  1.000000  ...  1.000000  1.000000\n",
              "4           GaussianNB  0.980769  ...  0.976000  0.984211\n",
              "5                  SVC  0.839744  ...  0.742268  0.795082\n",
              "6     GradientBoosting  1.000000  ...  1.000000  1.000000\n",
              "7          AdaBoosting  1.000000  ...  1.000000  1.000000\n",
              "8                  MLP  1.000000  ...  1.000000  1.000000\n",
              "\n",
              "[9 rows x 7 columns]"
            ]
          },
          "metadata": {
            "tags": []
          },
          "execution_count": 100
        }
      ]
    },
    {
      "cell_type": "code",
      "metadata": {
        "colab": {
          "base_uri": "https://localhost:8080/",
          "height": 303
        },
        "id": "DpyMrMu8CvVb",
        "outputId": "8a7dacb2-4e50-4398-a1a5-28118cf67f48"
      },
      "source": [
        "cm_mlp = confusion_matrix(y_test, y_predict_r)\r\n",
        "plt.title('Confusion matrix of the MLP classifier')\r\n",
        "sns.heatmap(cm_mlp,annot=True,fmt=\"d\")\r\n",
        "plt.show()"
      ],
      "execution_count": null,
      "outputs": [
        {
          "output_type": "display_data",
          "data": {
            "image/png": "[encoded data removed]",
            "text/plain": [
              "<Figure size 432x288 with 2 Axes>"
            ]
          },
          "metadata": {
            "tags": []
          }
        }
      ]
    },
    {
      "cell_type": "markdown",
      "metadata": {
        "id": "8ORK8F0kHzd_"
      },
      "source": [
        "# ROC Curve"
      ]
    },
    {
      "cell_type": "code",
      "metadata": {
        "colab": {
          "base_uri": "https://localhost:8080/",
          "height": 558
        },
        "id": "9pqBmzfBDFPF",
        "outputId": "da30b05f-1846-493c-e2ea-eb27321b5f88"
      },
      "source": [
        "plt.figure(figsize=(16,8))\r\n",
        "\r\n",
        "# Add the models to the list that you want to view on the ROC plot\r\n",
        "models = [\r\n",
        "{\r\n",
        "    'label': 'Logistic Regression',\r\n",
        "    'model': LogisticRegression(random_state = 0, penalty = 'l2'),\r\n",
        "},\r\n",
        "    {\r\n",
        "    'label': 'Random Forest Entropy',\r\n",
        "    'model': RandomForestClassifier(n_estimators = 100,criterion='entropy', random_state = 47),\r\n",
        "},    \r\n",
        "    {\r\n",
        "    'label': 'KNeighbors',\r\n",
        "    'model':  KNeighborsClassifier(n_neighbors = 4),\r\n",
        "},\r\n",
        "\r\n",
        "    {\r\n",
        "    'label': 'Decision Tree',\r\n",
        "    'model': DecisionTreeClassifier(),\r\n",
        "},\r\n",
        "        {\r\n",
        "    'label': 'GaussianNB',\r\n",
        "    'model': GaussianNB(),\r\n",
        "},\r\n",
        "      {\r\n",
        "    'label': 'SVC',\r\n",
        "    'model':  SVC(random_state=1, probability=True),\r\n",
        "},\r\n",
        "      {\r\n",
        "    'label': 'GradinetBoosting',\r\n",
        "    'model':  GradientBoostingClassifier(n_estimators= 1000, max_leaf_nodes= 4, max_depth=None,random_state= 2,min_samples_split= 5),\r\n",
        "},\r\n",
        "\r\n",
        "     {\r\n",
        "    'label': 'AdaBoosting',\r\n",
        "    'model':  AdaBoostClassifier(n_estimators=100, random_state=0),\r\n",
        "},\r\n",
        "    {\r\n",
        "    'label': 'MLP',\r\n",
        "    'model': MLPClassifier(alpha=1, max_iter=1000),\r\n",
        "},\r\n",
        "\r\n",
        "]\r\n",
        "\r\n",
        "# Below for loop iterates through your models list\r\n",
        "for m in models:\r\n",
        "    model = m['model'] # select the model\r\n",
        "    model.fit(x_train, y_train) # train the model\r\n",
        "    y_pred=model.predict(x_test) # predict the test data\r\n",
        "# Compute False postive rate, and True positive rate\r\n",
        "    fpr, tpr, thresholds = metrics.roc_curve(y_test, model.predict_proba(x_test)[:,1])\r\n",
        "# Calculate Area under the curve to display on the plot\r\n",
        "    auc = metrics.roc_auc_score(y_test,model.predict(x_test))\r\n",
        "# Now, plot the computed values\r\n",
        "    plt.plot(fpr, tpr, label='%s ROC (area = %0.2f)' % (m['label'], auc))\r\n",
        "# Custom settings for the plot \r\n",
        "plt.plot([0, 1], [0, 1],'r--')\r\n",
        "plt.xlim([0.0, 1.0])\r\n",
        "plt.ylim([0.0, 1.05])\r\n",
        "plt.xlabel('1-Specificity(False Positive Rate)')\r\n",
        "plt.ylabel('Sensitivity(True Positive Rate)')\r\n",
        "plt.title('Receiver Operating Characteristic')\r\n",
        "plt.annotate('Minimum ROC Score of 50% \\n (This is the minimum score to get)', xy=(0.5, 0.5), xytext=(0.6, 0.5),\r\n",
        "                arrowprops=dict(facecolor='red', shrink=0.05),\r\n",
        "                )\r\n",
        "plt.legend(loc=\"lower right\")\r\n",
        "plt.show()"
      ],
      "execution_count": null,
      "outputs": [
        {
          "output_type": "display_data",
          "data": {
            "image/png": "[encoded data removed]",
            "text/plain": [
              "<Figure size 1152x576 with 1 Axes>"
            ]
          },
          "metadata": {
            "tags": []
          }
        }
      ]
    }
  ]
}